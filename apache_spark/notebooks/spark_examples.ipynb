{
 "cells": [
  {
   "cell_type": "markdown",
   "metadata": {},
   "source": [
    "# Programming with RDDs\n",
    "\n",
    "#### Links\n",
    "\n",
    "* https://spark.apache.org/docs/1.6.0/programming-guide.html#resilient-distributed-datasets-rdds\n",
    "* https://spark.apache.org/docs/1.1.1/api/python/pyspark.rdd.RDD-class.html"
   ]
  },
  {
   "cell_type": "code",
   "execution_count": 1,
   "metadata": {
    "scrolled": false
   },
   "outputs": [],
   "source": [
    "%matplotlib inline\n",
    "%config InlineBackend.figure_format ='retina'\n",
    "\n",
    "import os\n",
    "import sys\n",
    "import glob\n",
    "import pickle\n",
    "import seaborn as sns\n",
    "import matplotlib.pyplot as plt\n",
    "import sys\n",
    "sys.path.append('./')\n",
    "\n",
    "from utils import *\n",
    "\n",
    "\n",
    "os.environ[\"PYSPARK_PYTHON\"] = \"/usr/bin/python3.5\""
   ]
  },
  {
   "cell_type": "code",
   "execution_count": 2,
   "metadata": {},
   "outputs": [
    {
     "name": "stdout",
     "output_type": "stream",
     "text": [
      "Welcome to\r\n",
      "      ____              __\r\n",
      "     / __/__  ___ _____/ /__\r\n",
      "    _\\ \\/ _ \\/ _ `/ __/  '_/\r\n",
      "   /___/ .__/\\_,_/_/ /_/\\_\\   version 1.6.0\r\n",
      "      /_/\r\n",
      "                        \r\n",
      "Type --help for more information.\r\n"
     ]
    }
   ],
   "source": [
    "!spark-submit --version"
   ]
  },
  {
   "cell_type": "markdown",
   "metadata": {},
   "source": [
    "## Запускаем Spark"
   ]
  },
  {
   "cell_type": "code",
   "execution_count": 3,
   "metadata": {},
   "outputs": [],
   "source": [
    "import pyspark\n",
    "from pyspark.conf import SparkConf\n",
    "from pyspark.sql import SQLContext\n",
    "\n",
    "\n",
    "conf = SparkConf()\n",
    "conf.setMaster(\"local[*]\")\n",
    "conf.set(\"spark.executor.memory\", \"6g\")\n",
    "conf.set(\"spark.core.connection.ack.wait.timeout\", \"1200\")\n",
    "\n",
    "# conf.set(\"spark.dynamicAllocation.enabled\", \"true\")\n",
    "# conf.set(\"spark.shuffle.service.enabled\", \"true\")\n",
    "# conf.set(\"spark.dynamicAllocation.initialExecutors\", 2)\n",
    "# conf.set(\"spark.dynamicAllocation.maxExecutors\", 2)\n",
    "\n",
    "sc = pyspark.SparkContext(conf = conf)\n",
    "sc.addPyFile('./utils.py')\n",
    "sqlContext = SQLContext(sc)"
   ]
  },
  {
   "cell_type": "markdown",
   "metadata": {},
   "source": [
    "## Работа с hdfs\n",
    "\n",
    "Утилитой командной строки -- `hdfs` (https://hadoop.apache.org/docs/current/hadoop-project-dist/hadoop-common/FileSystemShell.html)\n",
    "\n",
    "Полезные команды:\n",
    "* `hdfs dfs -ls [<path>]`\n",
    "* `hdfs dfs -rm <path>`\n",
    "* `hdfs dfs -mv <src> <dst>`\n",
    "* `hdfs dfs -copyToLocal <src> <dst local>`\n",
    "* `hdfs dfs -copyFromLocal <src local> <dst>`\n",
    "\n",
    "\n",
    "### Копирование данных\n",
    "\n",
    "Прежде чем начать работать с самим данными их нужно сохранить в hdfs.\n",
    "\n",
    "1. Запустите terminal через Jupyter\n",
    "2. `hdfs dfs -copyFromLocal data .`\n",
    "\n",
    "\n",
    "Проверяем, что все данные на месте"
   ]
  },
  {
   "cell_type": "code",
   "execution_count": 4,
   "metadata": {
    "scrolled": true
   },
   "outputs": [
    {
     "name": "stdout",
     "output_type": "stream",
     "text": [
      "Found 8 items\r\n",
      "-rw-r--r--   1 root supergroup      11563 2020-02-04 22:07 data/ml-10m/README.html\r\n",
      "-rw-r--r--   1 root supergroup        753 2020-02-04 22:07 data/ml-10m/allbut.pl\r\n",
      "-rw-r--r--   1 root supergroup    1368578 2020-02-04 22:07 data/ml-10m/links.csv\r\n",
      "-rw-r--r--   1 root supergroup     500856 2020-02-04 22:07 data/ml-10m/movies.csv\r\n",
      "-rw-r--r--   1 root supergroup  235105505 2020-02-04 22:07 data/ml-10m/ratings.csv\r\n",
      "-rw-r--r--   1 root supergroup       1304 2020-02-04 22:07 data/ml-10m/split_ratings.sh\r\n",
      "-rw-r--r--   1 root supergroup    3297408 2020-02-04 22:07 data/ml-10m/tags.csv\r\n",
      "-rw-r--r--   1 root supergroup  404281742 2020-02-04 22:07 data/ml-10m/tmdb.json\r\n"
     ]
    }
   ],
   "source": [
    "!hdfs dfs -ls data/ml-10m/"
   ]
  },
  {
   "cell_type": "markdown",
   "metadata": {},
   "source": [
    "### Чтение данных\n",
    "\n",
    "*Замечание*: Файл `ml-25m-README.htm` содержит описание данных"
   ]
  },
  {
   "cell_type": "code",
   "execution_count": 5,
   "metadata": {},
   "outputs": [],
   "source": [
    "DATA_PATH = 'data/ml-10m'\n",
    "\n",
    "RATINGS_PATH = os.path.join(DATA_PATH, 'ratings.csv')\n",
    "MOVIES_PATH = os.path.join(DATA_PATH, 'movies.csv')\n",
    "TAGS_PATH = os.path.join(DATA_PATH, 'tags.csv')"
   ]
  },
  {
   "cell_type": "code",
   "execution_count": 6,
   "metadata": {},
   "outputs": [],
   "source": [
    "ratings = sc.textFile(RATINGS_PATH)"
   ]
  },
  {
   "cell_type": "code",
   "execution_count": 7,
   "metadata": {},
   "outputs": [
    {
     "data": {
      "text/plain": [
       "['userId,movieId,rating,timestamp',\n",
       " '1,122,5,838985046',\n",
       " '1,185,5,838983525',\n",
       " '1,231,5,838983392',\n",
       " '1,292,5,838983421']"
      ]
     },
     "execution_count": 7,
     "metadata": {},
     "output_type": "execute_result"
    }
   ],
   "source": [
    "ratings.take(5)"
   ]
  },
  {
   "cell_type": "code",
   "execution_count": 8,
   "metadata": {},
   "outputs": [
    {
     "data": {
      "text/plain": [
       "2"
      ]
     },
     "execution_count": 8,
     "metadata": {},
     "output_type": "execute_result"
    }
   ],
   "source": [
    "ratings.getNumPartitions()"
   ]
  },
  {
   "cell_type": "code",
   "execution_count": 9,
   "metadata": {},
   "outputs": [],
   "source": [
    "ratings = ratings \\\n",
    "    .map(lambda s: s.split(',')) \\\n",
    "    .filter(lambda arr: arr[0].isdigit()) \\\n",
    "    .map(lambda arr: Rating(user_id=int(arr[0]), \n",
    "                            movie_id=int(arr[1]), \n",
    "                            rating=float(arr[2]), \n",
    "                            timestamp=int(arr[3])))"
   ]
  },
  {
   "cell_type": "code",
   "execution_count": 10,
   "metadata": {},
   "outputs": [
    {
     "data": {
      "text/plain": [
       "10000054"
      ]
     },
     "execution_count": 10,
     "metadata": {},
     "output_type": "execute_result"
    }
   ],
   "source": [
    "ratings.count()"
   ]
  },
  {
   "cell_type": "markdown",
   "metadata": {},
   "source": [
    "Количество пользователей"
   ]
  },
  {
   "cell_type": "code",
   "execution_count": 11,
   "metadata": {},
   "outputs": [
    {
     "name": "stdout",
     "output_type": "stream",
     "text": [
      "CPU times: user 27.6 ms, sys: 7.59 ms, total: 35.2 ms\n",
      "Wall time: 39.9 s\n"
     ]
    },
    {
     "data": {
      "text/plain": [
       "69878"
      ]
     },
     "execution_count": 11,
     "metadata": {},
     "output_type": "execute_result"
    }
   ],
   "source": [
    "%%time\n",
    "\n",
    "ratings \\\n",
    "    .map(lambda r: r.user_id)\\\n",
    "    .distinct()\\\n",
    "    .count()"
   ]
  },
  {
   "cell_type": "markdown",
   "metadata": {},
   "source": [
    "Сохраним датасет в память"
   ]
  },
  {
   "cell_type": "code",
   "execution_count": 10,
   "metadata": {},
   "outputs": [],
   "source": [
    "ratings = ratings.persist()"
   ]
  },
  {
   "cell_type": "code",
   "execution_count": 13,
   "metadata": {},
   "outputs": [
    {
     "name": "stdout",
     "output_type": "stream",
     "text": [
      "CPU times: user 34.9 ms, sys: 0 ns, total: 34.9 ms\n",
      "Wall time: 1min 1s\n"
     ]
    },
    {
     "data": {
      "text/plain": [
       "69878"
      ]
     },
     "execution_count": 13,
     "metadata": {},
     "output_type": "execute_result"
    }
   ],
   "source": [
    "%%time\n",
    "\n",
    "ratings \\\n",
    "    .map(lambda r: r.user_id)\\\n",
    "    .distinct()\\\n",
    "    .count()"
   ]
  },
  {
   "cell_type": "markdown",
   "metadata": {},
   "source": [
    "Количество фильмов"
   ]
  },
  {
   "cell_type": "code",
   "execution_count": 14,
   "metadata": {},
   "outputs": [
    {
     "data": {
      "text/plain": [
       "10677"
      ]
     },
     "execution_count": 14,
     "metadata": {},
     "output_type": "execute_result"
    }
   ],
   "source": [
    "ratings \\\n",
    "    .map(lambda r: r.movie_id)\\\n",
    "    .distinct()\\\n",
    "    .count()"
   ]
  },
  {
   "cell_type": "markdown",
   "metadata": {},
   "source": [
    "## Упражнения"
   ]
  },
  {
   "cell_type": "markdown",
   "metadata": {},
   "source": [
    "### Фильмы с наибольшим средним рейтингом\n",
    "\n",
    "Найти 10 фильмов с наибольшим средним рейтингом. Вывести их названия и средний рейтинг"
   ]
  },
  {
   "cell_type": "code",
   "execution_count": 17,
   "metadata": {},
   "outputs": [
    {
     "data": {
      "text/plain": [
       "['movieId,title,genres',\n",
       " '1,Toy Story (1995),Adventure|Animation|Children|Comedy|Fantasy',\n",
       " '2,Jumanji (1995),Adventure|Children|Fantasy',\n",
       " '3,Grumpier Old Men (1995),Comedy|Romance',\n",
       " '4,Waiting to Exhale (1995),Comedy|Drama|Romance']"
      ]
     },
     "execution_count": 17,
     "metadata": {},
     "output_type": "execute_result"
    }
   ],
   "source": [
    "movies = sc.textFile(MOVIES_PATH)\n",
    "movies.take(5)"
   ]
  },
  {
   "cell_type": "code",
   "execution_count": 18,
   "metadata": {},
   "outputs": [
    {
     "data": {
      "text/plain": [
       "[(1, ['1', 'Toy Story (1995)']),\n",
       " (2, ['2', 'Jumanji (1995)']),\n",
       " (3, ['3', 'Grumpier Old Men (1995)']),\n",
       " (4, ['4', 'Waiting to Exhale (1995)']),\n",
       " (5, ['5', 'Father of the Bride Part II (1995)'])]"
      ]
     },
     "execution_count": 18,
     "metadata": {},
     "output_type": "execute_result"
    }
   ],
   "source": [
    "movies_no_genre = movies \\\n",
    "    .map(lambda s: s.split(',')[:2]) \\\n",
    "    .filter(lambda arr: arr[0].isdigit()) \\\n",
    "    .keyBy(lambda arr: int(arr[0]))\n",
    "movies_no_genre.take(5)"
   ]
  },
  {
   "cell_type": "code",
   "execution_count": 114,
   "metadata": {},
   "outputs": [
    {
     "data": {
      "text/plain": [
       "[(2, 3.208070146276596),\n",
       " (4, 2.860544217687075),\n",
       " (40966, 3.0408653846153846),\n",
       " (8, 3.131256952169077),\n",
       " (51884, 3.7896039603960396)]"
      ]
     },
     "execution_count": 114,
     "metadata": {},
     "output_type": "execute_result"
    }
   ],
   "source": [
    "movie_avg_rating = ratings \\\n",
    "    .map(lambda r: (r.movie_id, (r.rating, 1))) \\\n",
    "    .reduceByKey(lambda a, b: (a[0] + b[0], a[1] + b[1])) \\\n",
    "    .mapValues(lambda ratings: ratings[0] / ratings[1])\n",
    "movie_avg_rating.take(5)"
   ]
  },
  {
   "cell_type": "code",
   "execution_count": 79,
   "metadata": {
    "collapsed": true
   },
   "outputs": [
    {
     "ename": "KeyboardInterrupt",
     "evalue": "",
     "output_type": "error",
     "traceback": [
      "\u001b[0;31m---------------------------------------------------------------------------\u001b[0m",
      "\u001b[0;31mKeyboardInterrupt\u001b[0m                         Traceback (most recent call last)",
      "\u001b[0;32m<ipython-input-79-a35a0caf7eea>\u001b[0m in \u001b[0;36m<module>\u001b[0;34m\u001b[0m\n\u001b[1;32m      1\u001b[0m \u001b[0mmovie_avg_rating\u001b[0m\u001b[0;31m \u001b[0m\u001b[0;31m\\\u001b[0m\u001b[0;34m\u001b[0m\u001b[0m\n\u001b[1;32m      2\u001b[0m     \u001b[0;34m.\u001b[0m\u001b[0mjoin\u001b[0m\u001b[0;34m(\u001b[0m\u001b[0mmovies_no_genre\u001b[0m\u001b[0;34m)\u001b[0m\u001b[0;31m \u001b[0m\u001b[0;31m\\\u001b[0m\u001b[0;34m\u001b[0m\u001b[0m\n\u001b[0;32m----> 3\u001b[0;31m     \u001b[0;34m.\u001b[0m\u001b[0msortBy\u001b[0m\u001b[0;34m(\u001b[0m\u001b[0;32mlambda\u001b[0m \u001b[0mkey_value\u001b[0m\u001b[0;34m:\u001b[0m \u001b[0mkey_value\u001b[0m\u001b[0;34m[\u001b[0m\u001b[0;36m1\u001b[0m\u001b[0;34m]\u001b[0m\u001b[0;34m[\u001b[0m\u001b[0;36m0\u001b[0m\u001b[0;34m]\u001b[0m\u001b[0;34m,\u001b[0m \u001b[0mascending\u001b[0m\u001b[0;34m=\u001b[0m\u001b[0;32mFalse\u001b[0m\u001b[0;34m)\u001b[0m\u001b[0;31m\\\u001b[0m\u001b[0;34m\u001b[0m\u001b[0m\n\u001b[0m\u001b[1;32m      4\u001b[0m     \u001b[0;34m.\u001b[0m\u001b[0mtake\u001b[0m\u001b[0;34m(\u001b[0m\u001b[0;36m10\u001b[0m\u001b[0;34m)\u001b[0m\u001b[0;34m\u001b[0m\u001b[0m\n",
      "\u001b[0;32m/usr/lib/spark/python/pyspark/rdd.py\u001b[0m in \u001b[0;36msortBy\u001b[0;34m(self, keyfunc, ascending, numPartitions)\u001b[0m\n\u001b[1;32m    657\u001b[0m         \u001b[0;34m[\u001b[0m\u001b[0;34m(\u001b[0m\u001b[0;34m'a'\u001b[0m\u001b[0;34m,\u001b[0m \u001b[0;36m1\u001b[0m\u001b[0;34m)\u001b[0m\u001b[0;34m,\u001b[0m \u001b[0;34m(\u001b[0m\u001b[0;34m'b'\u001b[0m\u001b[0;34m,\u001b[0m \u001b[0;36m2\u001b[0m\u001b[0;34m)\u001b[0m\u001b[0;34m,\u001b[0m \u001b[0;34m(\u001b[0m\u001b[0;34m'1'\u001b[0m\u001b[0;34m,\u001b[0m \u001b[0;36m3\u001b[0m\u001b[0;34m)\u001b[0m\u001b[0;34m,\u001b[0m \u001b[0;34m(\u001b[0m\u001b[0;34m'd'\u001b[0m\u001b[0;34m,\u001b[0m \u001b[0;36m4\u001b[0m\u001b[0;34m)\u001b[0m\u001b[0;34m,\u001b[0m \u001b[0;34m(\u001b[0m\u001b[0;34m'2'\u001b[0m\u001b[0;34m,\u001b[0m \u001b[0;36m5\u001b[0m\u001b[0;34m)\u001b[0m\u001b[0;34m]\u001b[0m\u001b[0;34m\u001b[0m\u001b[0m\n\u001b[1;32m    658\u001b[0m         \"\"\"\n\u001b[0;32m--> 659\u001b[0;31m         \u001b[0;32mreturn\u001b[0m \u001b[0mself\u001b[0m\u001b[0;34m.\u001b[0m\u001b[0mkeyBy\u001b[0m\u001b[0;34m(\u001b[0m\u001b[0mkeyfunc\u001b[0m\u001b[0;34m)\u001b[0m\u001b[0;34m.\u001b[0m\u001b[0msortByKey\u001b[0m\u001b[0;34m(\u001b[0m\u001b[0mascending\u001b[0m\u001b[0;34m,\u001b[0m \u001b[0mnumPartitions\u001b[0m\u001b[0;34m)\u001b[0m\u001b[0;34m.\u001b[0m\u001b[0mvalues\u001b[0m\u001b[0;34m(\u001b[0m\u001b[0;34m)\u001b[0m\u001b[0;34m\u001b[0m\u001b[0m\n\u001b[0m\u001b[1;32m    660\u001b[0m \u001b[0;34m\u001b[0m\u001b[0m\n\u001b[1;32m    661\u001b[0m     \u001b[0;32mdef\u001b[0m \u001b[0mglom\u001b[0m\u001b[0;34m(\u001b[0m\u001b[0mself\u001b[0m\u001b[0;34m)\u001b[0m\u001b[0;34m:\u001b[0m\u001b[0;34m\u001b[0m\u001b[0m\n",
      "\u001b[0;32m/usr/lib/spark/python/pyspark/rdd.py\u001b[0m in \u001b[0;36msortByKey\u001b[0;34m(self, ascending, numPartitions, keyfunc)\u001b[0m\n\u001b[1;32m    625\u001b[0m         \u001b[0;31m# the key-space into bins such that the bins have roughly the same\u001b[0m\u001b[0;34m\u001b[0m\u001b[0;34m\u001b[0m\u001b[0m\n\u001b[1;32m    626\u001b[0m         \u001b[0;31m# number of (key, value) pairs falling into them\u001b[0m\u001b[0;34m\u001b[0m\u001b[0;34m\u001b[0m\u001b[0m\n\u001b[0;32m--> 627\u001b[0;31m         \u001b[0mrddSize\u001b[0m \u001b[0;34m=\u001b[0m \u001b[0mself\u001b[0m\u001b[0;34m.\u001b[0m\u001b[0mcount\u001b[0m\u001b[0;34m(\u001b[0m\u001b[0;34m)\u001b[0m\u001b[0;34m\u001b[0m\u001b[0m\n\u001b[0m\u001b[1;32m    628\u001b[0m         \u001b[0;32mif\u001b[0m \u001b[0;32mnot\u001b[0m \u001b[0mrddSize\u001b[0m\u001b[0;34m:\u001b[0m\u001b[0;34m\u001b[0m\u001b[0m\n\u001b[1;32m    629\u001b[0m             \u001b[0;32mreturn\u001b[0m \u001b[0mself\u001b[0m  \u001b[0;31m# empty RDD\u001b[0m\u001b[0;34m\u001b[0m\u001b[0m\n",
      "\u001b[0;32m/usr/lib/spark/python/pyspark/rdd.py\u001b[0m in \u001b[0;36mcount\u001b[0;34m(self)\u001b[0m\n\u001b[1;32m   1002\u001b[0m         \u001b[0;36m3\u001b[0m\u001b[0;34m\u001b[0m\u001b[0m\n\u001b[1;32m   1003\u001b[0m         \"\"\"\n\u001b[0;32m-> 1004\u001b[0;31m         \u001b[0;32mreturn\u001b[0m \u001b[0mself\u001b[0m\u001b[0;34m.\u001b[0m\u001b[0mmapPartitions\u001b[0m\u001b[0;34m(\u001b[0m\u001b[0;32mlambda\u001b[0m \u001b[0mi\u001b[0m\u001b[0;34m:\u001b[0m \u001b[0;34m[\u001b[0m\u001b[0msum\u001b[0m\u001b[0;34m(\u001b[0m\u001b[0;36m1\u001b[0m \u001b[0;32mfor\u001b[0m \u001b[0m_\u001b[0m \u001b[0;32min\u001b[0m \u001b[0mi\u001b[0m\u001b[0;34m)\u001b[0m\u001b[0;34m]\u001b[0m\u001b[0;34m)\u001b[0m\u001b[0;34m.\u001b[0m\u001b[0msum\u001b[0m\u001b[0;34m(\u001b[0m\u001b[0;34m)\u001b[0m\u001b[0;34m\u001b[0m\u001b[0m\n\u001b[0m\u001b[1;32m   1005\u001b[0m \u001b[0;34m\u001b[0m\u001b[0m\n\u001b[1;32m   1006\u001b[0m     \u001b[0;32mdef\u001b[0m \u001b[0mstats\u001b[0m\u001b[0;34m(\u001b[0m\u001b[0mself\u001b[0m\u001b[0;34m)\u001b[0m\u001b[0;34m:\u001b[0m\u001b[0;34m\u001b[0m\u001b[0m\n",
      "\u001b[0;32m/usr/lib/spark/python/pyspark/rdd.py\u001b[0m in \u001b[0;36msum\u001b[0;34m(self)\u001b[0m\n\u001b[1;32m    993\u001b[0m         \u001b[0;36m6.0\u001b[0m\u001b[0;34m\u001b[0m\u001b[0m\n\u001b[1;32m    994\u001b[0m         \"\"\"\n\u001b[0;32m--> 995\u001b[0;31m         \u001b[0;32mreturn\u001b[0m \u001b[0mself\u001b[0m\u001b[0;34m.\u001b[0m\u001b[0mmapPartitions\u001b[0m\u001b[0;34m(\u001b[0m\u001b[0;32mlambda\u001b[0m \u001b[0mx\u001b[0m\u001b[0;34m:\u001b[0m \u001b[0;34m[\u001b[0m\u001b[0msum\u001b[0m\u001b[0;34m(\u001b[0m\u001b[0mx\u001b[0m\u001b[0;34m)\u001b[0m\u001b[0;34m]\u001b[0m\u001b[0;34m)\u001b[0m\u001b[0;34m.\u001b[0m\u001b[0mfold\u001b[0m\u001b[0;34m(\u001b[0m\u001b[0;36m0\u001b[0m\u001b[0;34m,\u001b[0m \u001b[0moperator\u001b[0m\u001b[0;34m.\u001b[0m\u001b[0madd\u001b[0m\u001b[0;34m)\u001b[0m\u001b[0;34m\u001b[0m\u001b[0m\n\u001b[0m\u001b[1;32m    996\u001b[0m \u001b[0;34m\u001b[0m\u001b[0m\n\u001b[1;32m    997\u001b[0m     \u001b[0;32mdef\u001b[0m \u001b[0mcount\u001b[0m\u001b[0;34m(\u001b[0m\u001b[0mself\u001b[0m\u001b[0;34m)\u001b[0m\u001b[0;34m:\u001b[0m\u001b[0;34m\u001b[0m\u001b[0m\n",
      "\u001b[0;32m/usr/lib/spark/python/pyspark/rdd.py\u001b[0m in \u001b[0;36mfold\u001b[0;34m(self, zeroValue, op)\u001b[0m\n\u001b[1;32m    867\u001b[0m         \u001b[0;31m# zeroValue provided to each partition is unique from the one provided\u001b[0m\u001b[0;34m\u001b[0m\u001b[0;34m\u001b[0m\u001b[0m\n\u001b[1;32m    868\u001b[0m         \u001b[0;31m# to the final reduce call\u001b[0m\u001b[0;34m\u001b[0m\u001b[0;34m\u001b[0m\u001b[0m\n\u001b[0;32m--> 869\u001b[0;31m         \u001b[0mvals\u001b[0m \u001b[0;34m=\u001b[0m \u001b[0mself\u001b[0m\u001b[0;34m.\u001b[0m\u001b[0mmapPartitions\u001b[0m\u001b[0;34m(\u001b[0m\u001b[0mfunc\u001b[0m\u001b[0;34m)\u001b[0m\u001b[0;34m.\u001b[0m\u001b[0mcollect\u001b[0m\u001b[0;34m(\u001b[0m\u001b[0;34m)\u001b[0m\u001b[0;34m\u001b[0m\u001b[0m\n\u001b[0m\u001b[1;32m    870\u001b[0m         \u001b[0;32mreturn\u001b[0m \u001b[0mreduce\u001b[0m\u001b[0;34m(\u001b[0m\u001b[0mop\u001b[0m\u001b[0;34m,\u001b[0m \u001b[0mvals\u001b[0m\u001b[0;34m,\u001b[0m \u001b[0mzeroValue\u001b[0m\u001b[0;34m)\u001b[0m\u001b[0;34m\u001b[0m\u001b[0m\n\u001b[1;32m    871\u001b[0m \u001b[0;34m\u001b[0m\u001b[0m\n",
      "\u001b[0;32m/usr/lib/spark/python/pyspark/rdd.py\u001b[0m in \u001b[0;36mcollect\u001b[0;34m(self)\u001b[0m\n\u001b[1;32m    769\u001b[0m         \"\"\"\n\u001b[1;32m    770\u001b[0m         \u001b[0;32mwith\u001b[0m \u001b[0mSCCallSiteSync\u001b[0m\u001b[0;34m(\u001b[0m\u001b[0mself\u001b[0m\u001b[0;34m.\u001b[0m\u001b[0mcontext\u001b[0m\u001b[0;34m)\u001b[0m \u001b[0;32mas\u001b[0m \u001b[0mcss\u001b[0m\u001b[0;34m:\u001b[0m\u001b[0;34m\u001b[0m\u001b[0m\n\u001b[0;32m--> 771\u001b[0;31m             \u001b[0mport\u001b[0m \u001b[0;34m=\u001b[0m \u001b[0mself\u001b[0m\u001b[0;34m.\u001b[0m\u001b[0mctx\u001b[0m\u001b[0;34m.\u001b[0m\u001b[0m_jvm\u001b[0m\u001b[0;34m.\u001b[0m\u001b[0mPythonRDD\u001b[0m\u001b[0;34m.\u001b[0m\u001b[0mcollectAndServe\u001b[0m\u001b[0;34m(\u001b[0m\u001b[0mself\u001b[0m\u001b[0;34m.\u001b[0m\u001b[0m_jrdd\u001b[0m\u001b[0;34m.\u001b[0m\u001b[0mrdd\u001b[0m\u001b[0;34m(\u001b[0m\u001b[0;34m)\u001b[0m\u001b[0;34m)\u001b[0m\u001b[0;34m\u001b[0m\u001b[0m\n\u001b[0m\u001b[1;32m    772\u001b[0m         \u001b[0;32mreturn\u001b[0m \u001b[0mlist\u001b[0m\u001b[0;34m(\u001b[0m\u001b[0m_load_from_socket\u001b[0m\u001b[0;34m(\u001b[0m\u001b[0mport\u001b[0m\u001b[0;34m,\u001b[0m \u001b[0mself\u001b[0m\u001b[0;34m.\u001b[0m\u001b[0m_jrdd_deserializer\u001b[0m\u001b[0;34m)\u001b[0m\u001b[0;34m)\u001b[0m\u001b[0;34m\u001b[0m\u001b[0m\n\u001b[1;32m    773\u001b[0m \u001b[0;34m\u001b[0m\u001b[0m\n",
      "\u001b[0;32m/usr/lib/spark/python/lib/py4j-0.9-src.zip/py4j/java_gateway.py\u001b[0m in \u001b[0;36m__call__\u001b[0;34m(self, *args)\u001b[0m\n\u001b[1;32m    809\u001b[0m             \u001b[0mproto\u001b[0m\u001b[0;34m.\u001b[0m\u001b[0mEND_COMMAND_PART\u001b[0m\u001b[0;34m\u001b[0m\u001b[0m\n\u001b[1;32m    810\u001b[0m \u001b[0;34m\u001b[0m\u001b[0m\n\u001b[0;32m--> 811\u001b[0;31m         \u001b[0manswer\u001b[0m \u001b[0;34m=\u001b[0m \u001b[0mself\u001b[0m\u001b[0;34m.\u001b[0m\u001b[0mgateway_client\u001b[0m\u001b[0;34m.\u001b[0m\u001b[0msend_command\u001b[0m\u001b[0;34m(\u001b[0m\u001b[0mcommand\u001b[0m\u001b[0;34m)\u001b[0m\u001b[0;34m\u001b[0m\u001b[0m\n\u001b[0m\u001b[1;32m    812\u001b[0m         return_value = get_return_value(\n\u001b[1;32m    813\u001b[0m             answer, self.gateway_client, self.target_id, self.name)\n",
      "\u001b[0;32m/usr/lib/spark/python/lib/py4j-0.9-src.zip/py4j/java_gateway.py\u001b[0m in \u001b[0;36msend_command\u001b[0;34m(self, command, retry)\u001b[0m\n\u001b[1;32m    624\u001b[0m         \u001b[0mconnection\u001b[0m \u001b[0;34m=\u001b[0m \u001b[0mself\u001b[0m\u001b[0;34m.\u001b[0m\u001b[0m_get_connection\u001b[0m\u001b[0;34m(\u001b[0m\u001b[0;34m)\u001b[0m\u001b[0;34m\u001b[0m\u001b[0m\n\u001b[1;32m    625\u001b[0m         \u001b[0;32mtry\u001b[0m\u001b[0;34m:\u001b[0m\u001b[0;34m\u001b[0m\u001b[0m\n\u001b[0;32m--> 626\u001b[0;31m             \u001b[0mresponse\u001b[0m \u001b[0;34m=\u001b[0m \u001b[0mconnection\u001b[0m\u001b[0;34m.\u001b[0m\u001b[0msend_command\u001b[0m\u001b[0;34m(\u001b[0m\u001b[0mcommand\u001b[0m\u001b[0;34m)\u001b[0m\u001b[0;34m\u001b[0m\u001b[0m\n\u001b[0m\u001b[1;32m    627\u001b[0m             \u001b[0mself\u001b[0m\u001b[0;34m.\u001b[0m\u001b[0m_give_back_connection\u001b[0m\u001b[0;34m(\u001b[0m\u001b[0mconnection\u001b[0m\u001b[0;34m)\u001b[0m\u001b[0;34m\u001b[0m\u001b[0m\n\u001b[1;32m    628\u001b[0m         \u001b[0;32mexcept\u001b[0m \u001b[0mPy4JNetworkError\u001b[0m\u001b[0;34m:\u001b[0m\u001b[0;34m\u001b[0m\u001b[0m\n",
      "\u001b[0;32m/usr/lib/spark/python/lib/py4j-0.9-src.zip/py4j/java_gateway.py\u001b[0m in \u001b[0;36msend_command\u001b[0;34m(self, command)\u001b[0m\n\u001b[1;32m    738\u001b[0m         \u001b[0;32mtry\u001b[0m\u001b[0;34m:\u001b[0m\u001b[0;34m\u001b[0m\u001b[0m\n\u001b[1;32m    739\u001b[0m             \u001b[0mself\u001b[0m\u001b[0;34m.\u001b[0m\u001b[0msocket\u001b[0m\u001b[0;34m.\u001b[0m\u001b[0msendall\u001b[0m\u001b[0;34m(\u001b[0m\u001b[0mcommand\u001b[0m\u001b[0;34m.\u001b[0m\u001b[0mencode\u001b[0m\u001b[0;34m(\u001b[0m\u001b[0;34m\"utf-8\"\u001b[0m\u001b[0;34m)\u001b[0m\u001b[0;34m)\u001b[0m\u001b[0;34m\u001b[0m\u001b[0m\n\u001b[0;32m--> 740\u001b[0;31m             \u001b[0manswer\u001b[0m \u001b[0;34m=\u001b[0m \u001b[0msmart_decode\u001b[0m\u001b[0;34m(\u001b[0m\u001b[0mself\u001b[0m\u001b[0;34m.\u001b[0m\u001b[0mstream\u001b[0m\u001b[0;34m.\u001b[0m\u001b[0mreadline\u001b[0m\u001b[0;34m(\u001b[0m\u001b[0;34m)\u001b[0m\u001b[0;34m[\u001b[0m\u001b[0;34m:\u001b[0m\u001b[0;34m-\u001b[0m\u001b[0;36m1\u001b[0m\u001b[0;34m]\u001b[0m\u001b[0;34m)\u001b[0m\u001b[0;34m\u001b[0m\u001b[0m\n\u001b[0m\u001b[1;32m    741\u001b[0m             \u001b[0mlogger\u001b[0m\u001b[0;34m.\u001b[0m\u001b[0mdebug\u001b[0m\u001b[0;34m(\u001b[0m\u001b[0;34m\"Answer received: {0}\"\u001b[0m\u001b[0;34m.\u001b[0m\u001b[0mformat\u001b[0m\u001b[0;34m(\u001b[0m\u001b[0manswer\u001b[0m\u001b[0;34m)\u001b[0m\u001b[0;34m)\u001b[0m\u001b[0;34m\u001b[0m\u001b[0m\n\u001b[1;32m    742\u001b[0m             \u001b[0;31m# Happens when a the other end is dead. There might be an empty\u001b[0m\u001b[0;34m\u001b[0m\u001b[0;34m\u001b[0m\u001b[0m\n",
      "\u001b[0;32m/usr/lib64/python3.5/socket.py\u001b[0m in \u001b[0;36mreadinto\u001b[0;34m(self, b)\u001b[0m\n\u001b[1;32m    574\u001b[0m         \u001b[0;32mwhile\u001b[0m \u001b[0;32mTrue\u001b[0m\u001b[0;34m:\u001b[0m\u001b[0;34m\u001b[0m\u001b[0m\n\u001b[1;32m    575\u001b[0m             \u001b[0;32mtry\u001b[0m\u001b[0;34m:\u001b[0m\u001b[0;34m\u001b[0m\u001b[0m\n\u001b[0;32m--> 576\u001b[0;31m                 \u001b[0;32mreturn\u001b[0m \u001b[0mself\u001b[0m\u001b[0;34m.\u001b[0m\u001b[0m_sock\u001b[0m\u001b[0;34m.\u001b[0m\u001b[0mrecv_into\u001b[0m\u001b[0;34m(\u001b[0m\u001b[0mb\u001b[0m\u001b[0;34m)\u001b[0m\u001b[0;34m\u001b[0m\u001b[0m\n\u001b[0m\u001b[1;32m    577\u001b[0m             \u001b[0;32mexcept\u001b[0m \u001b[0mtimeout\u001b[0m\u001b[0;34m:\u001b[0m\u001b[0;34m\u001b[0m\u001b[0m\n\u001b[1;32m    578\u001b[0m                 \u001b[0mself\u001b[0m\u001b[0;34m.\u001b[0m\u001b[0m_timeout_occurred\u001b[0m \u001b[0;34m=\u001b[0m \u001b[0;32mTrue\u001b[0m\u001b[0;34m\u001b[0m\u001b[0m\n",
      "\u001b[0;31mKeyboardInterrupt\u001b[0m: "
     ]
    }
   ],
   "source": [
    "movie_avg_rating \\\n",
    "    .join(movies_no_genre) \\\n",
    "    .sortBy(lambda key_value: key_value[1][0], ascending=False)\\\n",
    "    .take(10)"
   ]
  },
  {
   "cell_type": "markdown",
   "metadata": {},
   "source": [
    "Сохраните `rdd`, состоящий из строк вида `<movie_id>,<average_rating>` на hdfs в виде текстового файла"
   ]
  },
  {
   "cell_type": "code",
   "execution_count": null,
   "metadata": {},
   "outputs": [],
   "source": [
    "movie_avg_rating\\\n",
    "    .repartition(10) \\\n",
    "    .saveAsTextFile(os.path.join(DATA_PATH, 'movie_avg_rating'))"
   ]
  },
  {
   "cell_type": "code",
   "execution_count": null,
   "metadata": {},
   "outputs": [],
   "source": [
    "! hdfs dfs -ls data/ml-25m/movie_avg_rating"
   ]
  },
  {
   "cell_type": "markdown",
   "metadata": {},
   "source": [
    "### Популярность тэгов\n",
    "\n",
    "Найти 20 наиболее популярных тэгов"
   ]
  },
  {
   "cell_type": "code",
   "execution_count": 14,
   "metadata": {},
   "outputs": [
    {
     "data": {
      "text/plain": [
       "['userId,movieId,tag,timestamp',\n",
       " '15,4973,excellent!,1215184630',\n",
       " '20,1747,politics,1188263867',\n",
       " '20,1747,satire,1188263867',\n",
       " '20,2424,chick flick 212,1188263835']"
      ]
     },
     "execution_count": 14,
     "metadata": {},
     "output_type": "execute_result"
    }
   ],
   "source": [
    "tags = sc.textFile(TAGS_PATH)\n",
    "tags.take(5)"
   ]
  },
  {
   "cell_type": "code",
   "execution_count": 20,
   "metadata": {},
   "outputs": [
    {
     "data": {
      "text/plain": [
       "16529"
      ]
     },
     "execution_count": 20,
     "metadata": {},
     "output_type": "execute_result"
    }
   ],
   "source": [
    "tags_count = tags\\\n",
    "    .map(lambda s: (s.split(',')[2], 1))\\\n",
    "    .reduceByKey(lambda a, b: a + b)\\\n",
    "    .collect()\n",
    "\n",
    "len(tags_count)"
   ]
  },
  {
   "cell_type": "code",
   "execution_count": 21,
   "metadata": {},
   "outputs": [],
   "source": [
    "tags_count = sorted(tags_count, key=lambda tag_count: tag_count[1], reverse=True)"
   ]
  },
  {
   "cell_type": "code",
   "execution_count": 22,
   "metadata": {},
   "outputs": [
    {
     "data": {
      "image/png": "[encoded data removed]",
      "text/plain": [
       "<Figure size 720x432 with 1 Axes>"
      ]
     },
     "metadata": {
      "image/png": {
       "height": 522,
       "width": 600
      },
      "needs_background": "light"
     },
     "output_type": "display_data"
    }
   ],
   "source": [
    "keys, values = zip(*tags_count[:20])\n",
    "\n",
    "f, ax = plt.subplots(figsize=(10, 6))\n",
    "plt.xticks(rotation=85, fontsize=15)\n",
    "plt.bar(keys, values, align=\"center\")\n",
    "plt.show()"
   ]
  },
  {
   "cell_type": "markdown",
   "metadata": {},
   "source": [
    "### Фильмы с наибольшим числом оценок\n",
    "\n",
    "Найти 10 фильмов с наибольшим числом оценок. Вывести их названия и число оценок"
   ]
  },
  {
   "cell_type": "code",
   "execution_count": 11,
   "metadata": {},
   "outputs": [
    {
     "data": {
      "text/plain": [
       "[(2, 12032), (4, 1764), (40966, 208), (8, 899), (51884, 202)]"
      ]
     },
     "execution_count": 11,
     "metadata": {},
     "output_type": "execute_result"
    }
   ],
   "source": [
    "movie_ratings_count = ratings \\\n",
    "    .map(lambda r: (r.movie_id, 1)) \\\n",
    "    .reduceByKey(lambda a, b: a + b)\n",
    "movie_ratings_count.take(5)"
   ]
  },
  {
   "cell_type": "code",
   "execution_count": 16,
   "metadata": {
    "collapsed": true
   },
   "outputs": [
    {
     "ename": "KeyboardInterrupt",
     "evalue": "",
     "output_type": "error",
     "traceback": [
      "\u001b[0;31m---------------------------------------------------------------------------\u001b[0m",
      "\u001b[0;31mKeyboardInterrupt\u001b[0m                         Traceback (most recent call last)",
      "\u001b[0;32m<ipython-input-16-0211a9d6b1f1>\u001b[0m in \u001b[0;36m<module>\u001b[0;34m\u001b[0m\n\u001b[1;32m      1\u001b[0m \u001b[0mmovie_ratings_count\u001b[0m\u001b[0;31m \u001b[0m\u001b[0;31m\\\u001b[0m\u001b[0;34m\u001b[0m\u001b[0m\n\u001b[1;32m      2\u001b[0m     \u001b[0;34m.\u001b[0m\u001b[0mjoin\u001b[0m\u001b[0;34m(\u001b[0m\u001b[0mmovies_no_genre\u001b[0m\u001b[0;34m)\u001b[0m\u001b[0;31m \u001b[0m\u001b[0;31m\\\u001b[0m\u001b[0;34m\u001b[0m\u001b[0m\n\u001b[0;32m----> 3\u001b[0;31m     \u001b[0;34m.\u001b[0m\u001b[0msortBy\u001b[0m\u001b[0;34m(\u001b[0m\u001b[0;32mlambda\u001b[0m \u001b[0mkey_value\u001b[0m\u001b[0;34m:\u001b[0m \u001b[0mkey_value\u001b[0m\u001b[0;34m[\u001b[0m\u001b[0;36m1\u001b[0m\u001b[0;34m]\u001b[0m\u001b[0;34m[\u001b[0m\u001b[0;36m0\u001b[0m\u001b[0;34m]\u001b[0m\u001b[0;34m,\u001b[0m \u001b[0mascending\u001b[0m\u001b[0;34m=\u001b[0m\u001b[0;32mFalse\u001b[0m\u001b[0;34m)\u001b[0m\u001b[0;31m\\\u001b[0m\u001b[0;34m\u001b[0m\u001b[0m\n\u001b[0m\u001b[1;32m      4\u001b[0m     \u001b[0;34m.\u001b[0m\u001b[0mtake\u001b[0m\u001b[0;34m(\u001b[0m\u001b[0;36m10\u001b[0m\u001b[0;34m)\u001b[0m\u001b[0;34m\u001b[0m\u001b[0m\n",
      "\u001b[0;32m/usr/lib/spark/python/pyspark/rdd.py\u001b[0m in \u001b[0;36msortBy\u001b[0;34m(self, keyfunc, ascending, numPartitions)\u001b[0m\n\u001b[1;32m    657\u001b[0m         \u001b[0;34m[\u001b[0m\u001b[0;34m(\u001b[0m\u001b[0;34m'a'\u001b[0m\u001b[0;34m,\u001b[0m \u001b[0;36m1\u001b[0m\u001b[0;34m)\u001b[0m\u001b[0;34m,\u001b[0m \u001b[0;34m(\u001b[0m\u001b[0;34m'b'\u001b[0m\u001b[0;34m,\u001b[0m \u001b[0;36m2\u001b[0m\u001b[0;34m)\u001b[0m\u001b[0;34m,\u001b[0m \u001b[0;34m(\u001b[0m\u001b[0;34m'1'\u001b[0m\u001b[0;34m,\u001b[0m \u001b[0;36m3\u001b[0m\u001b[0;34m)\u001b[0m\u001b[0;34m,\u001b[0m \u001b[0;34m(\u001b[0m\u001b[0;34m'd'\u001b[0m\u001b[0;34m,\u001b[0m \u001b[0;36m4\u001b[0m\u001b[0;34m)\u001b[0m\u001b[0;34m,\u001b[0m \u001b[0;34m(\u001b[0m\u001b[0;34m'2'\u001b[0m\u001b[0;34m,\u001b[0m \u001b[0;36m5\u001b[0m\u001b[0;34m)\u001b[0m\u001b[0;34m]\u001b[0m\u001b[0;34m\u001b[0m\u001b[0m\n\u001b[1;32m    658\u001b[0m         \"\"\"\n\u001b[0;32m--> 659\u001b[0;31m         \u001b[0;32mreturn\u001b[0m \u001b[0mself\u001b[0m\u001b[0;34m.\u001b[0m\u001b[0mkeyBy\u001b[0m\u001b[0;34m(\u001b[0m\u001b[0mkeyfunc\u001b[0m\u001b[0;34m)\u001b[0m\u001b[0;34m.\u001b[0m\u001b[0msortByKey\u001b[0m\u001b[0;34m(\u001b[0m\u001b[0mascending\u001b[0m\u001b[0;34m,\u001b[0m \u001b[0mnumPartitions\u001b[0m\u001b[0;34m)\u001b[0m\u001b[0;34m.\u001b[0m\u001b[0mvalues\u001b[0m\u001b[0;34m(\u001b[0m\u001b[0;34m)\u001b[0m\u001b[0;34m\u001b[0m\u001b[0m\n\u001b[0m\u001b[1;32m    660\u001b[0m \u001b[0;34m\u001b[0m\u001b[0m\n\u001b[1;32m    661\u001b[0m     \u001b[0;32mdef\u001b[0m \u001b[0mglom\u001b[0m\u001b[0;34m(\u001b[0m\u001b[0mself\u001b[0m\u001b[0;34m)\u001b[0m\u001b[0;34m:\u001b[0m\u001b[0;34m\u001b[0m\u001b[0m\n",
      "\u001b[0;32m/usr/lib/spark/python/pyspark/rdd.py\u001b[0m in \u001b[0;36msortByKey\u001b[0;34m(self, ascending, numPartitions, keyfunc)\u001b[0m\n\u001b[1;32m    625\u001b[0m         \u001b[0;31m# the key-space into bins such that the bins have roughly the same\u001b[0m\u001b[0;34m\u001b[0m\u001b[0;34m\u001b[0m\u001b[0m\n\u001b[1;32m    626\u001b[0m         \u001b[0;31m# number of (key, value) pairs falling into them\u001b[0m\u001b[0;34m\u001b[0m\u001b[0;34m\u001b[0m\u001b[0m\n\u001b[0;32m--> 627\u001b[0;31m         \u001b[0mrddSize\u001b[0m \u001b[0;34m=\u001b[0m \u001b[0mself\u001b[0m\u001b[0;34m.\u001b[0m\u001b[0mcount\u001b[0m\u001b[0;34m(\u001b[0m\u001b[0;34m)\u001b[0m\u001b[0;34m\u001b[0m\u001b[0m\n\u001b[0m\u001b[1;32m    628\u001b[0m         \u001b[0;32mif\u001b[0m \u001b[0;32mnot\u001b[0m \u001b[0mrddSize\u001b[0m\u001b[0;34m:\u001b[0m\u001b[0;34m\u001b[0m\u001b[0m\n\u001b[1;32m    629\u001b[0m             \u001b[0;32mreturn\u001b[0m \u001b[0mself\u001b[0m  \u001b[0;31m# empty RDD\u001b[0m\u001b[0;34m\u001b[0m\u001b[0m\n",
      "\u001b[0;32m/usr/lib/spark/python/pyspark/rdd.py\u001b[0m in \u001b[0;36mcount\u001b[0;34m(self)\u001b[0m\n\u001b[1;32m   1002\u001b[0m         \u001b[0;36m3\u001b[0m\u001b[0;34m\u001b[0m\u001b[0m\n\u001b[1;32m   1003\u001b[0m         \"\"\"\n\u001b[0;32m-> 1004\u001b[0;31m         \u001b[0;32mreturn\u001b[0m \u001b[0mself\u001b[0m\u001b[0;34m.\u001b[0m\u001b[0mmapPartitions\u001b[0m\u001b[0;34m(\u001b[0m\u001b[0;32mlambda\u001b[0m \u001b[0mi\u001b[0m\u001b[0;34m:\u001b[0m \u001b[0;34m[\u001b[0m\u001b[0msum\u001b[0m\u001b[0;34m(\u001b[0m\u001b[0;36m1\u001b[0m \u001b[0;32mfor\u001b[0m \u001b[0m_\u001b[0m \u001b[0;32min\u001b[0m \u001b[0mi\u001b[0m\u001b[0;34m)\u001b[0m\u001b[0;34m]\u001b[0m\u001b[0;34m)\u001b[0m\u001b[0;34m.\u001b[0m\u001b[0msum\u001b[0m\u001b[0;34m(\u001b[0m\u001b[0;34m)\u001b[0m\u001b[0;34m\u001b[0m\u001b[0m\n\u001b[0m\u001b[1;32m   1005\u001b[0m \u001b[0;34m\u001b[0m\u001b[0m\n\u001b[1;32m   1006\u001b[0m     \u001b[0;32mdef\u001b[0m \u001b[0mstats\u001b[0m\u001b[0;34m(\u001b[0m\u001b[0mself\u001b[0m\u001b[0;34m)\u001b[0m\u001b[0;34m:\u001b[0m\u001b[0;34m\u001b[0m\u001b[0m\n",
      "\u001b[0;32m/usr/lib/spark/python/pyspark/rdd.py\u001b[0m in \u001b[0;36msum\u001b[0;34m(self)\u001b[0m\n\u001b[1;32m    993\u001b[0m         \u001b[0;36m6.0\u001b[0m\u001b[0;34m\u001b[0m\u001b[0m\n\u001b[1;32m    994\u001b[0m         \"\"\"\n\u001b[0;32m--> 995\u001b[0;31m         \u001b[0;32mreturn\u001b[0m \u001b[0mself\u001b[0m\u001b[0;34m.\u001b[0m\u001b[0mmapPartitions\u001b[0m\u001b[0;34m(\u001b[0m\u001b[0;32mlambda\u001b[0m \u001b[0mx\u001b[0m\u001b[0;34m:\u001b[0m \u001b[0;34m[\u001b[0m\u001b[0msum\u001b[0m\u001b[0;34m(\u001b[0m\u001b[0mx\u001b[0m\u001b[0;34m)\u001b[0m\u001b[0;34m]\u001b[0m\u001b[0;34m)\u001b[0m\u001b[0;34m.\u001b[0m\u001b[0mfold\u001b[0m\u001b[0;34m(\u001b[0m\u001b[0;36m0\u001b[0m\u001b[0;34m,\u001b[0m \u001b[0moperator\u001b[0m\u001b[0;34m.\u001b[0m\u001b[0madd\u001b[0m\u001b[0;34m)\u001b[0m\u001b[0;34m\u001b[0m\u001b[0m\n\u001b[0m\u001b[1;32m    996\u001b[0m \u001b[0;34m\u001b[0m\u001b[0m\n\u001b[1;32m    997\u001b[0m     \u001b[0;32mdef\u001b[0m \u001b[0mcount\u001b[0m\u001b[0;34m(\u001b[0m\u001b[0mself\u001b[0m\u001b[0;34m)\u001b[0m\u001b[0;34m:\u001b[0m\u001b[0;34m\u001b[0m\u001b[0m\n",
      "\u001b[0;32m/usr/lib/spark/python/pyspark/rdd.py\u001b[0m in \u001b[0;36mfold\u001b[0;34m(self, zeroValue, op)\u001b[0m\n\u001b[1;32m    867\u001b[0m         \u001b[0;31m# zeroValue provided to each partition is unique from the one provided\u001b[0m\u001b[0;34m\u001b[0m\u001b[0;34m\u001b[0m\u001b[0m\n\u001b[1;32m    868\u001b[0m         \u001b[0;31m# to the final reduce call\u001b[0m\u001b[0;34m\u001b[0m\u001b[0;34m\u001b[0m\u001b[0m\n\u001b[0;32m--> 869\u001b[0;31m         \u001b[0mvals\u001b[0m \u001b[0;34m=\u001b[0m \u001b[0mself\u001b[0m\u001b[0;34m.\u001b[0m\u001b[0mmapPartitions\u001b[0m\u001b[0;34m(\u001b[0m\u001b[0mfunc\u001b[0m\u001b[0;34m)\u001b[0m\u001b[0;34m.\u001b[0m\u001b[0mcollect\u001b[0m\u001b[0;34m(\u001b[0m\u001b[0;34m)\u001b[0m\u001b[0;34m\u001b[0m\u001b[0m\n\u001b[0m\u001b[1;32m    870\u001b[0m         \u001b[0;32mreturn\u001b[0m \u001b[0mreduce\u001b[0m\u001b[0;34m(\u001b[0m\u001b[0mop\u001b[0m\u001b[0;34m,\u001b[0m \u001b[0mvals\u001b[0m\u001b[0;34m,\u001b[0m \u001b[0mzeroValue\u001b[0m\u001b[0;34m)\u001b[0m\u001b[0;34m\u001b[0m\u001b[0m\n\u001b[1;32m    871\u001b[0m \u001b[0;34m\u001b[0m\u001b[0m\n",
      "\u001b[0;32m/usr/lib/spark/python/pyspark/rdd.py\u001b[0m in \u001b[0;36mcollect\u001b[0;34m(self)\u001b[0m\n\u001b[1;32m    769\u001b[0m         \"\"\"\n\u001b[1;32m    770\u001b[0m         \u001b[0;32mwith\u001b[0m \u001b[0mSCCallSiteSync\u001b[0m\u001b[0;34m(\u001b[0m\u001b[0mself\u001b[0m\u001b[0;34m.\u001b[0m\u001b[0mcontext\u001b[0m\u001b[0;34m)\u001b[0m \u001b[0;32mas\u001b[0m \u001b[0mcss\u001b[0m\u001b[0;34m:\u001b[0m\u001b[0;34m\u001b[0m\u001b[0m\n\u001b[0;32m--> 771\u001b[0;31m             \u001b[0mport\u001b[0m \u001b[0;34m=\u001b[0m \u001b[0mself\u001b[0m\u001b[0;34m.\u001b[0m\u001b[0mctx\u001b[0m\u001b[0;34m.\u001b[0m\u001b[0m_jvm\u001b[0m\u001b[0;34m.\u001b[0m\u001b[0mPythonRDD\u001b[0m\u001b[0;34m.\u001b[0m\u001b[0mcollectAndServe\u001b[0m\u001b[0;34m(\u001b[0m\u001b[0mself\u001b[0m\u001b[0;34m.\u001b[0m\u001b[0m_jrdd\u001b[0m\u001b[0;34m.\u001b[0m\u001b[0mrdd\u001b[0m\u001b[0;34m(\u001b[0m\u001b[0;34m)\u001b[0m\u001b[0;34m)\u001b[0m\u001b[0;34m\u001b[0m\u001b[0m\n\u001b[0m\u001b[1;32m    772\u001b[0m         \u001b[0;32mreturn\u001b[0m \u001b[0mlist\u001b[0m\u001b[0;34m(\u001b[0m\u001b[0m_load_from_socket\u001b[0m\u001b[0;34m(\u001b[0m\u001b[0mport\u001b[0m\u001b[0;34m,\u001b[0m \u001b[0mself\u001b[0m\u001b[0;34m.\u001b[0m\u001b[0m_jrdd_deserializer\u001b[0m\u001b[0;34m)\u001b[0m\u001b[0;34m)\u001b[0m\u001b[0;34m\u001b[0m\u001b[0m\n\u001b[1;32m    773\u001b[0m \u001b[0;34m\u001b[0m\u001b[0m\n",
      "\u001b[0;32m/usr/lib/spark/python/lib/py4j-0.9-src.zip/py4j/java_gateway.py\u001b[0m in \u001b[0;36m__call__\u001b[0;34m(self, *args)\u001b[0m\n\u001b[1;32m    809\u001b[0m             \u001b[0mproto\u001b[0m\u001b[0;34m.\u001b[0m\u001b[0mEND_COMMAND_PART\u001b[0m\u001b[0;34m\u001b[0m\u001b[0m\n\u001b[1;32m    810\u001b[0m \u001b[0;34m\u001b[0m\u001b[0m\n\u001b[0;32m--> 811\u001b[0;31m         \u001b[0manswer\u001b[0m \u001b[0;34m=\u001b[0m \u001b[0mself\u001b[0m\u001b[0;34m.\u001b[0m\u001b[0mgateway_client\u001b[0m\u001b[0;34m.\u001b[0m\u001b[0msend_command\u001b[0m\u001b[0;34m(\u001b[0m\u001b[0mcommand\u001b[0m\u001b[0;34m)\u001b[0m\u001b[0;34m\u001b[0m\u001b[0m\n\u001b[0m\u001b[1;32m    812\u001b[0m         return_value = get_return_value(\n\u001b[1;32m    813\u001b[0m             answer, self.gateway_client, self.target_id, self.name)\n",
      "\u001b[0;32m/usr/lib/spark/python/lib/py4j-0.9-src.zip/py4j/java_gateway.py\u001b[0m in \u001b[0;36msend_command\u001b[0;34m(self, command, retry)\u001b[0m\n\u001b[1;32m    624\u001b[0m         \u001b[0mconnection\u001b[0m \u001b[0;34m=\u001b[0m \u001b[0mself\u001b[0m\u001b[0;34m.\u001b[0m\u001b[0m_get_connection\u001b[0m\u001b[0;34m(\u001b[0m\u001b[0;34m)\u001b[0m\u001b[0;34m\u001b[0m\u001b[0m\n\u001b[1;32m    625\u001b[0m         \u001b[0;32mtry\u001b[0m\u001b[0;34m:\u001b[0m\u001b[0;34m\u001b[0m\u001b[0m\n\u001b[0;32m--> 626\u001b[0;31m             \u001b[0mresponse\u001b[0m \u001b[0;34m=\u001b[0m \u001b[0mconnection\u001b[0m\u001b[0;34m.\u001b[0m\u001b[0msend_command\u001b[0m\u001b[0;34m(\u001b[0m\u001b[0mcommand\u001b[0m\u001b[0;34m)\u001b[0m\u001b[0;34m\u001b[0m\u001b[0m\n\u001b[0m\u001b[1;32m    627\u001b[0m             \u001b[0mself\u001b[0m\u001b[0;34m.\u001b[0m\u001b[0m_give_back_connection\u001b[0m\u001b[0;34m(\u001b[0m\u001b[0mconnection\u001b[0m\u001b[0;34m)\u001b[0m\u001b[0;34m\u001b[0m\u001b[0m\n\u001b[1;32m    628\u001b[0m         \u001b[0;32mexcept\u001b[0m \u001b[0mPy4JNetworkError\u001b[0m\u001b[0;34m:\u001b[0m\u001b[0;34m\u001b[0m\u001b[0m\n",
      "\u001b[0;32m/usr/lib/spark/python/lib/py4j-0.9-src.zip/py4j/java_gateway.py\u001b[0m in \u001b[0;36msend_command\u001b[0;34m(self, command)\u001b[0m\n\u001b[1;32m    738\u001b[0m         \u001b[0;32mtry\u001b[0m\u001b[0;34m:\u001b[0m\u001b[0;34m\u001b[0m\u001b[0m\n\u001b[1;32m    739\u001b[0m             \u001b[0mself\u001b[0m\u001b[0;34m.\u001b[0m\u001b[0msocket\u001b[0m\u001b[0;34m.\u001b[0m\u001b[0msendall\u001b[0m\u001b[0;34m(\u001b[0m\u001b[0mcommand\u001b[0m\u001b[0;34m.\u001b[0m\u001b[0mencode\u001b[0m\u001b[0;34m(\u001b[0m\u001b[0;34m\"utf-8\"\u001b[0m\u001b[0;34m)\u001b[0m\u001b[0;34m)\u001b[0m\u001b[0;34m\u001b[0m\u001b[0m\n\u001b[0;32m--> 740\u001b[0;31m             \u001b[0manswer\u001b[0m \u001b[0;34m=\u001b[0m \u001b[0msmart_decode\u001b[0m\u001b[0;34m(\u001b[0m\u001b[0mself\u001b[0m\u001b[0;34m.\u001b[0m\u001b[0mstream\u001b[0m\u001b[0;34m.\u001b[0m\u001b[0mreadline\u001b[0m\u001b[0;34m(\u001b[0m\u001b[0;34m)\u001b[0m\u001b[0;34m[\u001b[0m\u001b[0;34m:\u001b[0m\u001b[0;34m-\u001b[0m\u001b[0;36m1\u001b[0m\u001b[0;34m]\u001b[0m\u001b[0;34m)\u001b[0m\u001b[0;34m\u001b[0m\u001b[0m\n\u001b[0m\u001b[1;32m    741\u001b[0m             \u001b[0mlogger\u001b[0m\u001b[0;34m.\u001b[0m\u001b[0mdebug\u001b[0m\u001b[0;34m(\u001b[0m\u001b[0;34m\"Answer received: {0}\"\u001b[0m\u001b[0;34m.\u001b[0m\u001b[0mformat\u001b[0m\u001b[0;34m(\u001b[0m\u001b[0manswer\u001b[0m\u001b[0;34m)\u001b[0m\u001b[0;34m)\u001b[0m\u001b[0;34m\u001b[0m\u001b[0m\n\u001b[1;32m    742\u001b[0m             \u001b[0;31m# Happens when a the other end is dead. There might be an empty\u001b[0m\u001b[0;34m\u001b[0m\u001b[0;34m\u001b[0m\u001b[0m\n",
      "\u001b[0;32m/usr/lib64/python3.5/socket.py\u001b[0m in \u001b[0;36mreadinto\u001b[0;34m(self, b)\u001b[0m\n\u001b[1;32m    574\u001b[0m         \u001b[0;32mwhile\u001b[0m \u001b[0;32mTrue\u001b[0m\u001b[0;34m:\u001b[0m\u001b[0;34m\u001b[0m\u001b[0m\n\u001b[1;32m    575\u001b[0m             \u001b[0;32mtry\u001b[0m\u001b[0;34m:\u001b[0m\u001b[0;34m\u001b[0m\u001b[0m\n\u001b[0;32m--> 576\u001b[0;31m                 \u001b[0;32mreturn\u001b[0m \u001b[0mself\u001b[0m\u001b[0;34m.\u001b[0m\u001b[0m_sock\u001b[0m\u001b[0;34m.\u001b[0m\u001b[0mrecv_into\u001b[0m\u001b[0;34m(\u001b[0m\u001b[0mb\u001b[0m\u001b[0;34m)\u001b[0m\u001b[0;34m\u001b[0m\u001b[0m\n\u001b[0m\u001b[1;32m    577\u001b[0m             \u001b[0;32mexcept\u001b[0m \u001b[0mtimeout\u001b[0m\u001b[0;34m:\u001b[0m\u001b[0;34m\u001b[0m\u001b[0m\n\u001b[1;32m    578\u001b[0m                 \u001b[0mself\u001b[0m\u001b[0;34m.\u001b[0m\u001b[0m_timeout_occurred\u001b[0m \u001b[0;34m=\u001b[0m \u001b[0;32mTrue\u001b[0m\u001b[0;34m\u001b[0m\u001b[0m\n",
      "\u001b[0;31mKeyboardInterrupt\u001b[0m: "
     ]
    }
   ],
   "source": [
    "movie_ratings_count \\\n",
    "    .join(movies_no_genre) \\\n",
    "    .sortBy(lambda key_value: key_value[1][0], ascending=False)\\\n",
    "    .take(10)"
   ]
  },
  {
   "cell_type": "markdown",
   "metadata": {},
   "source": [
    "### Фильмы с наибольшим числом 5\n",
    "\n",
    "Найти 10 фильмов с наибольшим числом 5ок в качестве оценки. Вывести их названия и число 5ок"
   ]
  },
  {
   "cell_type": "code",
   "execution_count": 17,
   "metadata": {},
   "outputs": [
    {
     "data": {
      "text/plain": [
       "[(2, 944), (4, 116), (6, 2964), (8, 74), (51884, 15)]"
      ]
     },
     "execution_count": 17,
     "metadata": {},
     "output_type": "execute_result"
    }
   ],
   "source": [
    "movie_fives_count = ratings \\\n",
    "    .filter(lambda r: r.rating == 5) \\\n",
    "    .map(lambda r: (r.movie_id, 1)) \\\n",
    "    .reduceByKey(lambda a, b: a + b)\n",
    "movie_fives_count.take(5)"
   ]
  },
  {
   "cell_type": "code",
   "execution_count": null,
   "metadata": {},
   "outputs": [],
   "source": [
    "movie_fives_count \\\n",
    "    .join(movies_no_genre) \\\n",
    "    .sortBy(lambda key_value: key_value[1][0], ascending=False)\\\n",
    "    .take(10)"
   ]
  },
  {
   "cell_type": "markdown",
   "metadata": {},
   "source": [
    "### Распределение рейтингов фильмов\n",
    "\n",
    "Построить распределение фильмов по ср. рейтингам  (гистограмму)"
   ]
  },
  {
   "cell_type": "code",
   "execution_count": 42,
   "metadata": {},
   "outputs": [
    {
     "data": {
      "text/plain": [
       "[(0.5, 3), (0.8, 2), (2.9, 503), (4.6, 1), (4.1, 171)]"
      ]
     },
     "execution_count": 42,
     "metadata": {},
     "output_type": "execute_result"
    }
   ],
   "source": [
    "avg_ratings = movie_avg_rating \\\n",
    "    .map(lambda key_value: (round(key_value[1], 1), 1)) \\\n",
    "    .reduceByKey(lambda a, b: a + b) \\\n",
    "    .collect()\n",
    "avg_ratings[:5]"
   ]
  },
  {
   "cell_type": "code",
   "execution_count": 63,
   "metadata": {},
   "outputs": [
    {
     "data": {
      "text/plain": [
       "[(3.5, 809), (3.4, 763), (3.2, 761), (3.6, 758), (3.3, 743)]"
      ]
     },
     "execution_count": 63,
     "metadata": {},
     "output_type": "execute_result"
    }
   ],
   "source": [
    "avg_ratings = sorted(avg_ratings, key=lambda count: count[1], reverse=True)\n",
    "avg_ratings[:5]"
   ]
  },
  {
   "cell_type": "code",
   "execution_count": 64,
   "metadata": {},
   "outputs": [
    {
     "data": {
      "image/png": "[encoded data removed]",
      "text/plain": [
       "<Figure size 720x432 with 1 Axes>"
      ]
     },
     "metadata": {
      "image/png": {
       "height": 363,
       "width": 600
      },
      "needs_background": "light"
     },
     "output_type": "display_data"
    }
   ],
   "source": [
    "keys, values = zip(*avg_ratings)\n",
    "\n",
    "f, ax = plt.subplots(figsize=(10, 6))\n",
    "plt.xticks(rotation=0, fontsize=15)\n",
    "plt.bar(keys, values, align=\"center\")\n",
    "plt.show()"
   ]
  },
  {
   "cell_type": "markdown",
   "metadata": {},
   "source": [
    "### Распределение числа оценок для фильмов\n",
    "\n",
    "Построить распределение фильмов по числу оценок"
   ]
  },
  {
   "cell_type": "code",
   "execution_count": 103,
   "metadata": {},
   "outputs": [
    {
     "data": {
      "text/plain": [
       "[(2, 12032), (4, 1764), (40966, 208), (8, 899), (51884, 202)]"
      ]
     },
     "execution_count": 103,
     "metadata": {},
     "output_type": "execute_result"
    }
   ],
   "source": [
    "movie_ratings_count.take(5)"
   ]
  },
  {
   "cell_type": "code",
   "execution_count": 104,
   "metadata": {},
   "outputs": [
    {
     "data": {
      "text/plain": [
       "[(0, 4763), (2, 732), (4, 355), (6, 210), (8, 162)]"
      ]
     },
     "execution_count": 104,
     "metadata": {},
     "output_type": "execute_result"
    }
   ],
   "source": [
    "rating_counts = movie_ratings_count\\\n",
    "    .map(lambda key_value: (key_value[1] // 100, 1)) \\\n",
    "    .reduceByKey(lambda a, b: a + b) \\\n",
    "    .collect()\n",
    "rating_counts[:5]"
   ]
  },
  {
   "cell_type": "code",
   "execution_count": 14,
   "metadata": {},
   "outputs": [
    {
     "data": {
      "text/plain": [
       "[(0, 4763), (1, 1312), (2, 732), (3, 508), (4, 355)]"
      ]
     },
     "execution_count": 14,
     "metadata": {},
     "output_type": "execute_result"
    }
   ],
   "source": [
    "rating_counts = sorted(rating_counts, key=lambda count: count[1], reverse=True)\n",
    "rating_counts[:5]"
   ]
  },
  {
   "cell_type": "code",
   "execution_count": 15,
   "metadata": {},
   "outputs": [
    {
     "data": {
      "image/png": "[encoded data removed]",
      "text/plain": [
       "<Figure size 720x432 with 1 Axes>"
      ]
     },
     "metadata": {
      "image/png": {
       "height": 365,
       "width": 606
      },
      "needs_background": "light"
     },
     "output_type": "display_data"
    }
   ],
   "source": [
    "keys, values = zip(*rating_counts)\n",
    "\n",
    "f, ax = plt.subplots(figsize=(10, 6))\n",
    "plt.xticks(rotation=0, fontsize=15)\n",
    "plt.bar(keys[:50], values[:50], align=\"center\")\n",
    "plt.show()"
   ]
  },
  {
   "cell_type": "markdown",
   "metadata": {},
   "source": [
    "### Распределение фильмов по жанрам\n",
    "\n",
    "Построить гистограмму распределения фильмов по жанрам. Обратите внимание, что у фильма может быть указано больше одного жанра."
   ]
  },
  {
   "cell_type": "code",
   "execution_count": 19,
   "metadata": {},
   "outputs": [
    {
     "data": {
      "text/plain": [
       "['movieId,title,genres',\n",
       " '1,Toy Story (1995),Adventure|Animation|Children|Comedy|Fantasy',\n",
       " '2,Jumanji (1995),Adventure|Children|Fantasy',\n",
       " '3,Grumpier Old Men (1995),Comedy|Romance',\n",
       " '4,Waiting to Exhale (1995),Comedy|Drama|Romance']"
      ]
     },
     "execution_count": 19,
     "metadata": {},
     "output_type": "execute_result"
    }
   ],
   "source": [
    "movies.take(5)"
   ]
  },
  {
   "cell_type": "code",
   "execution_count": 82,
   "metadata": {},
   "outputs": [
    {
     "data": {
      "text/plain": [
       "[('Sci-Fi', 754),\n",
       " ('Horror', 1013),\n",
       " ('Drama', 5339),\n",
       " ('Action', 1473),\n",
       " ('Western', 275)]"
      ]
     },
     "execution_count": 82,
     "metadata": {},
     "output_type": "execute_result"
    }
   ],
   "source": [
    "genres_counts = movies\\\n",
    "    .map(lambda s: s.split(',')) \\\n",
    "    .filter(lambda arr: arr[0].isdigit()) \\\n",
    "    .keyBy(lambda arr: int(arr[0]))\\\n",
    "    .flatMap(lambda key_value: key_value[1][-1].split('|'))\\\n",
    "    .map(lambda key_value: (key_value, 1))\\\n",
    "    .reduceByKey(lambda a, b: a + b)\\\n",
    "    .collect()\n",
    "genres_counts[:5]"
   ]
  },
  {
   "cell_type": "code",
   "execution_count": 83,
   "metadata": {},
   "outputs": [
    {
     "data": {
      "text/plain": [
       "[('Drama', 5339),\n",
       " ('Comedy', 3703),\n",
       " ('Thriller', 1706),\n",
       " ('Romance', 1685),\n",
       " ('Action', 1473)]"
      ]
     },
     "execution_count": 83,
     "metadata": {},
     "output_type": "execute_result"
    }
   ],
   "source": [
    "genres_counts = sorted(genres_counts, key=lambda count: count[1], reverse=True)\n",
    "genres_counts[:5]"
   ]
  },
  {
   "cell_type": "code",
   "execution_count": 85,
   "metadata": {},
   "outputs": [
    {
     "data": {
      "image/png": "[encoded data removed]",
      "text/plain": [
       "<Figure size 720x432 with 1 Axes>"
      ]
     },
     "metadata": {
      "image/png": {
       "height": 482,
       "width": 606
      },
      "needs_background": "light"
     },
     "output_type": "display_data"
    }
   ],
   "source": [
    "keys, values = zip(*genres_counts)\n",
    "\n",
    "f, ax = plt.subplots(figsize=(10, 6))\n",
    "plt.xticks(rotation=85, fontsize=15)\n",
    "plt.bar(keys[:50], values[:50], align=\"center\")\n",
    "plt.show()"
   ]
  },
  {
   "cell_type": "markdown",
   "metadata": {},
   "source": [
    "### Актеры\n",
    "\n",
    "Для решения задач ниже нужно воспользоваться файлами `ratings.csv`, `movies.csv`, `links.csv` и `tmdb.json`.\n",
    "\n",
    "* `links.csv` - задает отображение из `movie_id` в `tmdb_movie_id` (подробное описание в `ml-25m-README.htm`)\n",
    "* `tmdb.json` - содержит большое количество данных о фильмах в формате json (на каждой строчке отдельный json)\n",
    "\n",
    "Задачи\n",
    "\n",
    "1. Найти все фильмы, в которых играл `\"id\":31, \"name\":\"Tom Hanks\"`\n",
    "2. Найти 10 актеров снявшихся в наибольшем числе фильмов. Вывести их имена и кол-во фильмов, в которых они снимались"
   ]
  },
  {
   "cell_type": "code",
   "execution_count": 20,
   "metadata": {},
   "outputs": [
    {
     "data": {
      "text/plain": [
       "['movieId,imdbId,tmdbId',\n",
       " '1,0114709,862',\n",
       " '2,0113497,8844',\n",
       " '3,0113228,15602',\n",
       " '4,0114885,31357']"
      ]
     },
     "execution_count": 20,
     "metadata": {},
     "output_type": "execute_result"
    }
   ],
   "source": [
    "LINKS_PATH = os.path.join(DATA_PATH, 'links.csv')\n",
    "links = sc.textFile(LINKS_PATH)\n",
    "links.take(5)"
   ]
  },
  {
   "cell_type": "code",
   "execution_count": 21,
   "metadata": {},
   "outputs": [
    {
     "data": {
      "text/plain": [
       "['1', '2', '3', '4', '5']"
      ]
     },
     "execution_count": 21,
     "metadata": {},
     "output_type": "execute_result"
    }
   ],
   "source": [
    "movies_ids = movies_no_genre\\\n",
    "    .map(lambda key_value: key_value[1][0])\\\n",
    "    .collect()\n",
    "movies_ids[:5]"
   ]
  },
  {
   "cell_type": "code",
   "execution_count": 22,
   "metadata": {},
   "outputs": [
    {
     "data": {
      "text/plain": [
       "[(1, ('1', 862)),\n",
       " (2, ('2', 8844)),\n",
       " (3, ('3', 15602)),\n",
       " (4, ('4', 31357)),\n",
       " (5, ('5', 11862))]"
      ]
     },
     "execution_count": 22,
     "metadata": {},
     "output_type": "execute_result"
    }
   ],
   "source": [
    "links = links\\\n",
    "    .map(lambda s: s.split(',')) \\\n",
    "    .filter(lambda arr: arr[0].isdigit() and arr[0] in movies_ids and arr[-1].isdigit()) \\\n",
    "    .map(lambda arr: (arr[0], int(arr[-1]))) \\\n",
    "    .keyBy(lambda arr: int(arr[0]))\n",
    "links.take(5)"
   ]
  },
  {
   "cell_type": "code",
   "execution_count": 23,
   "metadata": {},
   "outputs": [
    {
     "data": {
      "text/plain": [
       "[862, 8844, 15602, 31357, 11862]"
      ]
     },
     "execution_count": 23,
     "metadata": {},
     "output_type": "execute_result"
    }
   ],
   "source": [
    "tmdb_ids = links\\\n",
    "    .map(lambda key_value: key_value[1][1])\\\n",
    "    .collect()\n",
    "tmdb_ids[:5]"
   ]
  },
  {
   "cell_type": "code",
   "execution_count": 12,
   "metadata": {},
   "outputs": [
    {
     "data": {
      "text/plain": [
       "[(89992, [89992, 'Curse']),\n",
       " (48561, [48561, 'Traviata']),\n",
       " (8966, [8966, 'Twilight (2008)']),\n",
       " (31357, [31357, 'Waiting to Exhale (1995)']),\n",
       " (44708, [44708, 'Blue Gate Crossing (Lanse da Men) (2002)'])]"
      ]
     },
     "execution_count": 12,
     "metadata": {},
     "output_type": "execute_result"
    }
   ],
   "source": [
    "tmdb_names = links\\\n",
    "    .join(movies_no_genre)\\\n",
    "    .map(lambda key_value: [key_value[1][0][1], key_value[1][1][1]])\\\n",
    "    .keyBy(lambda arr: arr[0])\n",
    "tmdb_names.take(5)"
   ]
  },
  {
   "cell_type": "code",
   "execution_count": 67,
   "metadata": {},
   "outputs": [
    {
     "data": {
      "text/plain": [
       "['{\"adult\": false, \"backdrop_path\": \"/dji4Fm0gCDVb9DQQMRvAI8YNnTz.jpg\", \"belongs_to_collection\": {\"id\": 10194, \"name\": \"Toy Story Collection\", \"poster_path\": \"/7G9915LfUQ2lVfwMEEhDsn3kT4B.jpg\", \"backdrop_path\": \"/9FBwqcd9IRruEDUrTdcaafOMKUq.jpg\"}, \"budget\": 30000000, \"genres\": [{\"id\": 16, \"name\": \"Animation\"}, {\"id\": 35, \"name\": \"Comedy\"}, {\"id\": 10751, \"name\": \"Family\"}], \"homepage\": \"http://toystory.disney.com/toy-story\", \"id\": 862, \"imdb_id\": \"tt0114709\", \"original_language\": \"en\", \"original_title\": \"Toy Story\", \"overview\": \"Led by Woody, Andy\\'s toys live happily in his room until Andy\\'s birthday brings Buzz Lightyear onto the scene. Afraid of losing his place in Andy\\'s heart, Woody plots against Buzz. But when circumstances separate Buzz and Woody from their owner, the duo eventually learns to put aside their differences.\", \"popularity\": 25.128, \"poster_path\": \"/rhIRbceoE9lR4veEXuwCC2wARtG.jpg\", \"production_companies\": [{\"id\": 3, \"logo_path\": \"/1TjvGVDMYsj6JBxOAkUHpPEwLf7.png\", \"name\": \"Pixar\", \"origin_country\": \"US\"}], \"production_countries\": [{\"iso_3166_1\": \"US\", \"name\": \"United States of America\"}], \"release_date\": \"1995-10-30\", \"revenue\": 373554033, \"runtime\": 81, \"spoken_languages\": [{\"iso_639_1\": \"en\", \"name\": \"English\"}], \"status\": \"Released\", \"tagline\": \"\", \"title\": \"Toy Story\", \"video\": false, \"vote_average\": 7.9, \"vote_count\": 11489, \"videos\": null, \"trailers\": null, \"images\": null, \"casts\": {\"cast\": [{\"cast_id\": 14, \"character\": \"Woody (voice)\", \"credit_id\": \"52fe4284c3a36847f8024f95\", \"gender\": 2, \"id\": 31, \"name\": \"Tom Hanks\", \"order\": 0, \"profile_path\": \"/xxPMucou2wRDxLrud8i2D4dsywh.jpg\"}, {\"cast_id\": 15, \"character\": \"Buzz Lightyear (voice)\", \"credit_id\": \"52fe4284c3a36847f8024f99\", \"gender\": 2, \"id\": 12898, \"name\": \"Tim Allen\", \"order\": 1, \"profile_path\": \"/uX2xVf6pMmPepxnvFWyBtjexzgY.jpg\"}, {\"cast_id\": 16, \"character\": \"Mr. Potato Head (voice)\", \"credit_id\": \"52fe4284c3a36847f8024f9d\", \"gender\": 2, \"id\": 7167, \"name\": \"Don Rickles\", \"order\": 2, \"profile_path\": \"/h5BcaDMPRVLHLDzbQavec4xfSdt.jpg\"}, {\"cast_id\": 17, \"character\": \"Slinky Dog (voice)\", \"credit_id\": \"52fe4284c3a36847f8024fa1\", \"gender\": 2, \"id\": 12899, \"name\": \"Jim Varney\", \"order\": 3, \"profile_path\": \"/eIo2jVVXYgjDtaHoF19Ll9vtW7h.jpg\"}, {\"cast_id\": 18, \"character\": \"Rex (voice)\", \"credit_id\": \"52fe4284c3a36847f8024fa5\", \"gender\": 2, \"id\": 12900, \"name\": \"Wallace Shawn\", \"order\": 4, \"profile_path\": \"/oGE6JqPP2xH4tNORKNqxbNPYi7u.jpg\"}, {\"cast_id\": 19, \"character\": \"Hamm (voice)\", \"credit_id\": \"52fe4284c3a36847f8024fa9\", \"gender\": 2, \"id\": 7907, \"name\": \"John Ratzenberger\", \"order\": 5, \"profile_path\": \"/oRtDEOuIO1yDhTz5dORBdxXuLMO.jpg\"}, {\"cast_id\": 20, \"character\": \"Bo Peep (voice)\", \"credit_id\": \"52fe4284c3a36847f8024fad\", \"gender\": 1, \"id\": 8873, \"name\": \"Annie Potts\", \"order\": 6, \"profile_path\": \"/hWIzkAH7jkSkxBfwdudxbSPxeno.jpg\"}, {\"cast_id\": 26, \"character\": \"Andy (voice)\", \"credit_id\": \"52fe4284c3a36847f8024fc1\", \"gender\": 2, \"id\": 1116442, \"name\": \"John Morris\", \"order\": 7, \"profile_path\": \"/vYGyvK4LzeaUCoNSHtsuqJUY15M.jpg\"}, {\"cast_id\": 22, \"character\": \"Sid (voice)\", \"credit_id\": \"52fe4284c3a36847f8024fb1\", \"gender\": 2, \"id\": 12901, \"name\": \"Erik von Detten\", \"order\": 8, \"profile_path\": \"/twnF1ZaJ1FUNUuo6xLXwcxjayBE.jpg\"}, {\"cast_id\": 23, \"character\": \"Mrs. Davis (voice)\", \"credit_id\": \"52fe4284c3a36847f8024fb5\", \"gender\": 1, \"id\": 12133, \"name\": \"Laurie Metcalf\", \"order\": 9, \"profile_path\": \"/oHhTbuv9eNJV4YlgizhCkZsPV0N.jpg\"}, {\"cast_id\": 24, \"character\": \"Sergeant (voice)\", \"credit_id\": \"52fe4284c3a36847f8024fb9\", \"gender\": 2, \"id\": 8655, \"name\": \"R. Lee Ermey\", \"order\": 10, \"profile_path\": \"/r8GBqFBjypLUP9VVqDqfZ7wYbSs.jpg\"}, {\"cast_id\": 25, \"character\": \"Hannah (voice)\", \"credit_id\": \"52fe4284c3a36847f8024fbd\", \"gender\": 1, \"id\": 12903, \"name\": \"Sarah Freeman\", \"order\": 11, \"profile_path\": null}, {\"cast_id\": 27, \"character\": \"TV Announcer (voice)\", \"credit_id\": \"52fe4284c3a36847f8024fc5\", \"gender\": 2, \"id\": 37221, \"name\": \"Penn Jillette\", \"order\": 12, \"profile_path\": \"/zmAaXUdx12NRsssgHbk1T31j2x9.jpg\"}, {\"cast_id\": 162, \"character\": \"Mom (voice)\", \"credit_id\": \"59f546f592514141ed005c7f\", \"gender\": 1, \"id\": 214701, \"name\": \"Sherry Lynn\", \"order\": 13, \"profile_path\": \"/kQDSC2z7sb6S5HcpOH6cmeJokKE.jpg\"}, {\"cast_id\": 300, \"character\": \"Shark / Rocky Gibraltar (voice)\", \"credit_id\": \"5aa599ad9251412787027f71\", \"gender\": 2, \"id\": 19545, \"name\": \"Jack Angel\", \"order\": 14, \"profile_path\": \"/qYvR57QBtXpdvj1jm2a8hjh7E4L.jpg\"}, {\"cast_id\": 301, \"character\": \"Wounded Soldier (voice)\", \"credit_id\": \"5aa599edc3a3687bfc02cbf2\", \"gender\": 0, \"id\": 1266092, \"name\": \"Spencer Aste\", \"order\": 15, \"profile_path\": \"/iOgF5vVXIwrHXm0I7JJEjWiNRRT.jpg\"}, {\"cast_id\": 302, \"character\": \"Local Announcer (voice)\", \"credit_id\": \"5aa59b229251412781026d69\", \"gender\": 2, \"id\": 94038, \"name\": \"Greg Berg\", \"order\": 16, \"profile_path\": \"/3TwBirdnh0AmKRSMhdWzzgZ0zTH.jpg\"}, {\"cast_id\": 303, \"character\": \"Kid (voice)\", \"credit_id\": \"5aa59b4e925141278d027723\", \"gender\": 0, \"id\": 1202809, \"name\": \"Lisa Bradley\", \"order\": 17, \"profile_path\": null}, {\"cast_id\": 304, \"character\": \"Kid (voice)\", \"credit_id\": \"5aa59b7b92514127840277c1\", \"gender\": 0, \"id\": 134713, \"name\": \"Kendall Cunningham\", \"order\": 18, \"profile_path\": null}, {\"cast_id\": 305, \"character\": \"Aliens / Pizza Planet Announcer (voice)\", \"credit_id\": \"5aa59b8d0e0a26075a02c4d4\", \"gender\": 1, \"id\": 73016, \"name\": \"Debi Derryberry\", \"order\": 19, \"profile_path\": \"/mfmF3MjoL7sV76BSElFkVgDgA30.jpg\"}, {\"cast_id\": 306, \"character\": \"Kid (voice)\", \"credit_id\": \"5aa59bc0c3a3687c0c02aa21\", \"gender\": 0, \"id\": 186614, \"name\": \"Cody Dorkin\", \"order\": 20, \"profile_path\": \"/pFmPDFwi1oPqvqZtiejlxTV86tn.jpg\"}, {\"cast_id\": 307, \"character\": \"Kid (voice)\", \"credit_id\": \"5aa59bd0c3a3687bfc02cdf4\", \"gender\": 0, \"id\": 1017469, \"name\": \"Gregory Grudt\", \"order\": 21, \"profile_path\": \"/jISwKoeLNnc6X3Jylknnqdr6MZq.jpg\"}, {\"cast_id\": 308, \"character\": \"Kid (voice)\", \"credit_id\": \"5aa59bde0e0a26074d0285ce\", \"gender\": 0, \"id\": 1266095, \"name\": \"Sam Lasseter\", \"order\": 22, \"profile_path\": null}, {\"cast_id\": 309, \"character\": \"Kid (voice)\", \"credit_id\": \"5aa59c0b0e0a26075402b8a5\", \"gender\": 1, \"id\": 178710, \"name\": \"Brittany Levenbrown\", \"order\": 23, \"profile_path\": null}, {\"cast_id\": 310, \"character\": \"Monotone Announcer (voice)\", \"credit_id\": \"5aa59c2e0e0a26075d02c5cd\", \"gender\": 2, \"id\": 84213, \"name\": \"Bill Farmer\", \"order\": 24, \"profile_path\": \"/4aDBlkt8nEkr1RkEhiKIbDWhpZB.jpg\"}, {\"cast_id\": 311, \"character\": \"Mission Control (voice)\", \"credit_id\": \"5aa59c62925141278d027807\", \"gender\": 2, \"id\": 1122227, \"name\": \"Craig Good\", \"order\": 25, \"profile_path\": \"/xqm0wzTaReXJKtRKaVQg7cwUV14.jpg\"}, {\"cast_id\": 312, \"character\": \"Burned Rag Doll (voice)\", \"credit_id\": \"5aa59c75925141277e02772d\", \"gender\": 0, \"id\": 1217873, \"name\": \"Danielle Judovits\", \"order\": 26, \"profile_path\": \"/bi4q307EILaJ4HIueVE4Hv59JXY.jpg\"}, {\"cast_id\": 313, \"character\": \"Kid (voice)\", \"credit_id\": \"5aa59ca4c3a3687c2502c393\", \"gender\": 2, \"id\": 79020, \"name\": \"Scott McAfee\", \"order\": 27, \"profile_path\": \"/kEd73kzCrVhfnNa8LLULpna72Jk.jpg\"}, {\"cast_id\": 314, \"character\": \"Kid (voice)\", \"credit_id\": \"5aa59cb20e0a26074b02c841\", \"gender\": 2, \"id\": 166406, \"name\": \"Ryan O\\'Donohue\", \"order\": 28, \"profile_path\": \"/l1NV0rGZvHI7yGOeFbPeffoHtuP.jpg\"}, {\"cast_id\": 315, \"character\": \"Aliens / Robot / Mr. Spell (voice)\", \"credit_id\": \"5aa59cbf0e0a260760027438\", \"gender\": 2, \"id\": 7882, \"name\": \"Jeff Pidgeon\", \"order\": 29, \"profile_path\": \"/yLddkg5HcgbJg00cS13GVBnP0HY.jpg\"}, {\"cast_id\": 316, \"character\": \"Pizza Delivery Guy / Angry Driver #2 (voice)\", \"credit_id\": \"5aa59cce925141279302851e\", \"gender\": 2, \"id\": 61968, \"name\": \"Patrick Pinney\", \"order\": 30, \"profile_path\": \"/t2dM1NsGohkGpETRUF56W8vEbpA.jpg\"}, {\"cast_id\": 317, \"character\": \"Pizza Planet Announcer / Pizza Planet Guard (voice)\", \"credit_id\": \"5aa59cdec3a3687c2502c3d9\", \"gender\": 2, \"id\": 61969, \"name\": \"Phil Proctor\", \"order\": 31, \"profile_path\": \"/wjb1LdfQ8tDJ65TWqj6VRCuLhSC.jpg\"}, {\"cast_id\": 318, \"character\": \"Gas Station Attendant (voice)\", \"credit_id\": \"5aa59ced0e0a26075a02c62b\", \"gender\": 2, \"id\": 157626, \"name\": \"Jan Rabson\", \"order\": 32, \"profile_path\": \"/6mfE6PFzOlKb2Qf4dURbKzLrTTC.jpg\"}, {\"cast_id\": 319, \"character\": \"Lenny the Binoculars (voice)\", \"credit_id\": \"5aa59cfa0e0a260760027472\", \"gender\": 2, \"id\": 7911, \"name\": \"Joe Ranft\", \"order\": 33, \"profile_path\": \"/f1BoWC2JbCcfP1e5hKfGsxkHzVU.jpg\"}, {\"cast_id\": 320, \"character\": \"Commercial Chorus (voice)\", \"credit_id\": \"5aa59d0bc3a3687bff02cc99\", \"gender\": 2, \"id\": 7, \"name\": \"Andrew Stanton\", \"order\": 34, \"profile_path\": \"/gasNitCwepbqNcYBmDHpsCgZH0I.jpg\"}, {\"cast_id\": 321, \"character\": \"Kid (voice)\", \"credit_id\": \"5aa59d18925141277e0277a1\", \"gender\": 2, \"id\": 158124, \"name\": \"Shane Sweet\", \"order\": 35, \"profile_path\": \"/lsutYUETco7Rjr24CLWPC80EzEP.jpg\"}, {\"cast_id\": 322, \"character\": \"Timon (voice) (archive footage) (uncredited)\", \"credit_id\": \"5aa59d539251412781026f2c\", \"gender\": 2, \"id\": 78729, \"name\": \"Nathan Lane\", \"order\": 36, \"profile_path\": \"/qXupNWu2g9DsRjd7XGD5smGLWlZ.jpg\"}, {\"cast_id\": 323, \"character\": \"Commercial Chorus #1 (voice) (uncredited)\", \"credit_id\": \"5aa59d62c3a3687c06026721\", \"gender\": 2, \"id\": 7879, \"name\": \"John Lasseter\", \"order\": 37, \"profile_path\": \"/7EdqiNbr4FRjIhKHyPPdFfEEEFG.jpg\"}, {\"cast_id\": 324, \"character\": \"Pumbaa (voice) (archive footage) (uncredited)\", \"credit_id\": \"5aa59d6fc3a3687c2502c468\", \"gender\": 2, \"id\": 69415, \"name\": \"Ernie Sabella\", \"order\": 38, \"profile_path\": \"/nwdAp8FacfZ1eRU7gNkOwWvDqnc.jpg\"}], \"crew\": [{\"credit_id\": \"52fe4284c3a36847f8024f55\", \"department\": \"Writing\", \"gender\": 2, \"id\": 7, \"job\": \"Screenplay\", \"name\": \"Andrew Stanton\", \"profile_path\": \"/gasNitCwepbqNcYBmDHpsCgZH0I.jpg\"}, {\"credit_id\": \"5891edf9c3a36809700075e6\", \"department\": \"Writing\", \"gender\": 2, \"id\": 7, \"job\": \"Original Story\", \"name\": \"Andrew Stanton\", \"profile_path\": \"/gasNitCwepbqNcYBmDHpsCgZH0I.jpg\"}, {\"credit_id\": \"5892132b9251412dc80097b1\", \"department\": \"Visual Effects\", \"gender\": 2, \"id\": 7, \"job\": \"Character Designer\", \"name\": \"Andrew Stanton\", \"profile_path\": \"/gasNitCwepbqNcYBmDHpsCgZH0I.jpg\"}, {\"credit_id\": \"52fe4284c3a36847f8024f8b\", \"department\": \"Editing\", \"gender\": 2, \"id\": 8, \"job\": \"Editor\", \"name\": \"Lee Unkrich\", \"profile_path\": \"/bdTCCXjgOV3YyaNmLGYGOxFQMOc.jpg\"}, {\"credit_id\": \"5aa58c01c3a3687c060255e1\", \"department\": \"Visual Effects\", \"gender\": 2, \"id\": 9, \"job\": \"Shading\", \"name\": \"Graham Walters\", \"profile_path\": \"/kdiS9atzqHdD8WZhpsYMHPCOzi1.jpg\"}, {\"credit_id\": \"5aa58bf60e0a26075d02b325\", \"department\": \"Visual Effects\", \"gender\": 2, \"id\": 9, \"job\": \"Modeling\", \"name\": \"Graham Walters\", \"profile_path\": \"/kdiS9atzqHdD8WZhpsYMHPCOzi1.jpg\"}, {\"credit_id\": \"52fe4284c3a36847f8024f49\", \"department\": \"Directing\", \"gender\": 2, \"id\": 7879, \"job\": \"Director\", \"name\": \"John Lasseter\", \"profile_path\": \"/7EdqiNbr4FRjIhKHyPPdFfEEEFG.jpg\"}, {\"credit_id\": \"574f12309251415ca1000012\", \"department\": \"Writing\", \"gender\": 2, \"id\": 7879, \"job\": \"Original Story\", \"name\": \"John Lasseter\", \"profile_path\": \"/7EdqiNbr4FRjIhKHyPPdFfEEEFG.jpg\"}, {\"credit_id\": \"5aa59daec3a3687bff02cd24\", \"department\": \"Production\", \"gender\": 2, \"id\": 598, \"job\": \"Casting\", \"name\": \"Mike Fenton\", \"profile_path\": null}, {\"credit_id\": \"58920f1fc3a3680977009021\", \"department\": \"Sound\", \"gender\": 2, \"id\": 2216, \"job\": \"Sound Designer\", \"name\": \"Gary Rydstrom\", \"profile_path\": \"/jZpr1nVfO7lldWI0YtmP1FGw7Rj.jpg\"}, {\"credit_id\": \"58921544c3a3686b0a00507d\", \"department\": \"Sound\", \"gender\": 2, \"id\": 2216, \"job\": \"Sound Re-Recording Mixer\", \"name\": \"Gary Rydstrom\", \"profile_path\": \"/jZpr1nVfO7lldWI0YtmP1FGw7Rj.jpg\"}, {\"credit_id\": \"5aa59dddc3a3687c130273f4\", \"department\": \"Production\", \"gender\": 1, \"id\": 2874, \"job\": \"Casting\", \"name\": \"Janet Hirshenson\", \"profile_path\": null}, {\"credit_id\": \"5892173dc3a3680968009351\", \"department\": \"Sound\", \"gender\": 2, \"id\": 4949, \"job\": \"Orchestrator\", \"name\": \"Don Davis\", \"profile_path\": \"/FUcQUEOFH18BqYAeIs8VFud1E4.jpg\"}, {\"credit_id\": \"589215c39251412dcb009c12\", \"department\": \"Sound\", \"gender\": 0, \"id\": 7069, \"job\": \"Sound Effects Editor\", \"name\": \"Pat Jackson\", \"profile_path\": null}, {\"credit_id\": \"5892110b9251412dc800959d\", \"department\": \"Visual Effects\", \"gender\": 2, \"id\": 7882, \"job\": \"Animation\", \"name\": \"Jeff Pidgeon\", \"profile_path\": \"/yLddkg5HcgbJg00cS13GVBnP0HY.jpg\"}, {\"credit_id\": \"52fe4284c3a36847f8024f91\", \"department\": \"Art\", \"gender\": 2, \"id\": 7883, \"job\": \"Art Direction\", \"name\": \"Ralph Eggleston\", \"profile_path\": \"/uUfcGKDsKO1aROMpXRs67Hn6RvR.jpg\"}, {\"credit_id\": \"5aa728a50e0a263dc4015a07\", \"department\": \"Sound\", \"gender\": 2, \"id\": 7885, \"job\": \"Original Music Composer\", \"name\": \"Randy Newman\", \"profile_path\": \"/w0JzfoiM25nrnxYOzosPHRq6mlE.jpg\"}, {\"credit_id\": \"589217099251412dc500a018\", \"department\": \"Sound\", \"gender\": 2, \"id\": 7885, \"job\": \"Orchestrator\", \"name\": \"Randy Newman\", \"profile_path\": \"/w0JzfoiM25nrnxYOzosPHRq6mlE.jpg\"}, {\"credit_id\": \"589211c1c3a3686b0a004d28\", \"department\": \"Visual Effects\", \"gender\": 0, \"id\": 7887, \"job\": \"Visual Effects Supervisor\", \"name\": \"Thomas Porter\", \"profile_path\": null}, {\"credit_id\": \"5aa574529251412781023e4f\", \"department\": \"Art\", \"gender\": 1, \"id\": 7890, \"job\": \"Lead Painter\", \"name\": \"Tia W. Kratter\", \"profile_path\": null}, {\"credit_id\": \"589210fa9251412dc8009595\", \"department\": \"Visual Effects\", \"gender\": 2, \"id\": 7892, \"job\": \"Animation\", \"name\": \"Glenn McQueen\", \"profile_path\": null}, {\"credit_id\": \"589210069251412dd7009219\", \"department\": \"Visual Effects\", \"gender\": 0, \"id\": 7893, \"job\": \"Animation Director\", \"name\": \"Rich Quade\", \"profile_path\": null}, {\"credit_id\": \"5aa59725925141277e027292\", \"department\": \"Visual Effects\", \"gender\": 0, \"id\": 7897, \"job\": \"Visual Effects Technical Director\", \"name\": \"Eben Ostby\", \"profile_path\": null}, {\"credit_id\": \"589216e49251412dcd009a4f\", \"department\": \"Production\", \"gender\": 1, \"id\": 7902, \"job\": \"Casting Consultant\", \"name\": \"Ruth Lambert\", \"profile_path\": null}, {\"credit_id\": \"574f12519251415c92000015\", \"department\": \"Writing\", \"gender\": 2, \"id\": 7911, \"job\": \"Original Story\", \"name\": \"Joe Ranft\", \"profile_path\": \"/f1BoWC2JbCcfP1e5hKfGsxkHzVU.jpg\"}, {\"credit_id\": \"589210e1c3a36809770091a7\", \"department\": \"Visual Effects\", \"gender\": 2, \"id\": 7918, \"job\": \"Animation\", \"name\": \"Bud Luckey\", \"profile_path\": \"/pcCh7G19FKMNijmPQg1PMH1btic.jpg\"}, {\"credit_id\": \"5aa56972925141278d023bb9\", \"department\": \"Writing\", \"gender\": 2, \"id\": 7918, \"job\": \"Story\", \"name\": \"Bud Luckey\", \"profile_path\": \"/pcCh7G19FKMNijmPQg1PMH1btic.jpg\"}, {\"credit_id\": \"589213249251412dd100987b\", \"department\": \"Visual Effects\", \"gender\": 2, \"id\": 7918, \"job\": \"Character Designer\", \"name\": \"Bud Luckey\", \"profile_path\": \"/pcCh7G19FKMNijmPQg1PMH1btic.jpg\"}, {\"credit_id\": \"5aa591189251412784026ef2\", \"department\": \"Crew\", \"gender\": 0, \"id\": 7940, \"job\": \"Production Office Assistant\", \"name\": \"Jonas Rivera\", \"profile_path\": \"/uzoCan3ZeK2jXt3NaZ6uilvcQTU.jpg\"}, {\"credit_id\": \"572e2522c3a36869e6001a9c\", \"department\": \"Visual Effects\", \"gender\": 0, \"id\": 7949, \"job\": \"CG Painter\", \"name\": \"Robin Cooper\", \"profile_path\": null}, {\"credit_id\": \"574f14f19251415ca1000082\", \"department\": \"Art\", \"gender\": 0, \"id\": 7961, \"job\": \"Sculptor\", \"name\": \"Norm DeCarlo\", \"profile_path\": null}, {\"credit_id\": \"58921148c3a3686b0a004c99\", \"department\": \"Visual Effects\", \"gender\": 0, \"id\": 8010, \"job\": \"Animation\", \"name\": \"Doug Sweetland\", \"profile_path\": \"/zYxgikK0IBkMUmUBXBppJJDK4ZD.jpg\"}, {\"credit_id\": \"5aa595f5c3a3687c13026db6\", \"department\": \"Visual Effects\", \"gender\": 0, \"id\": 8015, \"job\": \"Animation\", \"name\": \"Shawn Krause\", \"profile_path\": null}, {\"credit_id\": \"58921113c3a36863480044e4\", \"department\": \"Visual Effects\", \"gender\": 0, \"id\": 8017, \"job\": \"Animation\", \"name\": \"Jeff Pratt\", \"profile_path\": null}, {\"credit_id\": \"589210329251412dcd00943b\", \"department\": \"Visual Effects\", \"gender\": 0, \"id\": 8025, \"job\": \"Animation\", \"name\": \"Michael Berenstein\", \"profile_path\": null}, {\"credit_id\": \"58921093c3a3686348004477\", \"department\": \"Visual Effects\", \"gender\": 2, \"id\": 8029, \"job\": \"Animation\", \"name\": \"Jimmy Hayward\", \"profile_path\": \"/lTDRpudEY7BDwTefXbXzMlmb0ui.jpg\"}, {\"credit_id\": \"589210a29251412dc5009a29\", \"department\": \"Visual Effects\", \"gender\": 0, \"id\": 8035, \"job\": \"Animation\", \"name\": \"Karen Kiser\", \"profile_path\": null}, {\"credit_id\": \"58921150c3a3680966009125\", \"department\": \"Visual Effects\", \"gender\": 0, \"id\": 8044, \"job\": \"Animation\", \"name\": \"David Tart\", \"profile_path\": null}, {\"credit_id\": \"5892113cc3a3680970009106\", \"department\": \"Visual Effects\", \"gender\": 0, \"id\": 8050, \"job\": \"Animation\", \"name\": \"Alan Sperling\", \"profile_path\": null}, {\"credit_id\": \"589216d79251412dc8009aa0\", \"department\": \"Sound\", \"gender\": 0, \"id\": 8067, \"job\": \"Assistant Sound Editor\", \"name\": \"Dan Engstrom\", \"profile_path\": null}, {\"credit_id\": \"5aa58b7a9251412784026766\", \"department\": \"Visual Effects\", \"gender\": 0, \"id\": 8082, \"job\": \"Shading\", \"name\": \"Deirdre Warin\", \"profile_path\": null}, {\"credit_id\": \"5aa58c100e0a26075402a654\", \"department\": \"Visual Effects\", \"gender\": 0, \"id\": 8082, \"job\": \"Modeling\", \"name\": \"Deirdre Warin\", \"profile_path\": null}, {\"credit_id\": \"5aa58b990e0a26075d02b279\", \"department\": \"Visual Effects\", \"gender\": 0, \"id\": 8086, \"job\": \"Modeling\", \"name\": \"Mark Adams\", \"profile_path\": null}, {\"credit_id\": \"5aa59849925141278a027474\", \"department\": \"Lighting\", \"gender\": 0, \"id\": 8086, \"job\": \"Lighting Artist\", \"name\": \"Mark Adams\", \"profile_path\": null}, {\"credit_id\": \"5aa5927fc3a3687c06025e19\", \"department\": \"Crew\", \"gender\": 0, \"id\": 8096, \"job\": \"Software Engineer\", \"name\": \"Daniel McCoy\", \"profile_path\": null}, {\"credit_id\": \"5aa592c80e0a26074b02beb8\", \"department\": \"Visual Effects\", \"gender\": 0, \"id\": 8098, \"job\": \"Shading\", \"name\": \"Anthony A. Apodaca\", \"profile_path\": null}, {\"credit_id\": \"5aa59858925141277e02737d\", \"department\": \"Lighting\", \"gender\": 0, \"id\": 8098, \"job\": \"Lighting Artist\", \"name\": \"Anthony A. Apodaca\", \"profile_path\": null}, {\"credit_id\": \"5aa592adc3a3687c03025ee5\", \"department\": \"Crew\", \"gender\": 0, \"id\": 8098, \"job\": \"Software Engineer\", \"name\": \"Anthony A. Apodaca\", \"profile_path\": null}, {\"credit_id\": \"5aa591ebc3a3687bff02c2a3\", \"department\": \"Crew\", \"gender\": 0, \"id\": 8125, \"job\": \"Software Engineer\", \"name\": \"Rob Cook\", \"profile_path\": null}, {\"credit_id\": \"5aa570d8c3a3687c0602329b\", \"department\": \"Camera\", \"gender\": 2, \"id\": 8135, \"job\": \"Camera Supervisor\", \"name\": \"Louis Rivera\", \"profile_path\": null}, {\"credit_id\": \"5aa5708e925141278a024381\", \"department\": \"Camera\", \"gender\": 0, \"id\": 8138, \"job\": \"Camera Technician\", \"name\": \"Don Conway\", \"profile_path\": null}, {\"credit_id\": \"5aa5732bc3a3687c0c027555\", \"department\": \"Writing\", \"gender\": 0, \"id\": 8157, \"job\": \"Dialogue\", \"name\": \"Doc Kane\", \"profile_path\": null}, {\"credit_id\": \"5aa5739f9251412787024f90\", \"department\": \"Sound\", \"gender\": 0, \"id\": 8160, \"job\": \"Foley\", \"name\": \"Dennie Thorpe\", \"profile_path\": null}, {\"credit_id\": \"5aa573adc3a3687c030235e7\", \"department\": \"Sound\", \"gender\": 0, \"id\": 8164, \"job\": \"Foley\", \"name\": \"Tony Eckert\", \"profile_path\": null}, {\"credit_id\": \"58921555c3a36809680091bd\", \"department\": \"Sound\", \"gender\": 2, \"id\": 8276, \"job\": \"Supervising Sound Editor\", \"name\": \"Tim Holland\", \"profile_path\": null}, {\"credit_id\": \"574f1240c3a3682e7300001c\", \"department\": \"Writing\", \"gender\": 2, \"id\": 12890, \"job\": \"Original Story\", \"name\": \"Pete Docter\", \"profile_path\": \"/r6ngPgnReA3RHmKjmSoVsc6Awjp.jpg\"}, {\"credit_id\": \"58920f0b9251412dd7009104\", \"department\": \"Crew\", \"gender\": 2, \"id\": 12890, \"job\": \"Supervising Animator\", \"name\": \"Pete Docter\", \"profile_path\": \"/r6ngPgnReA3RHmKjmSoVsc6Awjp.jpg\"}, {\"credit_id\": \"52fe4284c3a36847f8024f4f\", \"department\": \"Writing\", \"gender\": 2, \"id\": 12891, \"job\": \"Screenplay\", \"name\": \"Joss Whedon\", \"profile_path\": \"/dTiVsuaTVTeGmvkhcyJvKp2A5kr.jpg\"}, {\"credit_id\": \"52fe4284c3a36847f8024f5b\", \"department\": \"Writing\", \"gender\": 2, \"id\": 12892, \"job\": \"Screenplay\", \"name\": \"Joel Cohen\", \"profile_path\": \"/cCJDIvQatfefZtB9cI49S2L3erC.jpg\"}, {\"credit_id\": \"52fe4284c3a36847f8024f61\", \"department\": \"Writing\", \"gender\": 0, \"id\": 12893, \"job\": \"Screenplay\", \"name\": \"Alec Sokolow\", \"profile_path\": \"/v79vlRYi94BZUQnkkyznbGUZLjT.jpg\"}, {\"credit_id\": \"52fe4284c3a36847f8024f67\", \"department\": \"Production\", \"gender\": 1, \"id\": 12894, \"job\": \"Producer\", \"name\": \"Bonnie Arnold\", \"profile_path\": null}, {\"credit_id\": \"52fe4284c3a36847f8024f6d\", \"department\": \"Production\", \"gender\": 2, \"id\": 12895, \"job\": \"Executive Producer\", \"name\": \"Ed Catmull\", \"profile_path\": \"/dRxY51eWnvSpTn1A2MQOwbnHDFE.jpg\"}, {\"credit_id\": \"52fe4284c3a36847f8024f73\", \"department\": \"Production\", \"gender\": 2, \"id\": 12896, \"job\": \"Producer\", \"name\": \"Ralph Guggenheim\", \"profile_path\": null}, {\"credit_id\": \"52fe4284c3a36847f8024f79\", \"department\": \"Production\", \"gender\": 2, \"id\": 12897, \"job\": \"Executive Producer\", \"name\": \"Steve Jobs\", \"profile_path\": \"/mOMP3SwD5qWQSR0ldCIByd3guTV.jpg\"}, {\"credit_id\": \"5751ae4bc3a3683772002b7f\", \"department\": \"Visual Effects\", \"gender\": 2, \"id\": 12905, \"job\": \"Animation Director\", \"name\": \"Ash Brannon\", \"profile_path\": \"/6ueWgPEEBHvS3De2BHYQnYjRTig.jpg\"}, {\"credit_id\": \"58920f389251412dd700912d\", \"department\": \"Production\", \"gender\": 0, \"id\": 12909, \"job\": \"Production Supervisor\", \"name\": \"Karen Robert Jackson\", \"profile_path\": null}, {\"credit_id\": \"589212709251412dcd009676\", \"department\": \"Lighting\", \"gender\": 1, \"id\": 12912, \"job\": \"Lighting Supervisor\", \"name\": \"Sharon Calahan\", \"profile_path\": null}, {\"credit_id\": \"589212cdc3a3680970009268\", \"department\": \"Visual Effects\", \"gender\": 0, \"id\": 12915, \"job\": \"CG Painter\", \"name\": \"William Cone\", \"profile_path\": null}, {\"credit_id\": \"58921332c3a368634800467b\", \"department\": \"Visual Effects\", \"gender\": 0, \"id\": 12915, \"job\": \"Character Designer\", \"name\": \"William Cone\", \"profile_path\": null}, {\"credit_id\": \"58921698c3a368096a009788\", \"department\": \"Crew\", \"gender\": 2, \"id\": 15894, \"job\": \"Sound Design Assistant\", \"name\": \"Tom Myers\", \"profile_path\": null}, {\"credit_id\": \"5892127fc3a3686b0a004de5\", \"department\": \"Lighting\", \"gender\": 0, \"id\": 7899, \"job\": \"Lighting Supervisor\", \"name\": \"Galyn Susman\", \"profile_path\": null}, {\"credit_id\": \"5aa58ef80e0a2607510254a0\", \"department\": \"Crew\", \"gender\": 2, \"id\": 57673, \"job\": \"Production Controller\", \"name\": \"Kevin Reher\", \"profile_path\": null}, {\"credit_id\": \"589216f39251412dc2009cf3\", \"department\": \"Production\", \"gender\": 1, \"id\": 84493, \"job\": \"ADR Voice Casting\", \"name\": \"Mickie McGowan\", \"profile_path\": \"/k7TjJBfINsg8vLQxJwos6XObAD6.jpg\"}, {\"credit_id\": \"5892103bc3a368096a009180\", \"department\": \"Visual Effects\", \"gender\": 0, \"id\": 78009, \"job\": \"Animation\", \"name\": \"Colin Brady\", \"profile_path\": null}, {\"credit_id\": \"589211029251412dc8009598\", \"department\": \"Visual Effects\", \"gender\": 0, \"id\": 555795, \"job\": \"Animation\", \"name\": \"Mark Oftedal\", \"profile_path\": null}, {\"credit_id\": \"589210d7c3a3686b0a004c1f\", \"department\": \"Visual Effects\", \"gender\": 0, \"id\": 587314, \"job\": \"Animation\", \"name\": \"Guionne Leroy\", \"profile_path\": null}, {\"credit_id\": \"58920fbd9251412dcb00969c\", \"department\": \"Crew\", \"gender\": 0, \"id\": 953331, \"job\": \"Executive Music Producer\", \"name\": \"Chris Montan\", \"profile_path\": null}, {\"credit_id\": \"5aa593f6c3a3687c3202919a\", \"department\": \"Directing\", \"gender\": 2, \"id\": 958881, \"job\": \"Script Supervisor\", \"name\": \"Robert Lence\", \"profile_path\": \"/2AQskIsbv2cgXMNju1IlsJO2wBi.jpg\"}, {\"credit_id\": \"5892138e9251412dc20099fc\", \"department\": \"Visual Effects\", \"gender\": 0, \"id\": 1088034, \"job\": \"Character Designer\", \"name\": \"Tom Holloway\", \"profile_path\": \"/a0r0T2usTBpgMI5aZbRBDW1fTl8.jpg\"}, {\"credit_id\": \"5aa570a992514127900247f7\", \"department\": \"Production\", \"gender\": 1, \"id\": 1116126, \"job\": \"Casting Assistant\", \"name\": \"Meredith Layne\", \"profile_path\": null}, {\"credit_id\": \"598331bf925141421201044b\", \"department\": \"Editing\", \"gender\": 2, \"id\": 1168870, \"job\": \"Editor\", \"name\": \"Robert Gordon\", \"profile_path\": null}, {\"credit_id\": \"58921384c3a3680973008fd4\", \"department\": \"Visual Effects\", \"gender\": 2, \"id\": 1176752, \"job\": \"Character Designer\", \"name\": \"Dan Haskett\", \"profile_path\": null}, {\"credit_id\": \"5892111c9251412dcb0097e9\", \"department\": \"Visual Effects\", \"gender\": 0, \"id\": 1184140, \"job\": \"Animation\", \"name\": \"Steve Rabatich\", \"profile_path\": null}, {\"credit_id\": \"5892149ec3a3686348004798\", \"department\": \"Editing\", \"gender\": 0, \"id\": 1336438, \"job\": \"Assistant Editor\", \"name\": \"Dana Mulligan\", \"profile_path\": null}, {\"credit_id\": \"589217cec3a3686b0a0052ba\", \"department\": \"Sound\", \"gender\": 0, \"id\": 1372885, \"job\": \"Music Editor\", \"name\": \"James Flamberg\", \"profile_path\": null}, {\"credit_id\": \"5aa59450925141278d02711a\", \"department\": \"Crew\", \"gender\": 0, \"id\": 1399287, \"job\": \"Title Graphics\", \"name\": \"Mark Dornfeld\", \"profile_path\": null}, {\"credit_id\": \"5aa56a3c9251412787024604\", \"department\": \"Production\", \"gender\": 0, \"id\": 1401794, \"job\": \"Assistant Production Coordinator\", \"name\": \"Lucas Putnam\", \"profile_path\": null}, {\"credit_id\": \"589211d4c3a3680968008ed9\", \"department\": \"Visual Effects\", \"gender\": 0, \"id\": 1406878, \"job\": \"Visual Effects\", \"name\": \"Mark Thomas Henne\", \"profile_path\": null}, {\"credit_id\": \"589216a89251412dc2009ca4\", \"department\": \"Sound\", \"gender\": 0, \"id\": 1414177, \"job\": \"Assistant Sound Editor\", \"name\": \"J.R. Grubbs\", \"profile_path\": null}, {\"credit_id\": \"589215969251412dcb009bf6\", \"department\": \"Sound\", \"gender\": 1, \"id\": 1414182, \"job\": \"ADR Editor\", \"name\": \"Marilyn McCoppen\", \"profile_path\": null}, {\"credit_id\": \"5892154c9251412dd1009a56\", \"department\": \"Sound\", \"gender\": 0, \"id\": 1425978, \"job\": \"Sound Re-Recording Mixer\", \"name\": \"Gary Summers\", \"profile_path\": null}, {\"credit_id\": \"5892109b9251412dcd0094b0\", \"department\": \"Visual Effects\", \"gender\": 0, \"id\": 1426773, \"job\": \"Animation\", \"name\": \"Hal T. Hickel\", \"profile_path\": null}, {\"credit_id\": \"5693e6b29251417b0e0000e3\", \"department\": \"Editing\", \"gender\": 0, \"id\": 1429549, \"job\": \"Color Timer\", \"name\": \"Dale E. Grahn\", \"profile_path\": null}, {\"credit_id\": \"58921411c3a3686b0a004f70\", \"department\": \"Art\", \"gender\": 0, \"id\": 1443471, \"job\": \"Set Dresser\", \"name\": \"Sonoko Konishi\", \"profile_path\": null}, {\"credit_id\": \"5aa5738d0e0a26076002412f\", \"department\": \"Sound\", \"gender\": 0, \"id\": 1446996, \"job\": \"Foley\", \"name\": \"Tom Barwick\", \"profile_path\": null}, {\"credit_id\": \"58921395c3a368097700942f\", \"department\": \"Visual Effects\", \"gender\": 0, \"id\": 1447465, \"job\": \"Character Designer\", \"name\": \"Jean Gillmore\", \"profile_path\": null}, {\"credit_id\": \"5531824d9251415289000945\", \"department\": \"Visual Effects\", \"gender\": 0, \"id\": 1453514, \"job\": \"Animation\", \"name\": \"Kim Blanchette\", \"profile_path\": null}, {\"credit_id\": \"589210669251412dcd009466\", \"department\": \"Visual Effects\", \"gender\": 0, \"id\": 1454030, \"job\": \"Animation\", \"name\": \"Angie Glocka\", \"profile_path\": null}, {\"credit_id\": \"589211629251412dc5009b00\", \"department\": \"Visual Effects\", \"gender\": 0, \"id\": 1454034, \"job\": \"Animation\", \"name\": \"Ken Willard\", \"profile_path\": null}, {\"credit_id\": \"5aa590bf0e0a26075702c871\", \"department\": \"Crew\", \"gender\": 0, \"id\": 1455525, \"job\": \"Production Intern\", \"name\": \"Victoria Livingstone\", \"profile_path\": null}, {\"credit_id\": \"589218429251412dd1009d1b\", \"department\": \"Art\", \"gender\": 0, \"id\": 1458006, \"job\": \"Title Designer\", \"name\": \"Susan Bradley\", \"profile_path\": null}, {\"credit_id\": \"589214e39251412dc8009904\", \"department\": \"Crew\", \"gender\": 0, \"id\": 1468014, \"job\": \"Unit Publicist\", \"name\": \"Lauren Beth Strogoff\", \"profile_path\": null}, {\"credit_id\": \"5892112b9251412dcb0097fb\", \"department\": \"Visual Effects\", \"gender\": 0, \"id\": 1509559, \"job\": \"Animation\", \"name\": \"Steve Segal\", \"profile_path\": null}, {\"credit_id\": \"5892168cc3a36809660095f9\", \"department\": \"Sound\", \"gender\": 0, \"id\": 1552883, \"job\": \"Foley Editor\", \"name\": \"Mary Helen Leasman\", \"profile_path\": null}, {\"credit_id\": \"58921479c3a368096800910f\", \"department\": \"Editing\", \"gender\": 0, \"id\": 1589729, \"job\": \"Assistant Editor\", \"name\": \"Robin Lee\", \"profile_path\": null}, {\"credit_id\": \"574f12cec3a3682e82000022\", \"department\": \"Crew\", \"gender\": 0, \"id\": 1629419, \"job\": \"Post Production Supervisor\", \"name\": \"Patsy Bouge\", \"profile_path\": null}, {\"credit_id\": \"5aa569000e0a260757028e66\", \"department\": \"Visual Effects\", \"gender\": 0, \"id\": 1677823, \"job\": \"Animation Manager\", \"name\": \"Triva von Klark\", \"profile_path\": null}, {\"credit_id\": \"5aa58d9dc3a3687bfc02bdc7\", \"department\": \"Editing\", \"gender\": 0, \"id\": 1738132, \"job\": \"Negative Cutter\", \"name\": \"Rich Mackay\", \"profile_path\": null}, {\"credit_id\": \"58921831c3a3686348004a64\", \"department\": \"Editing\", \"gender\": 1, \"id\": 1739962, \"job\": \"Negative Cutter\", \"name\": \"Mary Beth Smith\", \"profile_path\": null}, {\"credit_id\": \"58921838c3a36809700096c0\", \"department\": \"Editing\", \"gender\": 0, \"id\": 1748513, \"job\": \"Negative Cutter\", \"name\": \"Rick Mackay\", \"profile_path\": null}, {\"credit_id\": \"5891ed99c3a3680966007670\", \"department\": \"Crew\", \"gender\": 0, \"id\": 1748557, \"job\": \"Supervising Technical Director\", \"name\": \"William Reeves\", \"profile_path\": null}, {\"credit_id\": \"5892105dc3a3680968008db2\", \"department\": \"Visual Effects\", \"gender\": 0, \"id\": 1748682, \"job\": \"Animation\", \"name\": \"Davey Crockett Feiten\", \"profile_path\": null}, {\"credit_id\": \"5892107c9251412dd1009613\", \"department\": \"Visual Effects\", \"gender\": 0, \"id\": 1748683, \"job\": \"Animation\", \"name\": \"Rex Grignon\", \"profile_path\": null}, {\"credit_id\": \"5892108ac3a3680973008d3f\", \"department\": \"Visual Effects\", \"gender\": 0, \"id\": 1748684, \"job\": \"Animation\", \"name\": \"Tom K. Gurney\", \"profile_path\": null}, {\"credit_id\": \"589210ccc3a3680977009191\", \"department\": \"Visual Effects\", \"gender\": 0, \"id\": 1748688, \"job\": \"Animation\", \"name\": \"Anthony B. LaMolinara\", \"profile_path\": null}, {\"credit_id\": \"589210ee9251412dc200978a\", \"department\": \"Visual Effects\", \"gender\": 0, \"id\": 1748689, \"job\": \"Animation\", \"name\": \"Les Major\", \"profile_path\": null}, {\"credit_id\": \"589211349251412dc80095c3\", \"department\": \"Visual Effects\", \"gender\": 0, \"id\": 1748691, \"job\": \"Animation\", \"name\": \"Doug Sheppeck\", \"profile_path\": null}, {\"credit_id\": \"589211f59251412dd4008e65\", \"department\": \"Visual Effects\", \"gender\": 0, \"id\": 1748698, \"job\": \"Visual Effects\", \"name\": \"Oren Jacob\", \"profile_path\": null}, {\"credit_id\": \"58921242c3a368096a00939b\", \"department\": \"Visual Effects\", \"gender\": 0, \"id\": 1748699, \"job\": \"Visual Effects\", \"name\": \"Darwyn Peachey\", \"profile_path\": null}, {\"credit_id\": \"5892124b9251412dc5009bd2\", \"department\": \"Visual Effects\", \"gender\": 0, \"id\": 1748701, \"job\": \"Visual Effects\", \"name\": \"Mitch Prater\", \"profile_path\": null}, {\"credit_id\": \"58921264c3a3686b0a004dbf\", \"department\": \"Visual Effects\", \"gender\": 0, \"id\": 1748703, \"job\": \"Visual Effects\", \"name\": \"Brian M. Rosen\", \"profile_path\": null}, {\"credit_id\": \"5892130f9251412dc8009791\", \"department\": \"Art\", \"gender\": 0, \"id\": 1748705, \"job\": \"Sculptor\", \"name\": \"Shelley Daniels Lekven\", \"profile_path\": null}, {\"credit_id\": \"5aa7b4599251415e4b01a7c4\", \"department\": \"Crew\", \"gender\": 2, \"id\": 1748706, \"job\": \"Software Engineer\", \"name\": \"Steve Johnson\", \"profile_path\": null}, {\"credit_id\": \"589213d39251412dc8009832\", \"department\": \"Directing\", \"gender\": 0, \"id\": 1748707, \"job\": \"Layout\", \"name\": \"Roman Figun\", \"profile_path\": null}, {\"credit_id\": \"589213e2c3a3680973009026\", \"department\": \"Directing\", \"gender\": 0, \"id\": 1748709, \"job\": \"Layout\", \"name\": \"Desir\\\\u00e9e Mourad\", \"profile_path\": null}, {\"credit_id\": \"589214099251412dc5009d57\", \"department\": \"Art\", \"gender\": 0, \"id\": 1748710, \"job\": \"Set Dresser\", \"name\": \"Kelly O\\'Connell\", \"profile_path\": null}, {\"credit_id\": \"58921434c3a368096a00956e\", \"department\": \"Art\", \"gender\": 0, \"id\": 1748711, \"job\": \"Set Dresser\", \"name\": \"Ann M. Rockwell\", \"profile_path\": null}, {\"credit_id\": \"5892144ac3a36809680090de\", \"department\": \"Editing\", \"gender\": 0, \"id\": 1748712, \"job\": \"Editorial Manager\", \"name\": \"Julie M. McDonald\", \"profile_path\": null}, {\"credit_id\": \"5892148b9251412dd10099cc\", \"department\": \"Editing\", \"gender\": 0, \"id\": 1748716, \"job\": \"Assistant Editor\", \"name\": \"Tom Freeman\", \"profile_path\": null}, {\"credit_id\": \"589214959251412dcb009b1f\", \"department\": \"Editing\", \"gender\": 0, \"id\": 1748717, \"job\": \"Assistant Editor\", \"name\": \"Ada Cochavi\", \"profile_path\": null}, {\"credit_id\": \"589214adc3a368096a0095db\", \"department\": \"Editing\", \"gender\": 0, \"id\": 1748718, \"job\": \"Editorial Coordinator\", \"name\": \"Deirdre Morrison\", \"profile_path\": null}, {\"credit_id\": \"589214c7c3a368097700952b\", \"department\": \"Production\", \"gender\": 0, \"id\": 1748719, \"job\": \"Production Coordinator\", \"name\": \"Lori Lombardo\", \"profile_path\": null}, {\"credit_id\": \"589214cec3a368096a009603\", \"department\": \"Production\", \"gender\": 0, \"id\": 1748720, \"job\": \"Production Coordinator\", \"name\": \"Ellen Devine\", \"profile_path\": null}, {\"credit_id\": \"589216c19251412dc2009cb9\", \"department\": \"Sound\", \"gender\": 1, \"id\": 1748724, \"job\": \"Assistant Sound Editor\", \"name\": \"Susan Sanford\", \"profile_path\": null}, {\"credit_id\": \"589216ccc3a3680973009274\", \"department\": \"Sound\", \"gender\": 0, \"id\": 1748725, \"job\": \"Assistant Sound Editor\", \"name\": \"Susan Popovic\", \"profile_path\": null}, {\"credit_id\": \"5aa591090e0a26075402adc4\", \"department\": \"Crew\", \"gender\": 0, \"id\": 1749775, \"job\": \"Production Office Assistant\", \"name\": \"Christian Hill\", \"profile_path\": null}, {\"credit_id\": \"5aa56fec0e0a260754027e48\", \"department\": \"Production\", \"gender\": 0, \"id\": 1760552, \"job\": \"Production Accountant\", \"name\": \"Terri Greening\", \"profile_path\": null}, {\"credit_id\": \"5aa58eca0e0a26075a02b73e\", \"department\": \"Crew\", \"gender\": 0, \"id\": 1847643, \"job\": \"Post Production Supervisor\", \"name\": \"Miguel \\\\u00c1ngel Poveda\", \"profile_path\": null}, {\"credit_id\": \"5aa56910c3a3687c03022b9e\", \"department\": \"Visual Effects\", \"gender\": 0, \"id\": 1909457, \"job\": \"Animation Manager\", \"name\": \"B.Z. Petroff\", \"profile_path\": null}, {\"credit_id\": \"5aa595e3c3a3687c32029346\", \"department\": \"Visual Effects\", \"gender\": 2, \"id\": 1993493, \"job\": \"Animation\", \"name\": \"Matthew Luhn\", \"profile_path\": null}, {\"credit_id\": \"5aa59876c3a3687bff02c877\", \"department\": \"Lighting\", \"gender\": 0, \"id\": 1994536, \"job\": \"Lighting Artist\", \"name\": \"Cynthia Dueltgen\", \"profile_path\": null}, {\"credit_id\": \"5aa597630e0a26075702cf95\", \"department\": \"Camera\", \"gender\": 0, \"id\": 1994587, \"job\": \"Camera Technician\", \"name\": \"Matthew Martin\", \"profile_path\": null}, {\"credit_id\": \"5aa5753ec3a3687c130242b6\", \"department\": \"Lighting\", \"gender\": 0, \"id\": 1994602, \"job\": \"Lighting Technician\", \"name\": \"Ewan Johnson\", \"profile_path\": null}, {\"credit_id\": \"5aa573d0c3a3687c320264f6\", \"department\": \"Directing\", \"gender\": 0, \"id\": 1994602, \"job\": \"Layout\", \"name\": \"Ewan Johnson\", \"profile_path\": null}, {\"credit_id\": \"5aa56a2b0e0a260757028fd7\", \"department\": \"Production\", \"gender\": 0, \"id\": 1994655, \"job\": \"Assistant Production Coordinator\", \"name\": \"Victoria Jaschob\", \"profile_path\": null}, {\"credit_id\": \"5aa59264c3a3687c0c02a177\", \"department\": \"Crew\", \"gender\": 0, \"id\": 1994673, \"job\": \"Software Engineer\", \"name\": \"Don Schreiter\", \"profile_path\": null}, {\"credit_id\": \"5aa598c60e0a26075a02c1fe\", \"department\": \"Lighting\", \"gender\": 0, \"id\": 1994686, \"job\": \"Lighting Artist\", \"name\": \"Mark T. VandeWettering\", \"profile_path\": null}, {\"credit_id\": \"5aa5928fc3a3687c13026aa0\", \"department\": \"Crew\", \"gender\": 0, \"id\": 1994686, \"job\": \"Software Engineer\", \"name\": \"Mark T. VandeWettering\", \"profile_path\": null}, {\"credit_id\": \"5aa568dfc3a3687bfc028a17\", \"department\": \"Visual Effects\", \"gender\": 0, \"id\": 1996103, \"job\": \"Animation Department Coordinator\", \"name\": \"Maureen Wylie\", \"profile_path\": null}, {\"credit_id\": \"5aa569dd0e0a26074b028404\", \"department\": \"Art\", \"gender\": 0, \"id\": 1996110, \"job\": \"Art Department Manager\", \"name\": \"Terry McQueen\", \"profile_path\": null}, {\"credit_id\": \"5aa56c35925141277e023cda\", \"department\": \"Lighting\", \"gender\": 0, \"id\": 1996115, \"job\": \"Lighting Coordinator\", \"name\": \"Douglas Todd\", \"profile_path\": null}, {\"credit_id\": \"5aa571209251412793024f94\", \"department\": \"Crew\", \"gender\": 0, \"id\": 1996141, \"job\": \"Information Systems Manager\", \"name\": \"David H. Ching\", \"profile_path\": null}, {\"credit_id\": \"5aa5731c925141277e024389\", \"department\": \"Writing\", \"gender\": 0, \"id\": 1996145, \"job\": \"Dialogue\", \"name\": \"Bob Baron\", \"profile_path\": null}, {\"credit_id\": \"5aa573660e0a26074b028f9c\", \"department\": \"Editing\", \"gender\": 0, \"id\": 1996149, \"job\": \"Editorial Production Assistant\", \"name\": \"Jesse William Wallace\", \"profile_path\": null}, {\"credit_id\": \"5aa57381925141278d024612\", \"department\": \"Production\", \"gender\": 0, \"id\": 1996151, \"job\": \"Finance\", \"name\": \"Lisa Ellis\", \"profile_path\": null}, {\"credit_id\": \"5aa58bd8925141277e0265b4\", \"department\": \"Visual Effects\", \"gender\": 0, \"id\": 1996159, \"job\": \"Modeling\", \"name\": \"Kevin Bjorke\", \"profile_path\": null}, {\"credit_id\": \"5aa574bc9251412793025343\", \"department\": \"Lighting\", \"gender\": 0, \"id\": 1996162, \"job\": \"Lighting Coordinator\", \"name\": \"Barbara T. Labounta\", \"profile_path\": null}, {\"credit_id\": \"5aa5892cc3a3687c320282be\", \"department\": \"Crew\", \"gender\": 0, \"id\": 1996232, \"job\": \"Systems Administrators & Support\", \"name\": \"Michael E. Murdock\", \"profile_path\": null}, {\"credit_id\": \"5aa58ba4c3a3687c2502b072\", \"department\": \"Visual Effects\", \"gender\": 0, \"id\": 1996241, \"job\": \"Modeling\", \"name\": \"Deborah R. Fowler\", \"profile_path\": null}, {\"credit_id\": \"5aa58bb10e0a26074b02b460\", \"department\": \"Visual Effects\", \"gender\": 0, \"id\": 1996243, \"job\": \"Modeling\", \"name\": \"Damir Frkovic\", \"profile_path\": null}, {\"credit_id\": \"5aa598860e0a260751025d94\", \"department\": \"Lighting\", \"gender\": 0, \"id\": 1996243, \"job\": \"Lighting Artist\", \"name\": \"Damir Frkovic\", \"profile_path\": null}, {\"credit_id\": \"5aa58bbc0e0a26075d02b2b1\", \"department\": \"Visual Effects\", \"gender\": 0, \"id\": 1996244, \"job\": \"Modeling\", \"name\": \"Shalini Govil-Pai\", \"profile_path\": null}, {\"credit_id\": \"5aa59894c3a3687c2502bfcb\", \"department\": \"Lighting\", \"gender\": 0, \"id\": 1996244, \"job\": \"Lighting Artist\", \"name\": \"Shalini Govil-Pai\", \"profile_path\": null}, {\"credit_id\": \"5aa58bc89251412790026bfd\", \"department\": \"Visual Effects\", \"gender\": 0, \"id\": 1996245, \"job\": \"Modeling\", \"name\": \"David R. Haumann\", \"profile_path\": null}, {\"credit_id\": \"5aa598b20e0a26075402b50d\", \"department\": \"Lighting\", \"gender\": 0, \"id\": 1996245, \"job\": \"Lighting Artist\", \"name\": \"David R. Haumann\", \"profile_path\": null}, {\"credit_id\": \"5aa58be30e0a26074b02b4be\", \"department\": \"Visual Effects\", \"gender\": 0, \"id\": 1996246, \"job\": \"Modeling\", \"name\": \"Yael Milo\", \"profile_path\": null}, {\"credit_id\": \"5aa598d30e0a26075402b538\", \"department\": \"Lighting\", \"gender\": 0, \"id\": 1996246, \"job\": \"Lighting Artist\", \"name\": \"Yael Milo\", \"profile_path\": null}, {\"credit_id\": \"5aa58cde0e0a26075a02b448\", \"department\": \"Sound\", \"gender\": 0, \"id\": 1996258, \"job\": \"Music Supervisor\", \"name\": \"Tod Cooper\", \"profile_path\": null}, {\"credit_id\": \"5aa58f2c925141279302781e\", \"department\": \"Crew\", \"gender\": 0, \"id\": 1996266, \"job\": \"Production Intern\", \"name\": \"Andrew Caldwell\", \"profile_path\": null}, {\"credit_id\": \"5aa58f5d0e0a26074b02ba3f\", \"department\": \"Crew\", \"gender\": 0, \"id\": 1996267, \"job\": \"Production Intern\", \"name\": \"Martin Caplan\", \"profile_path\": null}, {\"credit_id\": \"5aa58f6e0e0a26075702c676\", \"department\": \"Crew\", \"gender\": 0, \"id\": 1996268, \"job\": \"Production Intern\", \"name\": \"Ryan Chisum\", \"profile_path\": null}, {\"credit_id\": \"5aa58f80925141278d026c47\", \"department\": \"Crew\", \"gender\": 0, \"id\": 1996269, \"job\": \"Production Intern\", \"name\": \"Takeshi Hasegawa\", \"profile_path\": null}, {\"credit_id\": \"5aa58f94c3a3687c06025aa6\", \"department\": \"Crew\", \"gender\": 0, \"id\": 1996270, \"job\": \"Production Intern\", \"name\": \"Jay Hathaway\", \"profile_path\": null}, {\"credit_id\": \"5aa58fc0925141277e026b2c\", \"department\": \"Crew\", \"gender\": 0, \"id\": 1996271, \"job\": \"Production Intern\", \"name\": \"Jason Henry\", \"profile_path\": null}, {\"credit_id\": \"5aa58fdbc3a3687c03025bca\", \"department\": \"Crew\", \"gender\": 0, \"id\": 1996272, \"job\": \"Production Intern\", \"name\": \"Steven Kani\", \"profile_path\": null}, {\"credit_id\": \"5aa59035c3a3687c0c029ef0\", \"department\": \"Crew\", \"gender\": 0, \"id\": 1996277, \"job\": \"Production Intern\", \"name\": \"Kevin Page\", \"profile_path\": null}, {\"credit_id\": \"5aa59062c3a3687c0c029f26\", \"department\": \"Crew\", \"gender\": 0, \"id\": 1996281, \"job\": \"Production Intern\", \"name\": \"Benjamin Salles\", \"profile_path\": null}, {\"credit_id\": \"5aa590acc3a3687bff02c11e\", \"department\": \"Crew\", \"gender\": 2, \"id\": 1996283, \"job\": \"Production Intern\", \"name\": \"Dave Thomas\", \"profile_path\": null}, {\"credit_id\": \"5aa590e30e0a260760026a87\", \"department\": \"Crew\", \"gender\": 0, \"id\": 1996284, \"job\": \"Production Office Assistant\", \"name\": \"Nancy Copeland\", \"profile_path\": null}, {\"credit_id\": \"5aa590f00e0a26074b02bc5a\", \"department\": \"Crew\", \"gender\": 0, \"id\": 1996285, \"job\": \"Production Office Assistant\", \"name\": \"Alethea Harampolis\", \"profile_path\": null}, {\"credit_id\": \"5aa591fcc3a3687c06025d7d\", \"department\": \"Crew\", \"gender\": 0, \"id\": 1996289, \"job\": \"Software Engineer\", \"name\": \"Pat Hanrahan\", \"profile_path\": null}, {\"credit_id\": \"5aa5923d925141278d026f60\", \"department\": \"Crew\", \"gender\": 0, \"id\": 1996292, \"job\": \"Software Engineer\", \"name\": \"Jim Lawson\", \"profile_path\": null}, {\"credit_id\": \"5aa5924ac3a3687c06025ddc\", \"department\": \"Crew\", \"gender\": 0, \"id\": 1996294, \"job\": \"Software Engineer\", \"name\": \"M.W. Mantle\", \"profile_path\": null}, {\"credit_id\": \"5aa59256925141277e026e27\", \"department\": \"Crew\", \"gender\": 0, \"id\": 1996295, \"job\": \"Software Engineer\", \"name\": \"David Salesin\", \"profile_path\": null}, {\"credit_id\": \"5aa593339251412790027531\", \"department\": \"Visual Effects\", \"gender\": 0, \"id\": 1996300, \"job\": \"Shading\", \"name\": \"Keith B.C. Gordon\", \"profile_path\": null}, {\"credit_id\": \"5aa5933e925141279002753f\", \"department\": \"Visual Effects\", \"gender\": 0, \"id\": 1996301, \"job\": \"Shading\", \"name\": \"Larry Gritz\", \"profile_path\": null}, {\"credit_id\": \"5aa598a292514127840275ab\", \"department\": \"Lighting\", \"gender\": 0, \"id\": 1996301, \"job\": \"Lighting Artist\", \"name\": \"Larry Gritz\", \"profile_path\": null}, {\"credit_id\": \"5aa593899251412784027178\", \"department\": \"Crew\", \"gender\": 0, \"id\": 1996303, \"job\": \"Software Engineer\", \"name\": \"Bill Carson\", \"profile_path\": null}, {\"credit_id\": \"5aa59394c3a3687c03025fa5\", \"department\": \"Crew\", \"gender\": 0, \"id\": 1996304, \"job\": \"Software Engineer\", \"name\": \"Ken Huey\", \"profile_path\": null}, {\"credit_id\": \"5aa595a2c3a3687bfc02c7c2\", \"department\": \"Visual Effects\", \"gender\": 0, \"id\": 1996306, \"job\": \"Modeling\", \"name\": \"Mark Eastwood\", \"profile_path\": null}, {\"credit_id\": \"5aa595ad9251412784027353\", \"department\": \"Visual Effects\", \"gender\": 0, \"id\": 1996307, \"job\": \"Modeling\", \"name\": \"Monique Hodgkinson\", \"profile_path\": null}, {\"credit_id\": \"5aa595b8c3a3687c0302614e\", \"department\": \"Visual Effects\", \"gender\": 0, \"id\": 1996308, \"job\": \"Modeling\", \"name\": \"Grey Holland\", \"profile_path\": null}, {\"credit_id\": \"5aa59866925141278d027475\", \"department\": \"Lighting\", \"gender\": 0, \"id\": 1996316, \"job\": \"Lighting Artist\", \"name\": \"Larry Aupperle\", \"profile_path\": null}, {\"credit_id\": \"5aa598fd0e0a260760027127\", \"department\": \"Visual Effects\", \"gender\": 0, \"id\": 1996317, \"job\": \"Animation\", \"name\": \"Heather Knight\", \"profile_path\": null}, {\"credit_id\": \"5ab3b6180e0a265f24009c36\", \"department\": \"Visual Effects\", \"gender\": 0, \"id\": 2004942, \"job\": \"Animation\", \"name\": \"Roger Rose\", \"profile_path\": null}]}, \"translations\": null, \"keywords\": {\"keywords\": [{\"id\": 779, \"name\": \"martial arts\"}, {\"id\": 931, \"name\": \"jealousy\"}, {\"id\": 4290, \"name\": \"toy\"}, {\"id\": 5202, \"name\": \"boy\"}, {\"id\": 6054, \"name\": \"friendship\"}, {\"id\": 6733, \"name\": \"bullying\"}, {\"id\": 8102, \"name\": \"elementary school\"}, {\"id\": 9713, \"name\": \"friends\"}, {\"id\": 9823, \"name\": \"rivalry\"}, {\"id\": 10084, \"name\": \"rescue\"}, {\"id\": 10364, \"name\": \"mission\"}, {\"id\": 33553, \"name\": \"walkie talkie\"}, {\"id\": 165503, \"name\": \"boy next door\"}, {\"id\": 170722, \"name\": \"new toy\"}, {\"id\": 180523, \"name\": \"neighborhood\"}, {\"id\": 187065, \"name\": \"toy comes to life\"}, {\"id\": 242792, \"name\": \"resourcefulness\"}]}}']"
      ]
     },
     "execution_count": 67,
     "metadata": {},
     "output_type": "execute_result"
    }
   ],
   "source": [
    "TMDB_PATH = os.path.join(DATA_PATH, 'tmdb.json')\n",
    "tmdb = sc.textFile(TMDB_PATH)\n",
    "tmdb.take(1)"
   ]
  },
  {
   "cell_type": "code",
   "execution_count": 68,
   "metadata": {},
   "outputs": [
    {
     "data": {
      "text/plain": [
       "[(862,\n",
       "  {'adult': False,\n",
       "   'backdrop_path': '/dji4Fm0gCDVb9DQQMRvAI8YNnTz.jpg',\n",
       "   'belongs_to_collection': {'backdrop_path': '/9FBwqcd9IRruEDUrTdcaafOMKUq.jpg',\n",
       "    'id': 10194,\n",
       "    'name': 'Toy Story Collection',\n",
       "    'poster_path': '/7G9915LfUQ2lVfwMEEhDsn3kT4B.jpg'},\n",
       "   'budget': 30000000,\n",
       "   'casts': {'cast': [{'cast_id': 14,\n",
       "      'character': 'Woody (voice)',\n",
       "      'credit_id': '52fe4284c3a36847f8024f95',\n",
       "      'gender': 2,\n",
       "      'id': 31,\n",
       "      'name': 'Tom Hanks',\n",
       "      'order': 0,\n",
       "      'profile_path': '/xxPMucou2wRDxLrud8i2D4dsywh.jpg'},\n",
       "     {'cast_id': 15,\n",
       "      'character': 'Buzz Lightyear (voice)',\n",
       "      'credit_id': '52fe4284c3a36847f8024f99',\n",
       "      'gender': 2,\n",
       "      'id': 12898,\n",
       "      'name': 'Tim Allen',\n",
       "      'order': 1,\n",
       "      'profile_path': '/uX2xVf6pMmPepxnvFWyBtjexzgY.jpg'},\n",
       "     {'cast_id': 16,\n",
       "      'character': 'Mr. Potato Head (voice)',\n",
       "      'credit_id': '52fe4284c3a36847f8024f9d',\n",
       "      'gender': 2,\n",
       "      'id': 7167,\n",
       "      'name': 'Don Rickles',\n",
       "      'order': 2,\n",
       "      'profile_path': '/h5BcaDMPRVLHLDzbQavec4xfSdt.jpg'},\n",
       "     {'cast_id': 17,\n",
       "      'character': 'Slinky Dog (voice)',\n",
       "      'credit_id': '52fe4284c3a36847f8024fa1',\n",
       "      'gender': 2,\n",
       "      'id': 12899,\n",
       "      'name': 'Jim Varney',\n",
       "      'order': 3,\n",
       "      'profile_path': '/eIo2jVVXYgjDtaHoF19Ll9vtW7h.jpg'},\n",
       "     {'cast_id': 18,\n",
       "      'character': 'Rex (voice)',\n",
       "      'credit_id': '52fe4284c3a36847f8024fa5',\n",
       "      'gender': 2,\n",
       "      'id': 12900,\n",
       "      'name': 'Wallace Shawn',\n",
       "      'order': 4,\n",
       "      'profile_path': '/oGE6JqPP2xH4tNORKNqxbNPYi7u.jpg'},\n",
       "     {'cast_id': 19,\n",
       "      'character': 'Hamm (voice)',\n",
       "      'credit_id': '52fe4284c3a36847f8024fa9',\n",
       "      'gender': 2,\n",
       "      'id': 7907,\n",
       "      'name': 'John Ratzenberger',\n",
       "      'order': 5,\n",
       "      'profile_path': '/oRtDEOuIO1yDhTz5dORBdxXuLMO.jpg'},\n",
       "     {'cast_id': 20,\n",
       "      'character': 'Bo Peep (voice)',\n",
       "      'credit_id': '52fe4284c3a36847f8024fad',\n",
       "      'gender': 1,\n",
       "      'id': 8873,\n",
       "      'name': 'Annie Potts',\n",
       "      'order': 6,\n",
       "      'profile_path': '/hWIzkAH7jkSkxBfwdudxbSPxeno.jpg'},\n",
       "     {'cast_id': 26,\n",
       "      'character': 'Andy (voice)',\n",
       "      'credit_id': '52fe4284c3a36847f8024fc1',\n",
       "      'gender': 2,\n",
       "      'id': 1116442,\n",
       "      'name': 'John Morris',\n",
       "      'order': 7,\n",
       "      'profile_path': '/vYGyvK4LzeaUCoNSHtsuqJUY15M.jpg'},\n",
       "     {'cast_id': 22,\n",
       "      'character': 'Sid (voice)',\n",
       "      'credit_id': '52fe4284c3a36847f8024fb1',\n",
       "      'gender': 2,\n",
       "      'id': 12901,\n",
       "      'name': 'Erik von Detten',\n",
       "      'order': 8,\n",
       "      'profile_path': '/twnF1ZaJ1FUNUuo6xLXwcxjayBE.jpg'},\n",
       "     {'cast_id': 23,\n",
       "      'character': 'Mrs. Davis (voice)',\n",
       "      'credit_id': '52fe4284c3a36847f8024fb5',\n",
       "      'gender': 1,\n",
       "      'id': 12133,\n",
       "      'name': 'Laurie Metcalf',\n",
       "      'order': 9,\n",
       "      'profile_path': '/oHhTbuv9eNJV4YlgizhCkZsPV0N.jpg'},\n",
       "     {'cast_id': 24,\n",
       "      'character': 'Sergeant (voice)',\n",
       "      'credit_id': '52fe4284c3a36847f8024fb9',\n",
       "      'gender': 2,\n",
       "      'id': 8655,\n",
       "      'name': 'R. Lee Ermey',\n",
       "      'order': 10,\n",
       "      'profile_path': '/r8GBqFBjypLUP9VVqDqfZ7wYbSs.jpg'},\n",
       "     {'cast_id': 25,\n",
       "      'character': 'Hannah (voice)',\n",
       "      'credit_id': '52fe4284c3a36847f8024fbd',\n",
       "      'gender': 1,\n",
       "      'id': 12903,\n",
       "      'name': 'Sarah Freeman',\n",
       "      'order': 11,\n",
       "      'profile_path': None},\n",
       "     {'cast_id': 27,\n",
       "      'character': 'TV Announcer (voice)',\n",
       "      'credit_id': '52fe4284c3a36847f8024fc5',\n",
       "      'gender': 2,\n",
       "      'id': 37221,\n",
       "      'name': 'Penn Jillette',\n",
       "      'order': 12,\n",
       "      'profile_path': '/zmAaXUdx12NRsssgHbk1T31j2x9.jpg'},\n",
       "     {'cast_id': 162,\n",
       "      'character': 'Mom (voice)',\n",
       "      'credit_id': '59f546f592514141ed005c7f',\n",
       "      'gender': 1,\n",
       "      'id': 214701,\n",
       "      'name': 'Sherry Lynn',\n",
       "      'order': 13,\n",
       "      'profile_path': '/kQDSC2z7sb6S5HcpOH6cmeJokKE.jpg'},\n",
       "     {'cast_id': 300,\n",
       "      'character': 'Shark / Rocky Gibraltar (voice)',\n",
       "      'credit_id': '5aa599ad9251412787027f71',\n",
       "      'gender': 2,\n",
       "      'id': 19545,\n",
       "      'name': 'Jack Angel',\n",
       "      'order': 14,\n",
       "      'profile_path': '/qYvR57QBtXpdvj1jm2a8hjh7E4L.jpg'},\n",
       "     {'cast_id': 301,\n",
       "      'character': 'Wounded Soldier (voice)',\n",
       "      'credit_id': '5aa599edc3a3687bfc02cbf2',\n",
       "      'gender': 0,\n",
       "      'id': 1266092,\n",
       "      'name': 'Spencer Aste',\n",
       "      'order': 15,\n",
       "      'profile_path': '/iOgF5vVXIwrHXm0I7JJEjWiNRRT.jpg'},\n",
       "     {'cast_id': 302,\n",
       "      'character': 'Local Announcer (voice)',\n",
       "      'credit_id': '5aa59b229251412781026d69',\n",
       "      'gender': 2,\n",
       "      'id': 94038,\n",
       "      'name': 'Greg Berg',\n",
       "      'order': 16,\n",
       "      'profile_path': '/3TwBirdnh0AmKRSMhdWzzgZ0zTH.jpg'},\n",
       "     {'cast_id': 303,\n",
       "      'character': 'Kid (voice)',\n",
       "      'credit_id': '5aa59b4e925141278d027723',\n",
       "      'gender': 0,\n",
       "      'id': 1202809,\n",
       "      'name': 'Lisa Bradley',\n",
       "      'order': 17,\n",
       "      'profile_path': None},\n",
       "     {'cast_id': 304,\n",
       "      'character': 'Kid (voice)',\n",
       "      'credit_id': '5aa59b7b92514127840277c1',\n",
       "      'gender': 0,\n",
       "      'id': 134713,\n",
       "      'name': 'Kendall Cunningham',\n",
       "      'order': 18,\n",
       "      'profile_path': None},\n",
       "     {'cast_id': 305,\n",
       "      'character': 'Aliens / Pizza Planet Announcer (voice)',\n",
       "      'credit_id': '5aa59b8d0e0a26075a02c4d4',\n",
       "      'gender': 1,\n",
       "      'id': 73016,\n",
       "      'name': 'Debi Derryberry',\n",
       "      'order': 19,\n",
       "      'profile_path': '/mfmF3MjoL7sV76BSElFkVgDgA30.jpg'},\n",
       "     {'cast_id': 306,\n",
       "      'character': 'Kid (voice)',\n",
       "      'credit_id': '5aa59bc0c3a3687c0c02aa21',\n",
       "      'gender': 0,\n",
       "      'id': 186614,\n",
       "      'name': 'Cody Dorkin',\n",
       "      'order': 20,\n",
       "      'profile_path': '/pFmPDFwi1oPqvqZtiejlxTV86tn.jpg'},\n",
       "     {'cast_id': 307,\n",
       "      'character': 'Kid (voice)',\n",
       "      'credit_id': '5aa59bd0c3a3687bfc02cdf4',\n",
       "      'gender': 0,\n",
       "      'id': 1017469,\n",
       "      'name': 'Gregory Grudt',\n",
       "      'order': 21,\n",
       "      'profile_path': '/jISwKoeLNnc6X3Jylknnqdr6MZq.jpg'},\n",
       "     {'cast_id': 308,\n",
       "      'character': 'Kid (voice)',\n",
       "      'credit_id': '5aa59bde0e0a26074d0285ce',\n",
       "      'gender': 0,\n",
       "      'id': 1266095,\n",
       "      'name': 'Sam Lasseter',\n",
       "      'order': 22,\n",
       "      'profile_path': None},\n",
       "     {'cast_id': 309,\n",
       "      'character': 'Kid (voice)',\n",
       "      'credit_id': '5aa59c0b0e0a26075402b8a5',\n",
       "      'gender': 1,\n",
       "      'id': 178710,\n",
       "      'name': 'Brittany Levenbrown',\n",
       "      'order': 23,\n",
       "      'profile_path': None},\n",
       "     {'cast_id': 310,\n",
       "      'character': 'Monotone Announcer (voice)',\n",
       "      'credit_id': '5aa59c2e0e0a26075d02c5cd',\n",
       "      'gender': 2,\n",
       "      'id': 84213,\n",
       "      'name': 'Bill Farmer',\n",
       "      'order': 24,\n",
       "      'profile_path': '/4aDBlkt8nEkr1RkEhiKIbDWhpZB.jpg'},\n",
       "     {'cast_id': 311,\n",
       "      'character': 'Mission Control (voice)',\n",
       "      'credit_id': '5aa59c62925141278d027807',\n",
       "      'gender': 2,\n",
       "      'id': 1122227,\n",
       "      'name': 'Craig Good',\n",
       "      'order': 25,\n",
       "      'profile_path': '/xqm0wzTaReXJKtRKaVQg7cwUV14.jpg'},\n",
       "     {'cast_id': 312,\n",
       "      'character': 'Burned Rag Doll (voice)',\n",
       "      'credit_id': '5aa59c75925141277e02772d',\n",
       "      'gender': 0,\n",
       "      'id': 1217873,\n",
       "      'name': 'Danielle Judovits',\n",
       "      'order': 26,\n",
       "      'profile_path': '/bi4q307EILaJ4HIueVE4Hv59JXY.jpg'},\n",
       "     {'cast_id': 313,\n",
       "      'character': 'Kid (voice)',\n",
       "      'credit_id': '5aa59ca4c3a3687c2502c393',\n",
       "      'gender': 2,\n",
       "      'id': 79020,\n",
       "      'name': 'Scott McAfee',\n",
       "      'order': 27,\n",
       "      'profile_path': '/kEd73kzCrVhfnNa8LLULpna72Jk.jpg'},\n",
       "     {'cast_id': 314,\n",
       "      'character': 'Kid (voice)',\n",
       "      'credit_id': '5aa59cb20e0a26074b02c841',\n",
       "      'gender': 2,\n",
       "      'id': 166406,\n",
       "      'name': \"Ryan O'Donohue\",\n",
       "      'order': 28,\n",
       "      'profile_path': '/l1NV0rGZvHI7yGOeFbPeffoHtuP.jpg'},\n",
       "     {'cast_id': 315,\n",
       "      'character': 'Aliens / Robot / Mr. Spell (voice)',\n",
       "      'credit_id': '5aa59cbf0e0a260760027438',\n",
       "      'gender': 2,\n",
       "      'id': 7882,\n",
       "      'name': 'Jeff Pidgeon',\n",
       "      'order': 29,\n",
       "      'profile_path': '/yLddkg5HcgbJg00cS13GVBnP0HY.jpg'},\n",
       "     {'cast_id': 316,\n",
       "      'character': 'Pizza Delivery Guy / Angry Driver #2 (voice)',\n",
       "      'credit_id': '5aa59cce925141279302851e',\n",
       "      'gender': 2,\n",
       "      'id': 61968,\n",
       "      'name': 'Patrick Pinney',\n",
       "      'order': 30,\n",
       "      'profile_path': '/t2dM1NsGohkGpETRUF56W8vEbpA.jpg'},\n",
       "     {'cast_id': 317,\n",
       "      'character': 'Pizza Planet Announcer / Pizza Planet Guard (voice)',\n",
       "      'credit_id': '5aa59cdec3a3687c2502c3d9',\n",
       "      'gender': 2,\n",
       "      'id': 61969,\n",
       "      'name': 'Phil Proctor',\n",
       "      'order': 31,\n",
       "      'profile_path': '/wjb1LdfQ8tDJ65TWqj6VRCuLhSC.jpg'},\n",
       "     {'cast_id': 318,\n",
       "      'character': 'Gas Station Attendant (voice)',\n",
       "      'credit_id': '5aa59ced0e0a26075a02c62b',\n",
       "      'gender': 2,\n",
       "      'id': 157626,\n",
       "      'name': 'Jan Rabson',\n",
       "      'order': 32,\n",
       "      'profile_path': '/6mfE6PFzOlKb2Qf4dURbKzLrTTC.jpg'},\n",
       "     {'cast_id': 319,\n",
       "      'character': 'Lenny the Binoculars (voice)',\n",
       "      'credit_id': '5aa59cfa0e0a260760027472',\n",
       "      'gender': 2,\n",
       "      'id': 7911,\n",
       "      'name': 'Joe Ranft',\n",
       "      'order': 33,\n",
       "      'profile_path': '/f1BoWC2JbCcfP1e5hKfGsxkHzVU.jpg'},\n",
       "     {'cast_id': 320,\n",
       "      'character': 'Commercial Chorus (voice)',\n",
       "      'credit_id': '5aa59d0bc3a3687bff02cc99',\n",
       "      'gender': 2,\n",
       "      'id': 7,\n",
       "      'name': 'Andrew Stanton',\n",
       "      'order': 34,\n",
       "      'profile_path': '/gasNitCwepbqNcYBmDHpsCgZH0I.jpg'},\n",
       "     {'cast_id': 321,\n",
       "      'character': 'Kid (voice)',\n",
       "      'credit_id': '5aa59d18925141277e0277a1',\n",
       "      'gender': 2,\n",
       "      'id': 158124,\n",
       "      'name': 'Shane Sweet',\n",
       "      'order': 35,\n",
       "      'profile_path': '/lsutYUETco7Rjr24CLWPC80EzEP.jpg'},\n",
       "     {'cast_id': 322,\n",
       "      'character': 'Timon (voice) (archive footage) (uncredited)',\n",
       "      'credit_id': '5aa59d539251412781026f2c',\n",
       "      'gender': 2,\n",
       "      'id': 78729,\n",
       "      'name': 'Nathan Lane',\n",
       "      'order': 36,\n",
       "      'profile_path': '/qXupNWu2g9DsRjd7XGD5smGLWlZ.jpg'},\n",
       "     {'cast_id': 323,\n",
       "      'character': 'Commercial Chorus #1 (voice) (uncredited)',\n",
       "      'credit_id': '5aa59d62c3a3687c06026721',\n",
       "      'gender': 2,\n",
       "      'id': 7879,\n",
       "      'name': 'John Lasseter',\n",
       "      'order': 37,\n",
       "      'profile_path': '/7EdqiNbr4FRjIhKHyPPdFfEEEFG.jpg'},\n",
       "     {'cast_id': 324,\n",
       "      'character': 'Pumbaa (voice) (archive footage) (uncredited)',\n",
       "      'credit_id': '5aa59d6fc3a3687c2502c468',\n",
       "      'gender': 2,\n",
       "      'id': 69415,\n",
       "      'name': 'Ernie Sabella',\n",
       "      'order': 38,\n",
       "      'profile_path': '/nwdAp8FacfZ1eRU7gNkOwWvDqnc.jpg'}],\n",
       "    'crew': [{'credit_id': '52fe4284c3a36847f8024f55',\n",
       "      'department': 'Writing',\n",
       "      'gender': 2,\n",
       "      'id': 7,\n",
       "      'job': 'Screenplay',\n",
       "      'name': 'Andrew Stanton',\n",
       "      'profile_path': '/gasNitCwepbqNcYBmDHpsCgZH0I.jpg'},\n",
       "     {'credit_id': '5891edf9c3a36809700075e6',\n",
       "      'department': 'Writing',\n",
       "      'gender': 2,\n",
       "      'id': 7,\n",
       "      'job': 'Original Story',\n",
       "      'name': 'Andrew Stanton',\n",
       "      'profile_path': '/gasNitCwepbqNcYBmDHpsCgZH0I.jpg'},\n",
       "     {'credit_id': '5892132b9251412dc80097b1',\n",
       "      'department': 'Visual Effects',\n",
       "      'gender': 2,\n",
       "      'id': 7,\n",
       "      'job': 'Character Designer',\n",
       "      'name': 'Andrew Stanton',\n",
       "      'profile_path': '/gasNitCwepbqNcYBmDHpsCgZH0I.jpg'},\n",
       "     {'credit_id': '52fe4284c3a36847f8024f8b',\n",
       "      'department': 'Editing',\n",
       "      'gender': 2,\n",
       "      'id': 8,\n",
       "      'job': 'Editor',\n",
       "      'name': 'Lee Unkrich',\n",
       "      'profile_path': '/bdTCCXjgOV3YyaNmLGYGOxFQMOc.jpg'},\n",
       "     {'credit_id': '5aa58c01c3a3687c060255e1',\n",
       "      'department': 'Visual Effects',\n",
       "      'gender': 2,\n",
       "      'id': 9,\n",
       "      'job': 'Shading',\n",
       "      'name': 'Graham Walters',\n",
       "      'profile_path': '/kdiS9atzqHdD8WZhpsYMHPCOzi1.jpg'},\n",
       "     {'credit_id': '5aa58bf60e0a26075d02b325',\n",
       "      'department': 'Visual Effects',\n",
       "      'gender': 2,\n",
       "      'id': 9,\n",
       "      'job': 'Modeling',\n",
       "      'name': 'Graham Walters',\n",
       "      'profile_path': '/kdiS9atzqHdD8WZhpsYMHPCOzi1.jpg'},\n",
       "     {'credit_id': '52fe4284c3a36847f8024f49',\n",
       "      'department': 'Directing',\n",
       "      'gender': 2,\n",
       "      'id': 7879,\n",
       "      'job': 'Director',\n",
       "      'name': 'John Lasseter',\n",
       "      'profile_path': '/7EdqiNbr4FRjIhKHyPPdFfEEEFG.jpg'},\n",
       "     {'credit_id': '574f12309251415ca1000012',\n",
       "      'department': 'Writing',\n",
       "      'gender': 2,\n",
       "      'id': 7879,\n",
       "      'job': 'Original Story',\n",
       "      'name': 'John Lasseter',\n",
       "      'profile_path': '/7EdqiNbr4FRjIhKHyPPdFfEEEFG.jpg'},\n",
       "     {'credit_id': '5aa59daec3a3687bff02cd24',\n",
       "      'department': 'Production',\n",
       "      'gender': 2,\n",
       "      'id': 598,\n",
       "      'job': 'Casting',\n",
       "      'name': 'Mike Fenton',\n",
       "      'profile_path': None},\n",
       "     {'credit_id': '58920f1fc3a3680977009021',\n",
       "      'department': 'Sound',\n",
       "      'gender': 2,\n",
       "      'id': 2216,\n",
       "      'job': 'Sound Designer',\n",
       "      'name': 'Gary Rydstrom',\n",
       "      'profile_path': '/jZpr1nVfO7lldWI0YtmP1FGw7Rj.jpg'},\n",
       "     {'credit_id': '58921544c3a3686b0a00507d',\n",
       "      'department': 'Sound',\n",
       "      'gender': 2,\n",
       "      'id': 2216,\n",
       "      'job': 'Sound Re-Recording Mixer',\n",
       "      'name': 'Gary Rydstrom',\n",
       "      'profile_path': '/jZpr1nVfO7lldWI0YtmP1FGw7Rj.jpg'},\n",
       "     {'credit_id': '5aa59dddc3a3687c130273f4',\n",
       "      'department': 'Production',\n",
       "      'gender': 1,\n",
       "      'id': 2874,\n",
       "      'job': 'Casting',\n",
       "      'name': 'Janet Hirshenson',\n",
       "      'profile_path': None},\n",
       "     {'credit_id': '5892173dc3a3680968009351',\n",
       "      'department': 'Sound',\n",
       "      'gender': 2,\n",
       "      'id': 4949,\n",
       "      'job': 'Orchestrator',\n",
       "      'name': 'Don Davis',\n",
       "      'profile_path': '/FUcQUEOFH18BqYAeIs8VFud1E4.jpg'},\n",
       "     {'credit_id': '589215c39251412dcb009c12',\n",
       "      'department': 'Sound',\n",
       "      'gender': 0,\n",
       "      'id': 7069,\n",
       "      'job': 'Sound Effects Editor',\n",
       "      'name': 'Pat Jackson',\n",
       "      'profile_path': None},\n",
       "     {'credit_id': '5892110b9251412dc800959d',\n",
       "      'department': 'Visual Effects',\n",
       "      'gender': 2,\n",
       "      'id': 7882,\n",
       "      'job': 'Animation',\n",
       "      'name': 'Jeff Pidgeon',\n",
       "      'profile_path': '/yLddkg5HcgbJg00cS13GVBnP0HY.jpg'},\n",
       "     {'credit_id': '52fe4284c3a36847f8024f91',\n",
       "      'department': 'Art',\n",
       "      'gender': 2,\n",
       "      'id': 7883,\n",
       "      'job': 'Art Direction',\n",
       "      'name': 'Ralph Eggleston',\n",
       "      'profile_path': '/uUfcGKDsKO1aROMpXRs67Hn6RvR.jpg'},\n",
       "     {'credit_id': '5aa728a50e0a263dc4015a07',\n",
       "      'department': 'Sound',\n",
       "      'gender': 2,\n",
       "      'id': 7885,\n",
       "      'job': 'Original Music Composer',\n",
       "      'name': 'Randy Newman',\n",
       "      'profile_path': '/w0JzfoiM25nrnxYOzosPHRq6mlE.jpg'},\n",
       "     {'credit_id': '589217099251412dc500a018',\n",
       "      'department': 'Sound',\n",
       "      'gender': 2,\n",
       "      'id': 7885,\n",
       "      'job': 'Orchestrator',\n",
       "      'name': 'Randy Newman',\n",
       "      'profile_path': '/w0JzfoiM25nrnxYOzosPHRq6mlE.jpg'},\n",
       "     {'credit_id': '589211c1c3a3686b0a004d28',\n",
       "      'department': 'Visual Effects',\n",
       "      'gender': 0,\n",
       "      'id': 7887,\n",
       "      'job': 'Visual Effects Supervisor',\n",
       "      'name': 'Thomas Porter',\n",
       "      'profile_path': None},\n",
       "     {'credit_id': '5aa574529251412781023e4f',\n",
       "      'department': 'Art',\n",
       "      'gender': 1,\n",
       "      'id': 7890,\n",
       "      'job': 'Lead Painter',\n",
       "      'name': 'Tia W. Kratter',\n",
       "      'profile_path': None},\n",
       "     {'credit_id': '589210fa9251412dc8009595',\n",
       "      'department': 'Visual Effects',\n",
       "      'gender': 2,\n",
       "      'id': 7892,\n",
       "      'job': 'Animation',\n",
       "      'name': 'Glenn McQueen',\n",
       "      'profile_path': None},\n",
       "     {'credit_id': '589210069251412dd7009219',\n",
       "      'department': 'Visual Effects',\n",
       "      'gender': 0,\n",
       "      'id': 7893,\n",
       "      'job': 'Animation Director',\n",
       "      'name': 'Rich Quade',\n",
       "      'profile_path': None},\n",
       "     {'credit_id': '5aa59725925141277e027292',\n",
       "      'department': 'Visual Effects',\n",
       "      'gender': 0,\n",
       "      'id': 7897,\n",
       "      'job': 'Visual Effects Technical Director',\n",
       "      'name': 'Eben Ostby',\n",
       "      'profile_path': None},\n",
       "     {'credit_id': '589216e49251412dcd009a4f',\n",
       "      'department': 'Production',\n",
       "      'gender': 1,\n",
       "      'id': 7902,\n",
       "      'job': 'Casting Consultant',\n",
       "      'name': 'Ruth Lambert',\n",
       "      'profile_path': None},\n",
       "     {'credit_id': '574f12519251415c92000015',\n",
       "      'department': 'Writing',\n",
       "      'gender': 2,\n",
       "      'id': 7911,\n",
       "      'job': 'Original Story',\n",
       "      'name': 'Joe Ranft',\n",
       "      'profile_path': '/f1BoWC2JbCcfP1e5hKfGsxkHzVU.jpg'},\n",
       "     {'credit_id': '589210e1c3a36809770091a7',\n",
       "      'department': 'Visual Effects',\n",
       "      'gender': 2,\n",
       "      'id': 7918,\n",
       "      'job': 'Animation',\n",
       "      'name': 'Bud Luckey',\n",
       "      'profile_path': '/pcCh7G19FKMNijmPQg1PMH1btic.jpg'},\n",
       "     {'credit_id': '5aa56972925141278d023bb9',\n",
       "      'department': 'Writing',\n",
       "      'gender': 2,\n",
       "      'id': 7918,\n",
       "      'job': 'Story',\n",
       "      'name': 'Bud Luckey',\n",
       "      'profile_path': '/pcCh7G19FKMNijmPQg1PMH1btic.jpg'},\n",
       "     {'credit_id': '589213249251412dd100987b',\n",
       "      'department': 'Visual Effects',\n",
       "      'gender': 2,\n",
       "      'id': 7918,\n",
       "      'job': 'Character Designer',\n",
       "      'name': 'Bud Luckey',\n",
       "      'profile_path': '/pcCh7G19FKMNijmPQg1PMH1btic.jpg'},\n",
       "     {'credit_id': '5aa591189251412784026ef2',\n",
       "      'department': 'Crew',\n",
       "      'gender': 0,\n",
       "      'id': 7940,\n",
       "      'job': 'Production Office Assistant',\n",
       "      'name': 'Jonas Rivera',\n",
       "      'profile_path': '/uzoCan3ZeK2jXt3NaZ6uilvcQTU.jpg'},\n",
       "     {'credit_id': '572e2522c3a36869e6001a9c',\n",
       "      'department': 'Visual Effects',\n",
       "      'gender': 0,\n",
       "      'id': 7949,\n",
       "      'job': 'CG Painter',\n",
       "      'name': 'Robin Cooper',\n",
       "      'profile_path': None},\n",
       "     {'credit_id': '574f14f19251415ca1000082',\n",
       "      'department': 'Art',\n",
       "      'gender': 0,\n",
       "      'id': 7961,\n",
       "      'job': 'Sculptor',\n",
       "      'name': 'Norm DeCarlo',\n",
       "      'profile_path': None},\n",
       "     {'credit_id': '58921148c3a3686b0a004c99',\n",
       "      'department': 'Visual Effects',\n",
       "      'gender': 0,\n",
       "      'id': 8010,\n",
       "      'job': 'Animation',\n",
       "      'name': 'Doug Sweetland',\n",
       "      'profile_path': '/zYxgikK0IBkMUmUBXBppJJDK4ZD.jpg'},\n",
       "     {'credit_id': '5aa595f5c3a3687c13026db6',\n",
       "      'department': 'Visual Effects',\n",
       "      'gender': 0,\n",
       "      'id': 8015,\n",
       "      'job': 'Animation',\n",
       "      'name': 'Shawn Krause',\n",
       "      'profile_path': None},\n",
       "     {'credit_id': '58921113c3a36863480044e4',\n",
       "      'department': 'Visual Effects',\n",
       "      'gender': 0,\n",
       "      'id': 8017,\n",
       "      'job': 'Animation',\n",
       "      'name': 'Jeff Pratt',\n",
       "      'profile_path': None},\n",
       "     {'credit_id': '589210329251412dcd00943b',\n",
       "      'department': 'Visual Effects',\n",
       "      'gender': 0,\n",
       "      'id': 8025,\n",
       "      'job': 'Animation',\n",
       "      'name': 'Michael Berenstein',\n",
       "      'profile_path': None},\n",
       "     {'credit_id': '58921093c3a3686348004477',\n",
       "      'department': 'Visual Effects',\n",
       "      'gender': 2,\n",
       "      'id': 8029,\n",
       "      'job': 'Animation',\n",
       "      'name': 'Jimmy Hayward',\n",
       "      'profile_path': '/lTDRpudEY7BDwTefXbXzMlmb0ui.jpg'},\n",
       "     {'credit_id': '589210a29251412dc5009a29',\n",
       "      'department': 'Visual Effects',\n",
       "      'gender': 0,\n",
       "      'id': 8035,\n",
       "      'job': 'Animation',\n",
       "      'name': 'Karen Kiser',\n",
       "      'profile_path': None},\n",
       "     {'credit_id': '58921150c3a3680966009125',\n",
       "      'department': 'Visual Effects',\n",
       "      'gender': 0,\n",
       "      'id': 8044,\n",
       "      'job': 'Animation',\n",
       "      'name': 'David Tart',\n",
       "      'profile_path': None},\n",
       "     {'credit_id': '5892113cc3a3680970009106',\n",
       "      'department': 'Visual Effects',\n",
       "      'gender': 0,\n",
       "      'id': 8050,\n",
       "      'job': 'Animation',\n",
       "      'name': 'Alan Sperling',\n",
       "      'profile_path': None},\n",
       "     {'credit_id': '589216d79251412dc8009aa0',\n",
       "      'department': 'Sound',\n",
       "      'gender': 0,\n",
       "      'id': 8067,\n",
       "      'job': 'Assistant Sound Editor',\n",
       "      'name': 'Dan Engstrom',\n",
       "      'profile_path': None},\n",
       "     {'credit_id': '5aa58b7a9251412784026766',\n",
       "      'department': 'Visual Effects',\n",
       "      'gender': 0,\n",
       "      'id': 8082,\n",
       "      'job': 'Shading',\n",
       "      'name': 'Deirdre Warin',\n",
       "      'profile_path': None},\n",
       "     {'credit_id': '5aa58c100e0a26075402a654',\n",
       "      'department': 'Visual Effects',\n",
       "      'gender': 0,\n",
       "      'id': 8082,\n",
       "      'job': 'Modeling',\n",
       "      'name': 'Deirdre Warin',\n",
       "      'profile_path': None},\n",
       "     {'credit_id': '5aa58b990e0a26075d02b279',\n",
       "      'department': 'Visual Effects',\n",
       "      'gender': 0,\n",
       "      'id': 8086,\n",
       "      'job': 'Modeling',\n",
       "      'name': 'Mark Adams',\n",
       "      'profile_path': None},\n",
       "     {'credit_id': '5aa59849925141278a027474',\n",
       "      'department': 'Lighting',\n",
       "      'gender': 0,\n",
       "      'id': 8086,\n",
       "      'job': 'Lighting Artist',\n",
       "      'name': 'Mark Adams',\n",
       "      'profile_path': None},\n",
       "     {'credit_id': '5aa5927fc3a3687c06025e19',\n",
       "      'department': 'Crew',\n",
       "      'gender': 0,\n",
       "      'id': 8096,\n",
       "      'job': 'Software Engineer',\n",
       "      'name': 'Daniel McCoy',\n",
       "      'profile_path': None},\n",
       "     {'credit_id': '5aa592c80e0a26074b02beb8',\n",
       "      'department': 'Visual Effects',\n",
       "      'gender': 0,\n",
       "      'id': 8098,\n",
       "      'job': 'Shading',\n",
       "      'name': 'Anthony A. Apodaca',\n",
       "      'profile_path': None},\n",
       "     {'credit_id': '5aa59858925141277e02737d',\n",
       "      'department': 'Lighting',\n",
       "      'gender': 0,\n",
       "      'id': 8098,\n",
       "      'job': 'Lighting Artist',\n",
       "      'name': 'Anthony A. Apodaca',\n",
       "      'profile_path': None},\n",
       "     {'credit_id': '5aa592adc3a3687c03025ee5',\n",
       "      'department': 'Crew',\n",
       "      'gender': 0,\n",
       "      'id': 8098,\n",
       "      'job': 'Software Engineer',\n",
       "      'name': 'Anthony A. Apodaca',\n",
       "      'profile_path': None},\n",
       "     {'credit_id': '5aa591ebc3a3687bff02c2a3',\n",
       "      'department': 'Crew',\n",
       "      'gender': 0,\n",
       "      'id': 8125,\n",
       "      'job': 'Software Engineer',\n",
       "      'name': 'Rob Cook',\n",
       "      'profile_path': None},\n",
       "     {'credit_id': '5aa570d8c3a3687c0602329b',\n",
       "      'department': 'Camera',\n",
       "      'gender': 2,\n",
       "      'id': 8135,\n",
       "      'job': 'Camera Supervisor',\n",
       "      'name': 'Louis Rivera',\n",
       "      'profile_path': None},\n",
       "     {'credit_id': '5aa5708e925141278a024381',\n",
       "      'department': 'Camera',\n",
       "      'gender': 0,\n",
       "      'id': 8138,\n",
       "      'job': 'Camera Technician',\n",
       "      'name': 'Don Conway',\n",
       "      'profile_path': None},\n",
       "     {'credit_id': '5aa5732bc3a3687c0c027555',\n",
       "      'department': 'Writing',\n",
       "      'gender': 0,\n",
       "      'id': 8157,\n",
       "      'job': 'Dialogue',\n",
       "      'name': 'Doc Kane',\n",
       "      'profile_path': None},\n",
       "     {'credit_id': '5aa5739f9251412787024f90',\n",
       "      'department': 'Sound',\n",
       "      'gender': 0,\n",
       "      'id': 8160,\n",
       "      'job': 'Foley',\n",
       "      'name': 'Dennie Thorpe',\n",
       "      'profile_path': None},\n",
       "     {'credit_id': '5aa573adc3a3687c030235e7',\n",
       "      'department': 'Sound',\n",
       "      'gender': 0,\n",
       "      'id': 8164,\n",
       "      'job': 'Foley',\n",
       "      'name': 'Tony Eckert',\n",
       "      'profile_path': None},\n",
       "     {'credit_id': '58921555c3a36809680091bd',\n",
       "      'department': 'Sound',\n",
       "      'gender': 2,\n",
       "      'id': 8276,\n",
       "      'job': 'Supervising Sound Editor',\n",
       "      'name': 'Tim Holland',\n",
       "      'profile_path': None},\n",
       "     {'credit_id': '574f1240c3a3682e7300001c',\n",
       "      'department': 'Writing',\n",
       "      'gender': 2,\n",
       "      'id': 12890,\n",
       "      'job': 'Original Story',\n",
       "      'name': 'Pete Docter',\n",
       "      'profile_path': '/r6ngPgnReA3RHmKjmSoVsc6Awjp.jpg'},\n",
       "     {'credit_id': '58920f0b9251412dd7009104',\n",
       "      'department': 'Crew',\n",
       "      'gender': 2,\n",
       "      'id': 12890,\n",
       "      'job': 'Supervising Animator',\n",
       "      'name': 'Pete Docter',\n",
       "      'profile_path': '/r6ngPgnReA3RHmKjmSoVsc6Awjp.jpg'},\n",
       "     {'credit_id': '52fe4284c3a36847f8024f4f',\n",
       "      'department': 'Writing',\n",
       "      'gender': 2,\n",
       "      'id': 12891,\n",
       "      'job': 'Screenplay',\n",
       "      'name': 'Joss Whedon',\n",
       "      'profile_path': '/dTiVsuaTVTeGmvkhcyJvKp2A5kr.jpg'},\n",
       "     {'credit_id': '52fe4284c3a36847f8024f5b',\n",
       "      'department': 'Writing',\n",
       "      'gender': 2,\n",
       "      'id': 12892,\n",
       "      'job': 'Screenplay',\n",
       "      'name': 'Joel Cohen',\n",
       "      'profile_path': '/cCJDIvQatfefZtB9cI49S2L3erC.jpg'},\n",
       "     {'credit_id': '52fe4284c3a36847f8024f61',\n",
       "      'department': 'Writing',\n",
       "      'gender': 0,\n",
       "      'id': 12893,\n",
       "      'job': 'Screenplay',\n",
       "      'name': 'Alec Sokolow',\n",
       "      'profile_path': '/v79vlRYi94BZUQnkkyznbGUZLjT.jpg'},\n",
       "     {'credit_id': '52fe4284c3a36847f8024f67',\n",
       "      'department': 'Production',\n",
       "      'gender': 1,\n",
       "      'id': 12894,\n",
       "      'job': 'Producer',\n",
       "      'name': 'Bonnie Arnold',\n",
       "      'profile_path': None},\n",
       "     {'credit_id': '52fe4284c3a36847f8024f6d',\n",
       "      'department': 'Production',\n",
       "      'gender': 2,\n",
       "      'id': 12895,\n",
       "      'job': 'Executive Producer',\n",
       "      'name': 'Ed Catmull',\n",
       "      'profile_path': '/dRxY51eWnvSpTn1A2MQOwbnHDFE.jpg'},\n",
       "     {'credit_id': '52fe4284c3a36847f8024f73',\n",
       "      'department': 'Production',\n",
       "      'gender': 2,\n",
       "      'id': 12896,\n",
       "      'job': 'Producer',\n",
       "      'name': 'Ralph Guggenheim',\n",
       "      'profile_path': None},\n",
       "     {'credit_id': '52fe4284c3a36847f8024f79',\n",
       "      'department': 'Production',\n",
       "      'gender': 2,\n",
       "      'id': 12897,\n",
       "      'job': 'Executive Producer',\n",
       "      'name': 'Steve Jobs',\n",
       "      'profile_path': '/mOMP3SwD5qWQSR0ldCIByd3guTV.jpg'},\n",
       "     {'credit_id': '5751ae4bc3a3683772002b7f',\n",
       "      'department': 'Visual Effects',\n",
       "      'gender': 2,\n",
       "      'id': 12905,\n",
       "      'job': 'Animation Director',\n",
       "      'name': 'Ash Brannon',\n",
       "      'profile_path': '/6ueWgPEEBHvS3De2BHYQnYjRTig.jpg'},\n",
       "     {'credit_id': '58920f389251412dd700912d',\n",
       "      'department': 'Production',\n",
       "      'gender': 0,\n",
       "      'id': 12909,\n",
       "      'job': 'Production Supervisor',\n",
       "      'name': 'Karen Robert Jackson',\n",
       "      'profile_path': None},\n",
       "     {'credit_id': '589212709251412dcd009676',\n",
       "      'department': 'Lighting',\n",
       "      'gender': 1,\n",
       "      'id': 12912,\n",
       "      'job': 'Lighting Supervisor',\n",
       "      'name': 'Sharon Calahan',\n",
       "      'profile_path': None},\n",
       "     {'credit_id': '589212cdc3a3680970009268',\n",
       "      'department': 'Visual Effects',\n",
       "      'gender': 0,\n",
       "      'id': 12915,\n",
       "      'job': 'CG Painter',\n",
       "      'name': 'William Cone',\n",
       "      'profile_path': None},\n",
       "     {'credit_id': '58921332c3a368634800467b',\n",
       "      'department': 'Visual Effects',\n",
       "      'gender': 0,\n",
       "      'id': 12915,\n",
       "      'job': 'Character Designer',\n",
       "      'name': 'William Cone',\n",
       "      'profile_path': None},\n",
       "     {'credit_id': '58921698c3a368096a009788',\n",
       "      'department': 'Crew',\n",
       "      'gender': 2,\n",
       "      'id': 15894,\n",
       "      'job': 'Sound Design Assistant',\n",
       "      'name': 'Tom Myers',\n",
       "      'profile_path': None},\n",
       "     {'credit_id': '5892127fc3a3686b0a004de5',\n",
       "      'department': 'Lighting',\n",
       "      'gender': 0,\n",
       "      'id': 7899,\n",
       "      'job': 'Lighting Supervisor',\n",
       "      'name': 'Galyn Susman',\n",
       "      'profile_path': None},\n",
       "     {'credit_id': '5aa58ef80e0a2607510254a0',\n",
       "      'department': 'Crew',\n",
       "      'gender': 2,\n",
       "      'id': 57673,\n",
       "      'job': 'Production Controller',\n",
       "      'name': 'Kevin Reher',\n",
       "      'profile_path': None},\n",
       "     {'credit_id': '589216f39251412dc2009cf3',\n",
       "      'department': 'Production',\n",
       "      'gender': 1,\n",
       "      'id': 84493,\n",
       "      'job': 'ADR Voice Casting',\n",
       "      'name': 'Mickie McGowan',\n",
       "      'profile_path': '/k7TjJBfINsg8vLQxJwos6XObAD6.jpg'},\n",
       "     {'credit_id': '5892103bc3a368096a009180',\n",
       "      'department': 'Visual Effects',\n",
       "      'gender': 0,\n",
       "      'id': 78009,\n",
       "      'job': 'Animation',\n",
       "      'name': 'Colin Brady',\n",
       "      'profile_path': None},\n",
       "     {'credit_id': '589211029251412dc8009598',\n",
       "      'department': 'Visual Effects',\n",
       "      'gender': 0,\n",
       "      'id': 555795,\n",
       "      'job': 'Animation',\n",
       "      'name': 'Mark Oftedal',\n",
       "      'profile_path': None},\n",
       "     {'credit_id': '589210d7c3a3686b0a004c1f',\n",
       "      'department': 'Visual Effects',\n",
       "      'gender': 0,\n",
       "      'id': 587314,\n",
       "      'job': 'Animation',\n",
       "      'name': 'Guionne Leroy',\n",
       "      'profile_path': None},\n",
       "     {'credit_id': '58920fbd9251412dcb00969c',\n",
       "      'department': 'Crew',\n",
       "      'gender': 0,\n",
       "      'id': 953331,\n",
       "      'job': 'Executive Music Producer',\n",
       "      'name': 'Chris Montan',\n",
       "      'profile_path': None},\n",
       "     {'credit_id': '5aa593f6c3a3687c3202919a',\n",
       "      'department': 'Directing',\n",
       "      'gender': 2,\n",
       "      'id': 958881,\n",
       "      'job': 'Script Supervisor',\n",
       "      'name': 'Robert Lence',\n",
       "      'profile_path': '/2AQskIsbv2cgXMNju1IlsJO2wBi.jpg'},\n",
       "     {'credit_id': '5892138e9251412dc20099fc',\n",
       "      'department': 'Visual Effects',\n",
       "      'gender': 0,\n",
       "      'id': 1088034,\n",
       "      'job': 'Character Designer',\n",
       "      'name': 'Tom Holloway',\n",
       "      'profile_path': '/a0r0T2usTBpgMI5aZbRBDW1fTl8.jpg'},\n",
       "     {'credit_id': '5aa570a992514127900247f7',\n",
       "      'department': 'Production',\n",
       "      'gender': 1,\n",
       "      'id': 1116126,\n",
       "      'job': 'Casting Assistant',\n",
       "      'name': 'Meredith Layne',\n",
       "      'profile_path': None},\n",
       "     {'credit_id': '598331bf925141421201044b',\n",
       "      'department': 'Editing',\n",
       "      'gender': 2,\n",
       "      'id': 1168870,\n",
       "      'job': 'Editor',\n",
       "      'name': 'Robert Gordon',\n",
       "      'profile_path': None},\n",
       "     {'credit_id': '58921384c3a3680973008fd4',\n",
       "      'department': 'Visual Effects',\n",
       "      'gender': 2,\n",
       "      'id': 1176752,\n",
       "      'job': 'Character Designer',\n",
       "      'name': 'Dan Haskett',\n",
       "      'profile_path': None},\n",
       "     {'credit_id': '5892111c9251412dcb0097e9',\n",
       "      'department': 'Visual Effects',\n",
       "      'gender': 0,\n",
       "      'id': 1184140,\n",
       "      'job': 'Animation',\n",
       "      'name': 'Steve Rabatich',\n",
       "      'profile_path': None},\n",
       "     {'credit_id': '5892149ec3a3686348004798',\n",
       "      'department': 'Editing',\n",
       "      'gender': 0,\n",
       "      'id': 1336438,\n",
       "      'job': 'Assistant Editor',\n",
       "      'name': 'Dana Mulligan',\n",
       "      'profile_path': None},\n",
       "     {'credit_id': '589217cec3a3686b0a0052ba',\n",
       "      'department': 'Sound',\n",
       "      'gender': 0,\n",
       "      'id': 1372885,\n",
       "      'job': 'Music Editor',\n",
       "      'name': 'James Flamberg',\n",
       "      'profile_path': None},\n",
       "     {'credit_id': '5aa59450925141278d02711a',\n",
       "      'department': 'Crew',\n",
       "      'gender': 0,\n",
       "      'id': 1399287,\n",
       "      'job': 'Title Graphics',\n",
       "      'name': 'Mark Dornfeld',\n",
       "      'profile_path': None},\n",
       "     {'credit_id': '5aa56a3c9251412787024604',\n",
       "      'department': 'Production',\n",
       "      'gender': 0,\n",
       "      'id': 1401794,\n",
       "      'job': 'Assistant Production Coordinator',\n",
       "      'name': 'Lucas Putnam',\n",
       "      'profile_path': None},\n",
       "     {'credit_id': '589211d4c3a3680968008ed9',\n",
       "      'department': 'Visual Effects',\n",
       "      'gender': 0,\n",
       "      'id': 1406878,\n",
       "      'job': 'Visual Effects',\n",
       "      'name': 'Mark Thomas Henne',\n",
       "      'profile_path': None},\n",
       "     {'credit_id': '589216a89251412dc2009ca4',\n",
       "      'department': 'Sound',\n",
       "      'gender': 0,\n",
       "      'id': 1414177,\n",
       "      'job': 'Assistant Sound Editor',\n",
       "      'name': 'J.R. Grubbs',\n",
       "      'profile_path': None},\n",
       "     {'credit_id': '589215969251412dcb009bf6',\n",
       "      'department': 'Sound',\n",
       "      'gender': 1,\n",
       "      'id': 1414182,\n",
       "      'job': 'ADR Editor',\n",
       "      'name': 'Marilyn McCoppen',\n",
       "      'profile_path': None},\n",
       "     {'credit_id': '5892154c9251412dd1009a56',\n",
       "      'department': 'Sound',\n",
       "      'gender': 0,\n",
       "      'id': 1425978,\n",
       "      'job': 'Sound Re-Recording Mixer',\n",
       "      'name': 'Gary Summers',\n",
       "      'profile_path': None},\n",
       "     {'credit_id': '5892109b9251412dcd0094b0',\n",
       "      'department': 'Visual Effects',\n",
       "      'gender': 0,\n",
       "      'id': 1426773,\n",
       "      'job': 'Animation',\n",
       "      'name': 'Hal T. Hickel',\n",
       "      'profile_path': None},\n",
       "     {'credit_id': '5693e6b29251417b0e0000e3',\n",
       "      'department': 'Editing',\n",
       "      'gender': 0,\n",
       "      'id': 1429549,\n",
       "      'job': 'Color Timer',\n",
       "      'name': 'Dale E. Grahn',\n",
       "      'profile_path': None},\n",
       "     {'credit_id': '58921411c3a3686b0a004f70',\n",
       "      'department': 'Art',\n",
       "      'gender': 0,\n",
       "      'id': 1443471,\n",
       "      'job': 'Set Dresser',\n",
       "      'name': 'Sonoko Konishi',\n",
       "      'profile_path': None},\n",
       "     {'credit_id': '5aa5738d0e0a26076002412f',\n",
       "      'department': 'Sound',\n",
       "      'gender': 0,\n",
       "      'id': 1446996,\n",
       "      'job': 'Foley',\n",
       "      'name': 'Tom Barwick',\n",
       "      'profile_path': None},\n",
       "     {'credit_id': '58921395c3a368097700942f',\n",
       "      'department': 'Visual Effects',\n",
       "      'gender': 0,\n",
       "      'id': 1447465,\n",
       "      'job': 'Character Designer',\n",
       "      'name': 'Jean Gillmore',\n",
       "      'profile_path': None},\n",
       "     {'credit_id': '5531824d9251415289000945',\n",
       "      'department': 'Visual Effects',\n",
       "      'gender': 0,\n",
       "      'id': 1453514,\n",
       "      'job': 'Animation',\n",
       "      'name': 'Kim Blanchette',\n",
       "      'profile_path': None},\n",
       "     {'credit_id': '589210669251412dcd009466',\n",
       "      'department': 'Visual Effects',\n",
       "      'gender': 0,\n",
       "      'id': 1454030,\n",
       "      'job': 'Animation',\n",
       "      'name': 'Angie Glocka',\n",
       "      'profile_path': None},\n",
       "     {'credit_id': '589211629251412dc5009b00',\n",
       "      'department': 'Visual Effects',\n",
       "      'gender': 0,\n",
       "      'id': 1454034,\n",
       "      'job': 'Animation',\n",
       "      'name': 'Ken Willard',\n",
       "      'profile_path': None},\n",
       "     {'credit_id': '5aa590bf0e0a26075702c871',\n",
       "      'department': 'Crew',\n",
       "      'gender': 0,\n",
       "      'id': 1455525,\n",
       "      'job': 'Production Intern',\n",
       "      'name': 'Victoria Livingstone',\n",
       "      'profile_path': None},\n",
       "     {'credit_id': '589218429251412dd1009d1b',\n",
       "      'department': 'Art',\n",
       "      'gender': 0,\n",
       "      'id': 1458006,\n",
       "      'job': 'Title Designer',\n",
       "      'name': 'Susan Bradley',\n",
       "      'profile_path': None},\n",
       "     {'credit_id': '589214e39251412dc8009904',\n",
       "      'department': 'Crew',\n",
       "      'gender': 0,\n",
       "      'id': 1468014,\n",
       "      'job': 'Unit Publicist',\n",
       "      'name': 'Lauren Beth Strogoff',\n",
       "      'profile_path': None},\n",
       "     {'credit_id': '5892112b9251412dcb0097fb',\n",
       "      'department': 'Visual Effects',\n",
       "      'gender': 0,\n",
       "      'id': 1509559,\n",
       "      'job': 'Animation',\n",
       "      'name': 'Steve Segal',\n",
       "      'profile_path': None},\n",
       "     {'credit_id': '5892168cc3a36809660095f9',\n",
       "      'department': 'Sound',\n",
       "      'gender': 0,\n",
       "      'id': 1552883,\n",
       "      'job': 'Foley Editor',\n",
       "      'name': 'Mary Helen Leasman',\n",
       "      'profile_path': None},\n",
       "     {'credit_id': '58921479c3a368096800910f',\n",
       "      'department': 'Editing',\n",
       "      'gender': 0,\n",
       "      'id': 1589729,\n",
       "      'job': 'Assistant Editor',\n",
       "      'name': 'Robin Lee',\n",
       "      'profile_path': None},\n",
       "     {'credit_id': '574f12cec3a3682e82000022',\n",
       "      'department': 'Crew',\n",
       "      'gender': 0,\n",
       "      'id': 1629419,\n",
       "      'job': 'Post Production Supervisor',\n",
       "      'name': 'Patsy Bouge',\n",
       "      'profile_path': None},\n",
       "     {'credit_id': '5aa569000e0a260757028e66',\n",
       "      'department': 'Visual Effects',\n",
       "      'gender': 0,\n",
       "      'id': 1677823,\n",
       "      'job': 'Animation Manager',\n",
       "      'name': 'Triva von Klark',\n",
       "      'profile_path': None},\n",
       "     {'credit_id': '5aa58d9dc3a3687bfc02bdc7',\n",
       "      'department': 'Editing',\n",
       "      'gender': 0,\n",
       "      'id': 1738132,\n",
       "      'job': 'Negative Cutter',\n",
       "      'name': 'Rich Mackay',\n",
       "      'profile_path': None},\n",
       "     {'credit_id': '58921831c3a3686348004a64',\n",
       "      'department': 'Editing',\n",
       "      'gender': 1,\n",
       "      'id': 1739962,\n",
       "      'job': 'Negative Cutter',\n",
       "      'name': 'Mary Beth Smith',\n",
       "      'profile_path': None},\n",
       "     {'credit_id': '58921838c3a36809700096c0',\n",
       "      'department': 'Editing',\n",
       "      'gender': 0,\n",
       "      'id': 1748513,\n",
       "      'job': 'Negative Cutter',\n",
       "      'name': 'Rick Mackay',\n",
       "      'profile_path': None},\n",
       "     {'credit_id': '5891ed99c3a3680966007670',\n",
       "      'department': 'Crew',\n",
       "      'gender': 0,\n",
       "      'id': 1748557,\n",
       "      'job': 'Supervising Technical Director',\n",
       "      'name': 'William Reeves',\n",
       "      'profile_path': None},\n",
       "     {'credit_id': '5892105dc3a3680968008db2',\n",
       "      'department': 'Visual Effects',\n",
       "      'gender': 0,\n",
       "      'id': 1748682,\n",
       "      'job': 'Animation',\n",
       "      'name': 'Davey Crockett Feiten',\n",
       "      'profile_path': None},\n",
       "     {'credit_id': '5892107c9251412dd1009613',\n",
       "      'department': 'Visual Effects',\n",
       "      'gender': 0,\n",
       "      'id': 1748683,\n",
       "      'job': 'Animation',\n",
       "      'name': 'Rex Grignon',\n",
       "      'profile_path': None},\n",
       "     {'credit_id': '5892108ac3a3680973008d3f',\n",
       "      'department': 'Visual Effects',\n",
       "      'gender': 0,\n",
       "      'id': 1748684,\n",
       "      'job': 'Animation',\n",
       "      'name': 'Tom K. Gurney',\n",
       "      'profile_path': None},\n",
       "     {'credit_id': '589210ccc3a3680977009191',\n",
       "      'department': 'Visual Effects',\n",
       "      'gender': 0,\n",
       "      'id': 1748688,\n",
       "      'job': 'Animation',\n",
       "      'name': 'Anthony B. LaMolinara',\n",
       "      'profile_path': None},\n",
       "     {'credit_id': '589210ee9251412dc200978a',\n",
       "      'department': 'Visual Effects',\n",
       "      'gender': 0,\n",
       "      'id': 1748689,\n",
       "      'job': 'Animation',\n",
       "      'name': 'Les Major',\n",
       "      'profile_path': None},\n",
       "     {'credit_id': '589211349251412dc80095c3',\n",
       "      'department': 'Visual Effects',\n",
       "      'gender': 0,\n",
       "      'id': 1748691,\n",
       "      'job': 'Animation',\n",
       "      'name': 'Doug Sheppeck',\n",
       "      'profile_path': None},\n",
       "     {'credit_id': '589211f59251412dd4008e65',\n",
       "      'department': 'Visual Effects',\n",
       "      'gender': 0,\n",
       "      'id': 1748698,\n",
       "      'job': 'Visual Effects',\n",
       "      'name': 'Oren Jacob',\n",
       "      'profile_path': None},\n",
       "     {'credit_id': '58921242c3a368096a00939b',\n",
       "      'department': 'Visual Effects',\n",
       "      'gender': 0,\n",
       "      'id': 1748699,\n",
       "      'job': 'Visual Effects',\n",
       "      'name': 'Darwyn Peachey',\n",
       "      'profile_path': None},\n",
       "     {'credit_id': '5892124b9251412dc5009bd2',\n",
       "      'department': 'Visual Effects',\n",
       "      'gender': 0,\n",
       "      'id': 1748701,\n",
       "      'job': 'Visual Effects',\n",
       "      'name': 'Mitch Prater',\n",
       "      'profile_path': None},\n",
       "     {'credit_id': '58921264c3a3686b0a004dbf',\n",
       "      'department': 'Visual Effects',\n",
       "      'gender': 0,\n",
       "      'id': 1748703,\n",
       "      'job': 'Visual Effects',\n",
       "      'name': 'Brian M. Rosen',\n",
       "      'profile_path': None},\n",
       "     {'credit_id': '5892130f9251412dc8009791',\n",
       "      'department': 'Art',\n",
       "      'gender': 0,\n",
       "      'id': 1748705,\n",
       "      'job': 'Sculptor',\n",
       "      'name': 'Shelley Daniels Lekven',\n",
       "      'profile_path': None},\n",
       "     {'credit_id': '5aa7b4599251415e4b01a7c4',\n",
       "      'department': 'Crew',\n",
       "      'gender': 2,\n",
       "      'id': 1748706,\n",
       "      'job': 'Software Engineer',\n",
       "      'name': 'Steve Johnson',\n",
       "      'profile_path': None},\n",
       "     {'credit_id': '589213d39251412dc8009832',\n",
       "      'department': 'Directing',\n",
       "      'gender': 0,\n",
       "      'id': 1748707,\n",
       "      'job': 'Layout',\n",
       "      'name': 'Roman Figun',\n",
       "      'profile_path': None},\n",
       "     {'credit_id': '589213e2c3a3680973009026',\n",
       "      'department': 'Directing',\n",
       "      'gender': 0,\n",
       "      'id': 1748709,\n",
       "      'job': 'Layout',\n",
       "      'name': 'Desirée Mourad',\n",
       "      'profile_path': None},\n",
       "     {'credit_id': '589214099251412dc5009d57',\n",
       "      'department': 'Art',\n",
       "      'gender': 0,\n",
       "      'id': 1748710,\n",
       "      'job': 'Set Dresser',\n",
       "      'name': \"Kelly O'Connell\",\n",
       "      'profile_path': None},\n",
       "     {'credit_id': '58921434c3a368096a00956e',\n",
       "      'department': 'Art',\n",
       "      'gender': 0,\n",
       "      'id': 1748711,\n",
       "      'job': 'Set Dresser',\n",
       "      'name': 'Ann M. Rockwell',\n",
       "      'profile_path': None},\n",
       "     {'credit_id': '5892144ac3a36809680090de',\n",
       "      'department': 'Editing',\n",
       "      'gender': 0,\n",
       "      'id': 1748712,\n",
       "      'job': 'Editorial Manager',\n",
       "      'name': 'Julie M. McDonald',\n",
       "      'profile_path': None},\n",
       "     {'credit_id': '5892148b9251412dd10099cc',\n",
       "      'department': 'Editing',\n",
       "      'gender': 0,\n",
       "      'id': 1748716,\n",
       "      'job': 'Assistant Editor',\n",
       "      'name': 'Tom Freeman',\n",
       "      'profile_path': None},\n",
       "     {'credit_id': '589214959251412dcb009b1f',\n",
       "      'department': 'Editing',\n",
       "      'gender': 0,\n",
       "      'id': 1748717,\n",
       "      'job': 'Assistant Editor',\n",
       "      'name': 'Ada Cochavi',\n",
       "      'profile_path': None},\n",
       "     {'credit_id': '589214adc3a368096a0095db',\n",
       "      'department': 'Editing',\n",
       "      'gender': 0,\n",
       "      'id': 1748718,\n",
       "      'job': 'Editorial Coordinator',\n",
       "      'name': 'Deirdre Morrison',\n",
       "      'profile_path': None},\n",
       "     {'credit_id': '589214c7c3a368097700952b',\n",
       "      'department': 'Production',\n",
       "      'gender': 0,\n",
       "      'id': 1748719,\n",
       "      'job': 'Production Coordinator',\n",
       "      'name': 'Lori Lombardo',\n",
       "      'profile_path': None},\n",
       "     {'credit_id': '589214cec3a368096a009603',\n",
       "      'department': 'Production',\n",
       "      'gender': 0,\n",
       "      'id': 1748720,\n",
       "      'job': 'Production Coordinator',\n",
       "      'name': 'Ellen Devine',\n",
       "      'profile_path': None},\n",
       "     {'credit_id': '589216c19251412dc2009cb9',\n",
       "      'department': 'Sound',\n",
       "      'gender': 1,\n",
       "      'id': 1748724,\n",
       "      'job': 'Assistant Sound Editor',\n",
       "      'name': 'Susan Sanford',\n",
       "      'profile_path': None},\n",
       "     {'credit_id': '589216ccc3a3680973009274',\n",
       "      'department': 'Sound',\n",
       "      'gender': 0,\n",
       "      'id': 1748725,\n",
       "      'job': 'Assistant Sound Editor',\n",
       "      'name': 'Susan Popovic',\n",
       "      'profile_path': None},\n",
       "     {'credit_id': '5aa591090e0a26075402adc4',\n",
       "      'department': 'Crew',\n",
       "      'gender': 0,\n",
       "      'id': 1749775,\n",
       "      'job': 'Production Office Assistant',\n",
       "      'name': 'Christian Hill',\n",
       "      'profile_path': None},\n",
       "     {'credit_id': '5aa56fec0e0a260754027e48',\n",
       "      'department': 'Production',\n",
       "      'gender': 0,\n",
       "      'id': 1760552,\n",
       "      'job': 'Production Accountant',\n",
       "      'name': 'Terri Greening',\n",
       "      'profile_path': None},\n",
       "     {'credit_id': '5aa58eca0e0a26075a02b73e',\n",
       "      'department': 'Crew',\n",
       "      'gender': 0,\n",
       "      'id': 1847643,\n",
       "      'job': 'Post Production Supervisor',\n",
       "      'name': 'Miguel Ángel Poveda',\n",
       "      'profile_path': None},\n",
       "     {'credit_id': '5aa56910c3a3687c03022b9e',\n",
       "      'department': 'Visual Effects',\n",
       "      'gender': 0,\n",
       "      'id': 1909457,\n",
       "      'job': 'Animation Manager',\n",
       "      'name': 'B.Z. Petroff',\n",
       "      'profile_path': None},\n",
       "     {'credit_id': '5aa595e3c3a3687c32029346',\n",
       "      'department': 'Visual Effects',\n",
       "      'gender': 2,\n",
       "      'id': 1993493,\n",
       "      'job': 'Animation',\n",
       "      'name': 'Matthew Luhn',\n",
       "      'profile_path': None},\n",
       "     {'credit_id': '5aa59876c3a3687bff02c877',\n",
       "      'department': 'Lighting',\n",
       "      'gender': 0,\n",
       "      'id': 1994536,\n",
       "      'job': 'Lighting Artist',\n",
       "      'name': 'Cynthia Dueltgen',\n",
       "      'profile_path': None},\n",
       "     {'credit_id': '5aa597630e0a26075702cf95',\n",
       "      'department': 'Camera',\n",
       "      'gender': 0,\n",
       "      'id': 1994587,\n",
       "      'job': 'Camera Technician',\n",
       "      'name': 'Matthew Martin',\n",
       "      'profile_path': None},\n",
       "     {'credit_id': '5aa5753ec3a3687c130242b6',\n",
       "      'department': 'Lighting',\n",
       "      'gender': 0,\n",
       "      'id': 1994602,\n",
       "      'job': 'Lighting Technician',\n",
       "      'name': 'Ewan Johnson',\n",
       "      'profile_path': None},\n",
       "     {'credit_id': '5aa573d0c3a3687c320264f6',\n",
       "      'department': 'Directing',\n",
       "      'gender': 0,\n",
       "      'id': 1994602,\n",
       "      'job': 'Layout',\n",
       "      'name': 'Ewan Johnson',\n",
       "      'profile_path': None},\n",
       "     {'credit_id': '5aa56a2b0e0a260757028fd7',\n",
       "      'department': 'Production',\n",
       "      'gender': 0,\n",
       "      'id': 1994655,\n",
       "      'job': 'Assistant Production Coordinator',\n",
       "      'name': 'Victoria Jaschob',\n",
       "      'profile_path': None},\n",
       "     {'credit_id': '5aa59264c3a3687c0c02a177',\n",
       "      'department': 'Crew',\n",
       "      'gender': 0,\n",
       "      'id': 1994673,\n",
       "      'job': 'Software Engineer',\n",
       "      'name': 'Don Schreiter',\n",
       "      'profile_path': None},\n",
       "     {'credit_id': '5aa598c60e0a26075a02c1fe',\n",
       "      'department': 'Lighting',\n",
       "      'gender': 0,\n",
       "      'id': 1994686,\n",
       "      'job': 'Lighting Artist',\n",
       "      'name': 'Mark T. VandeWettering',\n",
       "      'profile_path': None},\n",
       "     {'credit_id': '5aa5928fc3a3687c13026aa0',\n",
       "      'department': 'Crew',\n",
       "      'gender': 0,\n",
       "      'id': 1994686,\n",
       "      'job': 'Software Engineer',\n",
       "      'name': 'Mark T. VandeWettering',\n",
       "      'profile_path': None},\n",
       "     {'credit_id': '5aa568dfc3a3687bfc028a17',\n",
       "      'department': 'Visual Effects',\n",
       "      'gender': 0,\n",
       "      'id': 1996103,\n",
       "      'job': 'Animation Department Coordinator',\n",
       "      'name': 'Maureen Wylie',\n",
       "      'profile_path': None},\n",
       "     {'credit_id': '5aa569dd0e0a26074b028404',\n",
       "      'department': 'Art',\n",
       "      'gender': 0,\n",
       "      'id': 1996110,\n",
       "      'job': 'Art Department Manager',\n",
       "      'name': 'Terry McQueen',\n",
       "      'profile_path': None},\n",
       "     {'credit_id': '5aa56c35925141277e023cda',\n",
       "      'department': 'Lighting',\n",
       "      'gender': 0,\n",
       "      'id': 1996115,\n",
       "      'job': 'Lighting Coordinator',\n",
       "      'name': 'Douglas Todd',\n",
       "      'profile_path': None},\n",
       "     {'credit_id': '5aa571209251412793024f94',\n",
       "      'department': 'Crew',\n",
       "      'gender': 0,\n",
       "      'id': 1996141,\n",
       "      'job': 'Information Systems Manager',\n",
       "      'name': 'David H. Ching',\n",
       "      'profile_path': None},\n",
       "     {'credit_id': '5aa5731c925141277e024389',\n",
       "      'department': 'Writing',\n",
       "      'gender': 0,\n",
       "      'id': 1996145,\n",
       "      'job': 'Dialogue',\n",
       "      'name': 'Bob Baron',\n",
       "      'profile_path': None},\n",
       "     {'credit_id': '5aa573660e0a26074b028f9c',\n",
       "      'department': 'Editing',\n",
       "      'gender': 0,\n",
       "      'id': 1996149,\n",
       "      'job': 'Editorial Production Assistant',\n",
       "      'name': 'Jesse William Wallace',\n",
       "      'profile_path': None},\n",
       "     {'credit_id': '5aa57381925141278d024612',\n",
       "      'department': 'Production',\n",
       "      'gender': 0,\n",
       "      'id': 1996151,\n",
       "      'job': 'Finance',\n",
       "      'name': 'Lisa Ellis',\n",
       "      'profile_path': None},\n",
       "     {'credit_id': '5aa58bd8925141277e0265b4',\n",
       "      'department': 'Visual Effects',\n",
       "      'gender': 0,\n",
       "      'id': 1996159,\n",
       "      'job': 'Modeling',\n",
       "      'name': 'Kevin Bjorke',\n",
       "      'profile_path': None},\n",
       "     {'credit_id': '5aa574bc9251412793025343',\n",
       "      'department': 'Lighting',\n",
       "      'gender': 0,\n",
       "      'id': 1996162,\n",
       "      'job': 'Lighting Coordinator',\n",
       "      'name': 'Barbara T. Labounta',\n",
       "      'profile_path': None},\n",
       "     {'credit_id': '5aa5892cc3a3687c320282be',\n",
       "      'department': 'Crew',\n",
       "      'gender': 0,\n",
       "      'id': 1996232,\n",
       "      'job': 'Systems Administrators & Support',\n",
       "      'name': 'Michael E. Murdock',\n",
       "      'profile_path': None},\n",
       "     {'credit_id': '5aa58ba4c3a3687c2502b072',\n",
       "      'department': 'Visual Effects',\n",
       "      'gender': 0,\n",
       "      'id': 1996241,\n",
       "      'job': 'Modeling',\n",
       "      'name': 'Deborah R. Fowler',\n",
       "      'profile_path': None},\n",
       "     {'credit_id': '5aa58bb10e0a26074b02b460',\n",
       "      'department': 'Visual Effects',\n",
       "      'gender': 0,\n",
       "      'id': 1996243,\n",
       "      'job': 'Modeling',\n",
       "      'name': 'Damir Frkovic',\n",
       "      'profile_path': None},\n",
       "     {'credit_id': '5aa598860e0a260751025d94',\n",
       "      'department': 'Lighting',\n",
       "      'gender': 0,\n",
       "      'id': 1996243,\n",
       "      'job': 'Lighting Artist',\n",
       "      'name': 'Damir Frkovic',\n",
       "      'profile_path': None},\n",
       "     {'credit_id': '5aa58bbc0e0a26075d02b2b1',\n",
       "      'department': 'Visual Effects',\n",
       "      'gender': 0,\n",
       "      'id': 1996244,\n",
       "      'job': 'Modeling',\n",
       "      'name': 'Shalini Govil-Pai',\n",
       "      'profile_path': None},\n",
       "     {'credit_id': '5aa59894c3a3687c2502bfcb',\n",
       "      'department': 'Lighting',\n",
       "      'gender': 0,\n",
       "      'id': 1996244,\n",
       "      'job': 'Lighting Artist',\n",
       "      'name': 'Shalini Govil-Pai',\n",
       "      'profile_path': None},\n",
       "     {'credit_id': '5aa58bc89251412790026bfd',\n",
       "      'department': 'Visual Effects',\n",
       "      'gender': 0,\n",
       "      'id': 1996245,\n",
       "      'job': 'Modeling',\n",
       "      'name': 'David R. Haumann',\n",
       "      'profile_path': None},\n",
       "     {'credit_id': '5aa598b20e0a26075402b50d',\n",
       "      'department': 'Lighting',\n",
       "      'gender': 0,\n",
       "      'id': 1996245,\n",
       "      'job': 'Lighting Artist',\n",
       "      'name': 'David R. Haumann',\n",
       "      'profile_path': None},\n",
       "     {'credit_id': '5aa58be30e0a26074b02b4be',\n",
       "      'department': 'Visual Effects',\n",
       "      'gender': 0,\n",
       "      'id': 1996246,\n",
       "      'job': 'Modeling',\n",
       "      'name': 'Yael Milo',\n",
       "      'profile_path': None},\n",
       "     {'credit_id': '5aa598d30e0a26075402b538',\n",
       "      'department': 'Lighting',\n",
       "      'gender': 0,\n",
       "      'id': 1996246,\n",
       "      'job': 'Lighting Artist',\n",
       "      'name': 'Yael Milo',\n",
       "      'profile_path': None},\n",
       "     {'credit_id': '5aa58cde0e0a26075a02b448',\n",
       "      'department': 'Sound',\n",
       "      'gender': 0,\n",
       "      'id': 1996258,\n",
       "      'job': 'Music Supervisor',\n",
       "      'name': 'Tod Cooper',\n",
       "      'profile_path': None},\n",
       "     {'credit_id': '5aa58f2c925141279302781e',\n",
       "      'department': 'Crew',\n",
       "      'gender': 0,\n",
       "      'id': 1996266,\n",
       "      'job': 'Production Intern',\n",
       "      'name': 'Andrew Caldwell',\n",
       "      'profile_path': None},\n",
       "     {'credit_id': '5aa58f5d0e0a26074b02ba3f',\n",
       "      'department': 'Crew',\n",
       "      'gender': 0,\n",
       "      'id': 1996267,\n",
       "      'job': 'Production Intern',\n",
       "      'name': 'Martin Caplan',\n",
       "      'profile_path': None},\n",
       "     {'credit_id': '5aa58f6e0e0a26075702c676',\n",
       "      'department': 'Crew',\n",
       "      'gender': 0,\n",
       "      'id': 1996268,\n",
       "      'job': 'Production Intern',\n",
       "      'name': 'Ryan Chisum',\n",
       "      'profile_path': None},\n",
       "     {'credit_id': '5aa58f80925141278d026c47',\n",
       "      'department': 'Crew',\n",
       "      'gender': 0,\n",
       "      'id': 1996269,\n",
       "      'job': 'Production Intern',\n",
       "      'name': 'Takeshi Hasegawa',\n",
       "      'profile_path': None},\n",
       "     {'credit_id': '5aa58f94c3a3687c06025aa6',\n",
       "      'department': 'Crew',\n",
       "      'gender': 0,\n",
       "      'id': 1996270,\n",
       "      'job': 'Production Intern',\n",
       "      'name': 'Jay Hathaway',\n",
       "      'profile_path': None},\n",
       "     {'credit_id': '5aa58fc0925141277e026b2c',\n",
       "      'department': 'Crew',\n",
       "      'gender': 0,\n",
       "      'id': 1996271,\n",
       "      'job': 'Production Intern',\n",
       "      'name': 'Jason Henry',\n",
       "      'profile_path': None},\n",
       "     {'credit_id': '5aa58fdbc3a3687c03025bca',\n",
       "      'department': 'Crew',\n",
       "      'gender': 0,\n",
       "      'id': 1996272,\n",
       "      'job': 'Production Intern',\n",
       "      'name': 'Steven Kani',\n",
       "      'profile_path': None},\n",
       "     {'credit_id': '5aa59035c3a3687c0c029ef0',\n",
       "      'department': 'Crew',\n",
       "      'gender': 0,\n",
       "      'id': 1996277,\n",
       "      'job': 'Production Intern',\n",
       "      'name': 'Kevin Page',\n",
       "      'profile_path': None},\n",
       "     {'credit_id': '5aa59062c3a3687c0c029f26',\n",
       "      'department': 'Crew',\n",
       "      'gender': 0,\n",
       "      'id': 1996281,\n",
       "      'job': 'Production Intern',\n",
       "      'name': 'Benjamin Salles',\n",
       "      'profile_path': None},\n",
       "     {'credit_id': '5aa590acc3a3687bff02c11e',\n",
       "      'department': 'Crew',\n",
       "      'gender': 2,\n",
       "      'id': 1996283,\n",
       "      'job': 'Production Intern',\n",
       "      'name': 'Dave Thomas',\n",
       "      'profile_path': None},\n",
       "     {'credit_id': '5aa590e30e0a260760026a87',\n",
       "      'department': 'Crew',\n",
       "      'gender': 0,\n",
       "      'id': 1996284,\n",
       "      'job': 'Production Office Assistant',\n",
       "      'name': 'Nancy Copeland',\n",
       "      'profile_path': None},\n",
       "     {'credit_id': '5aa590f00e0a26074b02bc5a',\n",
       "      'department': 'Crew',\n",
       "      'gender': 0,\n",
       "      'id': 1996285,\n",
       "      'job': 'Production Office Assistant',\n",
       "      'name': 'Alethea Harampolis',\n",
       "      'profile_path': None},\n",
       "     {'credit_id': '5aa591fcc3a3687c06025d7d',\n",
       "      'department': 'Crew',\n",
       "      'gender': 0,\n",
       "      'id': 1996289,\n",
       "      'job': 'Software Engineer',\n",
       "      'name': 'Pat Hanrahan',\n",
       "      'profile_path': None},\n",
       "     {'credit_id': '5aa5923d925141278d026f60',\n",
       "      'department': 'Crew',\n",
       "      'gender': 0,\n",
       "      'id': 1996292,\n",
       "      'job': 'Software Engineer',\n",
       "      'name': 'Jim Lawson',\n",
       "      'profile_path': None},\n",
       "     {'credit_id': '5aa5924ac3a3687c06025ddc',\n",
       "      'department': 'Crew',\n",
       "      'gender': 0,\n",
       "      'id': 1996294,\n",
       "      'job': 'Software Engineer',\n",
       "      'name': 'M.W. Mantle',\n",
       "      'profile_path': None},\n",
       "     {'credit_id': '5aa59256925141277e026e27',\n",
       "      'department': 'Crew',\n",
       "      'gender': 0,\n",
       "      'id': 1996295,\n",
       "      'job': 'Software Engineer',\n",
       "      'name': 'David Salesin',\n",
       "      'profile_path': None},\n",
       "     {'credit_id': '5aa593339251412790027531',\n",
       "      'department': 'Visual Effects',\n",
       "      'gender': 0,\n",
       "      'id': 1996300,\n",
       "      'job': 'Shading',\n",
       "      'name': 'Keith B.C. Gordon',\n",
       "      'profile_path': None},\n",
       "     {'credit_id': '5aa5933e925141279002753f',\n",
       "      'department': 'Visual Effects',\n",
       "      'gender': 0,\n",
       "      'id': 1996301,\n",
       "      'job': 'Shading',\n",
       "      'name': 'Larry Gritz',\n",
       "      'profile_path': None},\n",
       "     {'credit_id': '5aa598a292514127840275ab',\n",
       "      'department': 'Lighting',\n",
       "      'gender': 0,\n",
       "      'id': 1996301,\n",
       "      'job': 'Lighting Artist',\n",
       "      'name': 'Larry Gritz',\n",
       "      'profile_path': None},\n",
       "     {'credit_id': '5aa593899251412784027178',\n",
       "      'department': 'Crew',\n",
       "      'gender': 0,\n",
       "      'id': 1996303,\n",
       "      'job': 'Software Engineer',\n",
       "      'name': 'Bill Carson',\n",
       "      'profile_path': None},\n",
       "     {'credit_id': '5aa59394c3a3687c03025fa5',\n",
       "      'department': 'Crew',\n",
       "      'gender': 0,\n",
       "      'id': 1996304,\n",
       "      'job': 'Software Engineer',\n",
       "      'name': 'Ken Huey',\n",
       "      'profile_path': None},\n",
       "     {'credit_id': '5aa595a2c3a3687bfc02c7c2',\n",
       "      'department': 'Visual Effects',\n",
       "      'gender': 0,\n",
       "      'id': 1996306,\n",
       "      'job': 'Modeling',\n",
       "      'name': 'Mark Eastwood',\n",
       "      'profile_path': None},\n",
       "     {'credit_id': '5aa595ad9251412784027353',\n",
       "      'department': 'Visual Effects',\n",
       "      'gender': 0,\n",
       "      'id': 1996307,\n",
       "      'job': 'Modeling',\n",
       "      'name': 'Monique Hodgkinson',\n",
       "      'profile_path': None},\n",
       "     {'credit_id': '5aa595b8c3a3687c0302614e',\n",
       "      'department': 'Visual Effects',\n",
       "      'gender': 0,\n",
       "      'id': 1996308,\n",
       "      'job': 'Modeling',\n",
       "      'name': 'Grey Holland',\n",
       "      'profile_path': None},\n",
       "     {'credit_id': '5aa59866925141278d027475',\n",
       "      'department': 'Lighting',\n",
       "      'gender': 0,\n",
       "      'id': 1996316,\n",
       "      'job': 'Lighting Artist',\n",
       "      'name': 'Larry Aupperle',\n",
       "      'profile_path': None},\n",
       "     {'credit_id': '5aa598fd0e0a260760027127',\n",
       "      'department': 'Visual Effects',\n",
       "      'gender': 0,\n",
       "      'id': 1996317,\n",
       "      'job': 'Animation',\n",
       "      'name': 'Heather Knight',\n",
       "      'profile_path': None},\n",
       "     {'credit_id': '5ab3b6180e0a265f24009c36',\n",
       "      'department': 'Visual Effects',\n",
       "      'gender': 0,\n",
       "      'id': 2004942,\n",
       "      'job': 'Animation',\n",
       "      'name': 'Roger Rose',\n",
       "      'profile_path': None}]},\n",
       "   'genres': [{'id': 16, 'name': 'Animation'},\n",
       "    {'id': 35, 'name': 'Comedy'},\n",
       "    {'id': 10751, 'name': 'Family'}],\n",
       "   'homepage': 'http://toystory.disney.com/toy-story',\n",
       "   'id': 862,\n",
       "   'images': None,\n",
       "   'imdb_id': 'tt0114709',\n",
       "   'keywords': {'keywords': [{'id': 779, 'name': 'martial arts'},\n",
       "     {'id': 931, 'name': 'jealousy'},\n",
       "     {'id': 4290, 'name': 'toy'},\n",
       "     {'id': 5202, 'name': 'boy'},\n",
       "     {'id': 6054, 'name': 'friendship'},\n",
       "     {'id': 6733, 'name': 'bullying'},\n",
       "     {'id': 8102, 'name': 'elementary school'},\n",
       "     {'id': 9713, 'name': 'friends'},\n",
       "     {'id': 9823, 'name': 'rivalry'},\n",
       "     {'id': 10084, 'name': 'rescue'},\n",
       "     {'id': 10364, 'name': 'mission'},\n",
       "     {'id': 33553, 'name': 'walkie talkie'},\n",
       "     {'id': 165503, 'name': 'boy next door'},\n",
       "     {'id': 170722, 'name': 'new toy'},\n",
       "     {'id': 180523, 'name': 'neighborhood'},\n",
       "     {'id': 187065, 'name': 'toy comes to life'},\n",
       "     {'id': 242792, 'name': 'resourcefulness'}]},\n",
       "   'original_language': 'en',\n",
       "   'original_title': 'Toy Story',\n",
       "   'overview': \"Led by Woody, Andy's toys live happily in his room until Andy's birthday brings Buzz Lightyear onto the scene. Afraid of losing his place in Andy's heart, Woody plots against Buzz. But when circumstances separate Buzz and Woody from their owner, the duo eventually learns to put aside their differences.\",\n",
       "   'popularity': 25.128,\n",
       "   'poster_path': '/rhIRbceoE9lR4veEXuwCC2wARtG.jpg',\n",
       "   'production_companies': [{'id': 3,\n",
       "     'logo_path': '/1TjvGVDMYsj6JBxOAkUHpPEwLf7.png',\n",
       "     'name': 'Pixar',\n",
       "     'origin_country': 'US'}],\n",
       "   'production_countries': [{'iso_3166_1': 'US',\n",
       "     'name': 'United States of America'}],\n",
       "   'release_date': '1995-10-30',\n",
       "   'revenue': 373554033,\n",
       "   'runtime': 81,\n",
       "   'spoken_languages': [{'iso_639_1': 'en', 'name': 'English'}],\n",
       "   'status': 'Released',\n",
       "   'tagline': '',\n",
       "   'title': 'Toy Story',\n",
       "   'trailers': None,\n",
       "   'translations': None,\n",
       "   'video': False,\n",
       "   'videos': None,\n",
       "   'vote_average': 7.9,\n",
       "   'vote_count': 11489})]"
      ]
     },
     "execution_count": 68,
     "metadata": {},
     "output_type": "execute_result"
    }
   ],
   "source": [
    "import json\n",
    "tmdb = tmdb\\\n",
    "    .map(lambda s: json.loads(s))\\\n",
    "    .filter(lambda rec: rec['id'] in tmdb_ids)\\\n",
    "    .keyBy(lambda rec: rec['id'])\n",
    "tmdb.take(1)"
   ]
  },
  {
   "cell_type": "markdown",
   "metadata": {},
   "source": [
    " Tom Hanks"
   ]
  },
  {
   "cell_type": "code",
   "execution_count": 107,
   "metadata": {
    "scrolled": true
   },
   "outputs": [
    {
     "data": {
      "text/plain": [
       "[(31, (862, 'Tom Hanks'))]"
      ]
     },
     "execution_count": 107,
     "metadata": {},
     "output_type": "execute_result"
    }
   ],
   "source": [
    "actors = tmdb\\\n",
    "    .filter(lambda key_value: key_value[0] in tmdb_ids)\\\n",
    "    .flatMapValues(lambda rec: rec['casts']['cast'])\\\n",
    "    .keyBy(lambda arr: int(arr[1]['id']))\\\n",
    "    .mapValues(lambda arr: (arr[0], arr[1]['name']))\n",
    "actors.take(1)"
   ]
  },
  {
   "cell_type": "code",
   "execution_count": 71,
   "metadata": {},
   "outputs": [
    {
     "data": {
      "text/plain": [
       "[(862, 862), (568, 568), (13, 13), (9800, 9800), (858, 858)]"
      ]
     },
     "execution_count": 71,
     "metadata": {},
     "output_type": "execute_result"
    }
   ],
   "source": [
    "hanks = actors\\\n",
    "    .filter(lambda key_value: key_value[0] == 31)\\\n",
    "    .map(lambda key_value: key_value[1][0])\\\n",
    "    .keyBy(lambda m: m)\n",
    "hanks.take(5)"
   ]
  },
  {
   "cell_type": "code",
   "execution_count": null,
   "metadata": {},
   "outputs": [],
   "source": [
    "hanks\\\n",
    "    .join(tmdb_names)\\\n",
    "    .map(lambda key_value: (key_value[1][1][1]))\\\n",
    "    .collect()"
   ]
  },
  {
   "cell_type": "markdown",
   "metadata": {},
   "source": [
    "Востребованные актеры"
   ]
  },
  {
   "cell_type": "code",
   "execution_count": 111,
   "metadata": {
    "collapsed": true
   },
   "outputs": [
    {
     "ename": "Py4JJavaError",
     "evalue": "An error occurred while calling z:org.apache.spark.api.python.PythonRDD.runJob.\n: org.apache.spark.SparkException: Job aborted due to stage failure: Task 2 in stage 99.0 failed 1 times, most recent failure: Lost task 2.0 in stage 99.0 (TID 148, localhost): org.apache.spark.api.python.PythonException: Traceback (most recent call last):\n  File \"/usr/lib/spark/python/lib/pyspark.zip/pyspark/worker.py\", line 111, in main\n    process()\n  File \"/usr/lib/spark/python/lib/pyspark.zip/pyspark/worker.py\", line 106, in process\n    serializer.dump_stream(func(split_index, iterator), outfile)\n  File \"/usr/lib/spark/python/pyspark/rdd.py\", line 2346, in pipeline_func\n    return func(split, prev_func(split, iterator))\n  File \"/usr/lib/spark/python/pyspark/rdd.py\", line 2346, in pipeline_func\n    return func(split, prev_func(split, iterator))\n  File \"/usr/lib/spark/python/pyspark/rdd.py\", line 317, in func\n    return f(iterator)\n  File \"/usr/lib/spark/python/pyspark/rdd.py\", line 1776, in combineLocally\n    merger.mergeValues(iterator)\n  File \"/usr/lib/spark/python/lib/pyspark.zip/pyspark/shuffle.py\", line 236, in mergeValues\n    for k, v in iterator:\n  File \"<ipython-input-68-34878ab4ef6d>\", line 4, in <lambda>\nKeyError: 'id'\n\n\tat org.apache.spark.api.python.PythonRunner$$anon$1.read(PythonRDD.scala:166)\n\tat org.apache.spark.api.python.PythonRunner$$anon$1.<init>(PythonRDD.scala:207)\n\tat org.apache.spark.api.python.PythonRunner.compute(PythonRDD.scala:125)\n\tat org.apache.spark.api.python.PythonRDD.compute(PythonRDD.scala:70)\n\tat org.apache.spark.rdd.RDD.computeOrReadCheckpoint(RDD.scala:306)\n\tat org.apache.spark.rdd.RDD.iterator(RDD.scala:270)\n\tat org.apache.spark.api.python.PairwiseRDD.compute(PythonRDD.scala:342)\n\tat org.apache.spark.rdd.RDD.computeOrReadCheckpoint(RDD.scala:306)\n\tat org.apache.spark.rdd.RDD.iterator(RDD.scala:270)\n\tat org.apache.spark.scheduler.ShuffleMapTask.runTask(ShuffleMapTask.scala:73)\n\tat org.apache.spark.scheduler.ShuffleMapTask.runTask(ShuffleMapTask.scala:41)\n\tat org.apache.spark.scheduler.Task.run(Task.scala:89)\n\tat org.apache.spark.executor.Executor$TaskRunner.run(Executor.scala:214)\n\tat java.util.concurrent.ThreadPoolExecutor.runWorker(ThreadPoolExecutor.java:1145)\n\tat java.util.concurrent.ThreadPoolExecutor$Worker.run(ThreadPoolExecutor.java:615)\n\tat java.lang.Thread.run(Thread.java:745)\n\nDriver stacktrace:\n\tat org.apache.spark.scheduler.DAGScheduler.org$apache$spark$scheduler$DAGScheduler$$failJobAndIndependentStages(DAGScheduler.scala:1431)\n\tat org.apache.spark.scheduler.DAGScheduler$$anonfun$abortStage$1.apply(DAGScheduler.scala:1419)\n\tat org.apache.spark.scheduler.DAGScheduler$$anonfun$abortStage$1.apply(DAGScheduler.scala:1418)\n\tat scala.collection.mutable.ResizableArray$class.foreach(ResizableArray.scala:59)\n\tat scala.collection.mutable.ArrayBuffer.foreach(ArrayBuffer.scala:47)\n\tat org.apache.spark.scheduler.DAGScheduler.abortStage(DAGScheduler.scala:1418)\n\tat org.apache.spark.scheduler.DAGScheduler$$anonfun$handleTaskSetFailed$1.apply(DAGScheduler.scala:799)\n\tat org.apache.spark.scheduler.DAGScheduler$$anonfun$handleTaskSetFailed$1.apply(DAGScheduler.scala:799)\n\tat scala.Option.foreach(Option.scala:236)\n\tat org.apache.spark.scheduler.DAGScheduler.handleTaskSetFailed(DAGScheduler.scala:799)\n\tat org.apache.spark.scheduler.DAGSchedulerEventProcessLoop.doOnReceive(DAGScheduler.scala:1640)\n\tat org.apache.spark.scheduler.DAGSchedulerEventProcessLoop.onReceive(DAGScheduler.scala:1599)\n\tat org.apache.spark.scheduler.DAGSchedulerEventProcessLoop.onReceive(DAGScheduler.scala:1588)\n\tat org.apache.spark.util.EventLoop$$anon$1.run(EventLoop.scala:48)\n\tat org.apache.spark.scheduler.DAGScheduler.runJob(DAGScheduler.scala:620)\n\tat org.apache.spark.SparkContext.runJob(SparkContext.scala:1843)\n\tat org.apache.spark.SparkContext.runJob(SparkContext.scala:1856)\n\tat org.apache.spark.SparkContext.runJob(SparkContext.scala:1869)\n\tat org.apache.spark.api.python.PythonRDD$.runJob(PythonRDD.scala:393)\n\tat org.apache.spark.api.python.PythonRDD.runJob(PythonRDD.scala)\n\tat sun.reflect.GeneratedMethodAccessor44.invoke(Unknown Source)\n\tat sun.reflect.DelegatingMethodAccessorImpl.invoke(DelegatingMethodAccessorImpl.java:43)\n\tat java.lang.reflect.Method.invoke(Method.java:606)\n\tat py4j.reflection.MethodInvoker.invoke(MethodInvoker.java:231)\n\tat py4j.reflection.ReflectionEngine.invoke(ReflectionEngine.java:381)\n\tat py4j.Gateway.invoke(Gateway.java:259)\n\tat py4j.commands.AbstractCommand.invokeMethod(AbstractCommand.java:133)\n\tat py4j.commands.CallCommand.execute(CallCommand.java:79)\n\tat py4j.GatewayConnection.run(GatewayConnection.java:209)\n\tat java.lang.Thread.run(Thread.java:745)\nCaused by: org.apache.spark.api.python.PythonException: Traceback (most recent call last):\n  File \"/usr/lib/spark/python/lib/pyspark.zip/pyspark/worker.py\", line 111, in main\n    process()\n  File \"/usr/lib/spark/python/lib/pyspark.zip/pyspark/worker.py\", line 106, in process\n    serializer.dump_stream(func(split_index, iterator), outfile)\n  File \"/usr/lib/spark/python/pyspark/rdd.py\", line 2346, in pipeline_func\n    return func(split, prev_func(split, iterator))\n  File \"/usr/lib/spark/python/pyspark/rdd.py\", line 2346, in pipeline_func\n    return func(split, prev_func(split, iterator))\n  File \"/usr/lib/spark/python/pyspark/rdd.py\", line 317, in func\n    return f(iterator)\n  File \"/usr/lib/spark/python/pyspark/rdd.py\", line 1776, in combineLocally\n    merger.mergeValues(iterator)\n  File \"/usr/lib/spark/python/lib/pyspark.zip/pyspark/shuffle.py\", line 236, in mergeValues\n    for k, v in iterator:\n  File \"<ipython-input-68-34878ab4ef6d>\", line 4, in <lambda>\nKeyError: 'id'\n\n\tat org.apache.spark.api.python.PythonRunner$$anon$1.read(PythonRDD.scala:166)\n\tat org.apache.spark.api.python.PythonRunner$$anon$1.<init>(PythonRDD.scala:207)\n\tat org.apache.spark.api.python.PythonRunner.compute(PythonRDD.scala:125)\n\tat org.apache.spark.api.python.PythonRDD.compute(PythonRDD.scala:70)\n\tat org.apache.spark.rdd.RDD.computeOrReadCheckpoint(RDD.scala:306)\n\tat org.apache.spark.rdd.RDD.iterator(RDD.scala:270)\n\tat org.apache.spark.api.python.PairwiseRDD.compute(PythonRDD.scala:342)\n\tat org.apache.spark.rdd.RDD.computeOrReadCheckpoint(RDD.scala:306)\n\tat org.apache.spark.rdd.RDD.iterator(RDD.scala:270)\n\tat org.apache.spark.scheduler.ShuffleMapTask.runTask(ShuffleMapTask.scala:73)\n\tat org.apache.spark.scheduler.ShuffleMapTask.runTask(ShuffleMapTask.scala:41)\n\tat org.apache.spark.scheduler.Task.run(Task.scala:89)\n\tat org.apache.spark.executor.Executor$TaskRunner.run(Executor.scala:214)\n\tat java.util.concurrent.ThreadPoolExecutor.runWorker(ThreadPoolExecutor.java:1145)\n\tat java.util.concurrent.ThreadPoolExecutor$Worker.run(ThreadPoolExecutor.java:615)\n\t... 1 more\n",
     "output_type": "error",
     "traceback": [
      "\u001b[0;31m---------------------------------------------------------------------------\u001b[0m",
      "\u001b[0;31mPy4JJavaError\u001b[0m                             Traceback (most recent call last)",
      "\u001b[0;32m<ipython-input-111-0cef12022c45>\u001b[0m in \u001b[0;36m<module>\u001b[0;34m\u001b[0m\n\u001b[1;32m      2\u001b[0m     \u001b[0;34m.\u001b[0m\u001b[0mmapValues\u001b[0m\u001b[0;34m(\u001b[0m\u001b[0;32mlambda\u001b[0m \u001b[0marr\u001b[0m\u001b[0;34m:\u001b[0m \u001b[0;34m(\u001b[0m\u001b[0marr\u001b[0m\u001b[0;34m[\u001b[0m\u001b[0;36m1\u001b[0m\u001b[0;34m]\u001b[0m\u001b[0;34m,\u001b[0m \u001b[0;36m1\u001b[0m\u001b[0;34m)\u001b[0m\u001b[0;34m)\u001b[0m\u001b[0;31m\\\u001b[0m\u001b[0;34m\u001b[0m\u001b[0m\n\u001b[1;32m      3\u001b[0m     \u001b[0;34m.\u001b[0m\u001b[0mreduceByKey\u001b[0m\u001b[0;34m(\u001b[0m\u001b[0;32mlambda\u001b[0m \u001b[0ma\u001b[0m\u001b[0;34m,\u001b[0m \u001b[0mb\u001b[0m\u001b[0;34m:\u001b[0m \u001b[0;34m(\u001b[0m\u001b[0ma\u001b[0m\u001b[0;34m[\u001b[0m\u001b[0;36m0\u001b[0m\u001b[0;34m]\u001b[0m\u001b[0;34m,\u001b[0m \u001b[0ma\u001b[0m\u001b[0;34m[\u001b[0m\u001b[0;36m1\u001b[0m\u001b[0;34m]\u001b[0m \u001b[0;34m+\u001b[0m \u001b[0mb\u001b[0m\u001b[0;34m[\u001b[0m\u001b[0;36m1\u001b[0m\u001b[0;34m]\u001b[0m\u001b[0;34m)\u001b[0m\u001b[0;34m)\u001b[0m\u001b[0;31m\\\u001b[0m\u001b[0;34m\u001b[0m\u001b[0m\n\u001b[0;32m----> 4\u001b[0;31m     \u001b[0;34m.\u001b[0m\u001b[0mtake\u001b[0m\u001b[0;34m(\u001b[0m\u001b[0;36m1\u001b[0m\u001b[0;34m)\u001b[0m\u001b[0;34m\u001b[0m\u001b[0m\n\u001b[0m",
      "\u001b[0;32m/usr/lib/spark/python/pyspark/rdd.py\u001b[0m in \u001b[0;36mtake\u001b[0;34m(self, num)\u001b[0m\n\u001b[1;32m   1295\u001b[0m \u001b[0;34m\u001b[0m\u001b[0m\n\u001b[1;32m   1296\u001b[0m             \u001b[0mp\u001b[0m \u001b[0;34m=\u001b[0m \u001b[0mrange\u001b[0m\u001b[0;34m(\u001b[0m\u001b[0mpartsScanned\u001b[0m\u001b[0;34m,\u001b[0m \u001b[0mmin\u001b[0m\u001b[0;34m(\u001b[0m\u001b[0mpartsScanned\u001b[0m \u001b[0;34m+\u001b[0m \u001b[0mnumPartsToTry\u001b[0m\u001b[0;34m,\u001b[0m \u001b[0mtotalParts\u001b[0m\u001b[0;34m)\u001b[0m\u001b[0;34m)\u001b[0m\u001b[0;34m\u001b[0m\u001b[0m\n\u001b[0;32m-> 1297\u001b[0;31m             \u001b[0mres\u001b[0m \u001b[0;34m=\u001b[0m \u001b[0mself\u001b[0m\u001b[0;34m.\u001b[0m\u001b[0mcontext\u001b[0m\u001b[0;34m.\u001b[0m\u001b[0mrunJob\u001b[0m\u001b[0;34m(\u001b[0m\u001b[0mself\u001b[0m\u001b[0;34m,\u001b[0m \u001b[0mtakeUpToNumLeft\u001b[0m\u001b[0;34m,\u001b[0m \u001b[0mp\u001b[0m\u001b[0;34m)\u001b[0m\u001b[0;34m\u001b[0m\u001b[0m\n\u001b[0m\u001b[1;32m   1298\u001b[0m \u001b[0;34m\u001b[0m\u001b[0m\n\u001b[1;32m   1299\u001b[0m             \u001b[0mitems\u001b[0m \u001b[0;34m+=\u001b[0m \u001b[0mres\u001b[0m\u001b[0;34m\u001b[0m\u001b[0m\n",
      "\u001b[0;32m/usr/lib/spark/python/pyspark/context.py\u001b[0m in \u001b[0;36mrunJob\u001b[0;34m(self, rdd, partitionFunc, partitions, allowLocal)\u001b[0m\n\u001b[1;32m    937\u001b[0m         \u001b[0;31m# SparkContext#runJob.\u001b[0m\u001b[0;34m\u001b[0m\u001b[0;34m\u001b[0m\u001b[0m\n\u001b[1;32m    938\u001b[0m         \u001b[0mmappedRDD\u001b[0m \u001b[0;34m=\u001b[0m \u001b[0mrdd\u001b[0m\u001b[0;34m.\u001b[0m\u001b[0mmapPartitions\u001b[0m\u001b[0;34m(\u001b[0m\u001b[0mpartitionFunc\u001b[0m\u001b[0;34m)\u001b[0m\u001b[0;34m\u001b[0m\u001b[0m\n\u001b[0;32m--> 939\u001b[0;31m         \u001b[0mport\u001b[0m \u001b[0;34m=\u001b[0m \u001b[0mself\u001b[0m\u001b[0;34m.\u001b[0m\u001b[0m_jvm\u001b[0m\u001b[0;34m.\u001b[0m\u001b[0mPythonRDD\u001b[0m\u001b[0;34m.\u001b[0m\u001b[0mrunJob\u001b[0m\u001b[0;34m(\u001b[0m\u001b[0mself\u001b[0m\u001b[0;34m.\u001b[0m\u001b[0m_jsc\u001b[0m\u001b[0;34m.\u001b[0m\u001b[0msc\u001b[0m\u001b[0;34m(\u001b[0m\u001b[0;34m)\u001b[0m\u001b[0;34m,\u001b[0m \u001b[0mmappedRDD\u001b[0m\u001b[0;34m.\u001b[0m\u001b[0m_jrdd\u001b[0m\u001b[0;34m,\u001b[0m \u001b[0mpartitions\u001b[0m\u001b[0;34m)\u001b[0m\u001b[0;34m\u001b[0m\u001b[0m\n\u001b[0m\u001b[1;32m    940\u001b[0m         \u001b[0;32mreturn\u001b[0m \u001b[0mlist\u001b[0m\u001b[0;34m(\u001b[0m\u001b[0m_load_from_socket\u001b[0m\u001b[0;34m(\u001b[0m\u001b[0mport\u001b[0m\u001b[0;34m,\u001b[0m \u001b[0mmappedRDD\u001b[0m\u001b[0;34m.\u001b[0m\u001b[0m_jrdd_deserializer\u001b[0m\u001b[0;34m)\u001b[0m\u001b[0;34m)\u001b[0m\u001b[0;34m\u001b[0m\u001b[0m\n\u001b[1;32m    941\u001b[0m \u001b[0;34m\u001b[0m\u001b[0m\n",
      "\u001b[0;32m/usr/lib/spark/python/lib/py4j-0.9-src.zip/py4j/java_gateway.py\u001b[0m in \u001b[0;36m__call__\u001b[0;34m(self, *args)\u001b[0m\n\u001b[1;32m    811\u001b[0m         \u001b[0manswer\u001b[0m \u001b[0;34m=\u001b[0m \u001b[0mself\u001b[0m\u001b[0;34m.\u001b[0m\u001b[0mgateway_client\u001b[0m\u001b[0;34m.\u001b[0m\u001b[0msend_command\u001b[0m\u001b[0;34m(\u001b[0m\u001b[0mcommand\u001b[0m\u001b[0;34m)\u001b[0m\u001b[0;34m\u001b[0m\u001b[0m\n\u001b[1;32m    812\u001b[0m         return_value = get_return_value(\n\u001b[0;32m--> 813\u001b[0;31m             answer, self.gateway_client, self.target_id, self.name)\n\u001b[0m\u001b[1;32m    814\u001b[0m \u001b[0;34m\u001b[0m\u001b[0m\n\u001b[1;32m    815\u001b[0m         \u001b[0;32mfor\u001b[0m \u001b[0mtemp_arg\u001b[0m \u001b[0;32min\u001b[0m \u001b[0mtemp_args\u001b[0m\u001b[0;34m:\u001b[0m\u001b[0;34m\u001b[0m\u001b[0m\n",
      "\u001b[0;32m/usr/lib/spark/python/pyspark/sql/utils.py\u001b[0m in \u001b[0;36mdeco\u001b[0;34m(*a, **kw)\u001b[0m\n\u001b[1;32m     43\u001b[0m     \u001b[0;32mdef\u001b[0m \u001b[0mdeco\u001b[0m\u001b[0;34m(\u001b[0m\u001b[0;34m*\u001b[0m\u001b[0ma\u001b[0m\u001b[0;34m,\u001b[0m \u001b[0;34m**\u001b[0m\u001b[0mkw\u001b[0m\u001b[0;34m)\u001b[0m\u001b[0;34m:\u001b[0m\u001b[0;34m\u001b[0m\u001b[0m\n\u001b[1;32m     44\u001b[0m         \u001b[0;32mtry\u001b[0m\u001b[0;34m:\u001b[0m\u001b[0;34m\u001b[0m\u001b[0m\n\u001b[0;32m---> 45\u001b[0;31m             \u001b[0;32mreturn\u001b[0m \u001b[0mf\u001b[0m\u001b[0;34m(\u001b[0m\u001b[0;34m*\u001b[0m\u001b[0ma\u001b[0m\u001b[0;34m,\u001b[0m \u001b[0;34m**\u001b[0m\u001b[0mkw\u001b[0m\u001b[0;34m)\u001b[0m\u001b[0;34m\u001b[0m\u001b[0m\n\u001b[0m\u001b[1;32m     46\u001b[0m         \u001b[0;32mexcept\u001b[0m \u001b[0mpy4j\u001b[0m\u001b[0;34m.\u001b[0m\u001b[0mprotocol\u001b[0m\u001b[0;34m.\u001b[0m\u001b[0mPy4JJavaError\u001b[0m \u001b[0;32mas\u001b[0m \u001b[0me\u001b[0m\u001b[0;34m:\u001b[0m\u001b[0;34m\u001b[0m\u001b[0m\n\u001b[1;32m     47\u001b[0m             \u001b[0ms\u001b[0m \u001b[0;34m=\u001b[0m \u001b[0me\u001b[0m\u001b[0;34m.\u001b[0m\u001b[0mjava_exception\u001b[0m\u001b[0;34m.\u001b[0m\u001b[0mtoString\u001b[0m\u001b[0;34m(\u001b[0m\u001b[0;34m)\u001b[0m\u001b[0;34m\u001b[0m\u001b[0m\n",
      "\u001b[0;32m/usr/lib/spark/python/lib/py4j-0.9-src.zip/py4j/protocol.py\u001b[0m in \u001b[0;36mget_return_value\u001b[0;34m(answer, gateway_client, target_id, name)\u001b[0m\n\u001b[1;32m    306\u001b[0m                 raise Py4JJavaError(\n\u001b[1;32m    307\u001b[0m                     \u001b[0;34m\"An error occurred while calling {0}{1}{2}.\\n\"\u001b[0m\u001b[0;34m.\u001b[0m\u001b[0;34m\u001b[0m\u001b[0m\n\u001b[0;32m--> 308\u001b[0;31m                     format(target_id, \".\", name), value)\n\u001b[0m\u001b[1;32m    309\u001b[0m             \u001b[0;32melse\u001b[0m\u001b[0;34m:\u001b[0m\u001b[0;34m\u001b[0m\u001b[0m\n\u001b[1;32m    310\u001b[0m                 raise Py4JError(\n",
      "\u001b[0;31mPy4JJavaError\u001b[0m: An error occurred while calling z:org.apache.spark.api.python.PythonRDD.runJob.\n: org.apache.spark.SparkException: Job aborted due to stage failure: Task 2 in stage 99.0 failed 1 times, most recent failure: Lost task 2.0 in stage 99.0 (TID 148, localhost): org.apache.spark.api.python.PythonException: Traceback (most recent call last):\n  File \"/usr/lib/spark/python/lib/pyspark.zip/pyspark/worker.py\", line 111, in main\n    process()\n  File \"/usr/lib/spark/python/lib/pyspark.zip/pyspark/worker.py\", line 106, in process\n    serializer.dump_stream(func(split_index, iterator), outfile)\n  File \"/usr/lib/spark/python/pyspark/rdd.py\", line 2346, in pipeline_func\n    return func(split, prev_func(split, iterator))\n  File \"/usr/lib/spark/python/pyspark/rdd.py\", line 2346, in pipeline_func\n    return func(split, prev_func(split, iterator))\n  File \"/usr/lib/spark/python/pyspark/rdd.py\", line 317, in func\n    return f(iterator)\n  File \"/usr/lib/spark/python/pyspark/rdd.py\", line 1776, in combineLocally\n    merger.mergeValues(iterator)\n  File \"/usr/lib/spark/python/lib/pyspark.zip/pyspark/shuffle.py\", line 236, in mergeValues\n    for k, v in iterator:\n  File \"<ipython-input-68-34878ab4ef6d>\", line 4, in <lambda>\nKeyError: 'id'\n\n\tat org.apache.spark.api.python.PythonRunner$$anon$1.read(PythonRDD.scala:166)\n\tat org.apache.spark.api.python.PythonRunner$$anon$1.<init>(PythonRDD.scala:207)\n\tat org.apache.spark.api.python.PythonRunner.compute(PythonRDD.scala:125)\n\tat org.apache.spark.api.python.PythonRDD.compute(PythonRDD.scala:70)\n\tat org.apache.spark.rdd.RDD.computeOrReadCheckpoint(RDD.scala:306)\n\tat org.apache.spark.rdd.RDD.iterator(RDD.scala:270)\n\tat org.apache.spark.api.python.PairwiseRDD.compute(PythonRDD.scala:342)\n\tat org.apache.spark.rdd.RDD.computeOrReadCheckpoint(RDD.scala:306)\n\tat org.apache.spark.rdd.RDD.iterator(RDD.scala:270)\n\tat org.apache.spark.scheduler.ShuffleMapTask.runTask(ShuffleMapTask.scala:73)\n\tat org.apache.spark.scheduler.ShuffleMapTask.runTask(ShuffleMapTask.scala:41)\n\tat org.apache.spark.scheduler.Task.run(Task.scala:89)\n\tat org.apache.spark.executor.Executor$TaskRunner.run(Executor.scala:214)\n\tat java.util.concurrent.ThreadPoolExecutor.runWorker(ThreadPoolExecutor.java:1145)\n\tat java.util.concurrent.ThreadPoolExecutor$Worker.run(ThreadPoolExecutor.java:615)\n\tat java.lang.Thread.run(Thread.java:745)\n\nDriver stacktrace:\n\tat org.apache.spark.scheduler.DAGScheduler.org$apache$spark$scheduler$DAGScheduler$$failJobAndIndependentStages(DAGScheduler.scala:1431)\n\tat org.apache.spark.scheduler.DAGScheduler$$anonfun$abortStage$1.apply(DAGScheduler.scala:1419)\n\tat org.apache.spark.scheduler.DAGScheduler$$anonfun$abortStage$1.apply(DAGScheduler.scala:1418)\n\tat scala.collection.mutable.ResizableArray$class.foreach(ResizableArray.scala:59)\n\tat scala.collection.mutable.ArrayBuffer.foreach(ArrayBuffer.scala:47)\n\tat org.apache.spark.scheduler.DAGScheduler.abortStage(DAGScheduler.scala:1418)\n\tat org.apache.spark.scheduler.DAGScheduler$$anonfun$handleTaskSetFailed$1.apply(DAGScheduler.scala:799)\n\tat org.apache.spark.scheduler.DAGScheduler$$anonfun$handleTaskSetFailed$1.apply(DAGScheduler.scala:799)\n\tat scala.Option.foreach(Option.scala:236)\n\tat org.apache.spark.scheduler.DAGScheduler.handleTaskSetFailed(DAGScheduler.scala:799)\n\tat org.apache.spark.scheduler.DAGSchedulerEventProcessLoop.doOnReceive(DAGScheduler.scala:1640)\n\tat org.apache.spark.scheduler.DAGSchedulerEventProcessLoop.onReceive(DAGScheduler.scala:1599)\n\tat org.apache.spark.scheduler.DAGSchedulerEventProcessLoop.onReceive(DAGScheduler.scala:1588)\n\tat org.apache.spark.util.EventLoop$$anon$1.run(EventLoop.scala:48)\n\tat org.apache.spark.scheduler.DAGScheduler.runJob(DAGScheduler.scala:620)\n\tat org.apache.spark.SparkContext.runJob(SparkContext.scala:1843)\n\tat org.apache.spark.SparkContext.runJob(SparkContext.scala:1856)\n\tat org.apache.spark.SparkContext.runJob(SparkContext.scala:1869)\n\tat org.apache.spark.api.python.PythonRDD$.runJob(PythonRDD.scala:393)\n\tat org.apache.spark.api.python.PythonRDD.runJob(PythonRDD.scala)\n\tat sun.reflect.GeneratedMethodAccessor44.invoke(Unknown Source)\n\tat sun.reflect.DelegatingMethodAccessorImpl.invoke(DelegatingMethodAccessorImpl.java:43)\n\tat java.lang.reflect.Method.invoke(Method.java:606)\n\tat py4j.reflection.MethodInvoker.invoke(MethodInvoker.java:231)\n\tat py4j.reflection.ReflectionEngine.invoke(ReflectionEngine.java:381)\n\tat py4j.Gateway.invoke(Gateway.java:259)\n\tat py4j.commands.AbstractCommand.invokeMethod(AbstractCommand.java:133)\n\tat py4j.commands.CallCommand.execute(CallCommand.java:79)\n\tat py4j.GatewayConnection.run(GatewayConnection.java:209)\n\tat java.lang.Thread.run(Thread.java:745)\nCaused by: org.apache.spark.api.python.PythonException: Traceback (most recent call last):\n  File \"/usr/lib/spark/python/lib/pyspark.zip/pyspark/worker.py\", line 111, in main\n    process()\n  File \"/usr/lib/spark/python/lib/pyspark.zip/pyspark/worker.py\", line 106, in process\n    serializer.dump_stream(func(split_index, iterator), outfile)\n  File \"/usr/lib/spark/python/pyspark/rdd.py\", line 2346, in pipeline_func\n    return func(split, prev_func(split, iterator))\n  File \"/usr/lib/spark/python/pyspark/rdd.py\", line 2346, in pipeline_func\n    return func(split, prev_func(split, iterator))\n  File \"/usr/lib/spark/python/pyspark/rdd.py\", line 317, in func\n    return f(iterator)\n  File \"/usr/lib/spark/python/pyspark/rdd.py\", line 1776, in combineLocally\n    merger.mergeValues(iterator)\n  File \"/usr/lib/spark/python/lib/pyspark.zip/pyspark/shuffle.py\", line 236, in mergeValues\n    for k, v in iterator:\n  File \"<ipython-input-68-34878ab4ef6d>\", line 4, in <lambda>\nKeyError: 'id'\n\n\tat org.apache.spark.api.python.PythonRunner$$anon$1.read(PythonRDD.scala:166)\n\tat org.apache.spark.api.python.PythonRunner$$anon$1.<init>(PythonRDD.scala:207)\n\tat org.apache.spark.api.python.PythonRunner.compute(PythonRDD.scala:125)\n\tat org.apache.spark.api.python.PythonRDD.compute(PythonRDD.scala:70)\n\tat org.apache.spark.rdd.RDD.computeOrReadCheckpoint(RDD.scala:306)\n\tat org.apache.spark.rdd.RDD.iterator(RDD.scala:270)\n\tat org.apache.spark.api.python.PairwiseRDD.compute(PythonRDD.scala:342)\n\tat org.apache.spark.rdd.RDD.computeOrReadCheckpoint(RDD.scala:306)\n\tat org.apache.spark.rdd.RDD.iterator(RDD.scala:270)\n\tat org.apache.spark.scheduler.ShuffleMapTask.runTask(ShuffleMapTask.scala:73)\n\tat org.apache.spark.scheduler.ShuffleMapTask.runTask(ShuffleMapTask.scala:41)\n\tat org.apache.spark.scheduler.Task.run(Task.scala:89)\n\tat org.apache.spark.executor.Executor$TaskRunner.run(Executor.scala:214)\n\tat java.util.concurrent.ThreadPoolExecutor.runWorker(ThreadPoolExecutor.java:1145)\n\tat java.util.concurrent.ThreadPoolExecutor$Worker.run(ThreadPoolExecutor.java:615)\n\t... 1 more\n"
     ]
    }
   ],
   "source": [
    "actors\\\n",
    "    .mapValues(lambda arr: (arr[1], 1))\\\n",
    "    .reduceByKey(lambda a, b: (a[0], a[1] + b[1]))\\\n",
    "    .map(lambda key_value: (key_value[1][0], key_value[1][1]))\n",
    "    .take(10)"
   ]
  },
  {
   "cell_type": "markdown",
   "metadata": {},
   "source": [
    "### Доля жанра в течении времени\n",
    "\n",
    "Для каждого жанра нужно построить как менялась доля вышедших фильмов данного жанра относительно всех остальных жанров.\n",
    "\n",
    "Дату выхода фильма можно взять из файла `tmdb.json`.\n",
    "\n",
    "(См. `plt.stackplot`)"
   ]
  },
  {
   "cell_type": "code",
   "execution_count": 124,
   "metadata": {},
   "outputs": [
    {
     "data": {
      "text/plain": [
       "[(1, 'Adventure'),\n",
       " (1, 'Animation'),\n",
       " (1, 'Children'),\n",
       " (1, 'Comedy'),\n",
       " (1, 'Fantasy')]"
      ]
     },
     "execution_count": 124,
     "metadata": {},
     "output_type": "execute_result"
    }
   ],
   "source": [
    "genres = movies\\\n",
    "    .map(lambda s: s.split(',')) \\\n",
    "    .filter(lambda arr: arr[0].isdigit()) \\\n",
    "    .map(lambda arr: (int(arr[0]), arr[-1].split('|')))\\\n",
    "    .flatMap(lambda arr: map(lambda genre: (arr[0], genre), arr[1]))\\\n",
    "    .keyBy(lambda arr: arr[0])\\\n",
    "    .mapValues(lambda arr: arr[1])\n",
    "genres.take(5)"
   ]
  },
  {
   "cell_type": "code",
   "execution_count": 142,
   "metadata": {},
   "outputs": [
    {
     "data": {
      "text/plain": [
       "{'(no genres listed)': 14,\n",
       " 'Action': 3,\n",
       " 'Adventure': 19,\n",
       " 'Animation': 17,\n",
       " 'Children': 5,\n",
       " 'Comedy': 12,\n",
       " 'Crime': 15,\n",
       " 'Documentary': 7,\n",
       " 'Drama': 2,\n",
       " 'Fantasy': 9,\n",
       " 'Film-Noir': 13,\n",
       " 'Horror': 1,\n",
       " 'IMAX': 11,\n",
       " 'Musical': 6,\n",
       " 'Mystery': 18,\n",
       " 'Romance': 10,\n",
       " 'Sci-Fi': 0,\n",
       " 'Thriller': 8,\n",
       " 'War': 16,\n",
       " 'Western': 4}"
      ]
     },
     "execution_count": 142,
     "metadata": {},
     "output_type": "execute_result"
    }
   ],
   "source": [
    "genres_names = genres.map(lambda arr: arr[1]).distinct().collect()\n",
    "genres_ids = {g:i for i, g in enumerate(genres_names)}\n",
    "genres_ids"
   ]
  },
  {
   "cell_type": "code",
   "execution_count": 133,
   "metadata": {},
   "outputs": [
    {
     "data": {
      "text/plain": [
       "[(89992, 'Horror'),\n",
       " (89992, 'Sci-Fi'),\n",
       " (31357, 'Comedy'),\n",
       " (31357, 'Drama'),\n",
       " (31357, 'Romance')]"
      ]
     },
     "execution_count": 133,
     "metadata": {},
     "output_type": "execute_result"
    }
   ],
   "source": [
    "genres_tmdb = genres\\\n",
    "    .join(links)\\\n",
    "    .map(lambda arr: (arr[1][1][1], arr[1][0]))\\\n",
    "    .keyBy(lambda arr: arr[0])\\\n",
    "    .mapValues(lambda arr: arr[1])\n",
    "genres_tmdb.take(5)"
   ]
  },
  {
   "cell_type": "code",
   "execution_count": 134,
   "metadata": {
    "collapsed": true
   },
   "outputs": [
    {
     "ename": "KeyboardInterrupt",
     "evalue": "",
     "output_type": "error",
     "traceback": [
      "\u001b[0;31m---------------------------------------------------------------------------\u001b[0m",
      "\u001b[0;31mKeyboardInterrupt\u001b[0m                         Traceback (most recent call last)",
      "\u001b[0;32m<ipython-input-134-82bd462f2878>\u001b[0m in \u001b[0;36m<module>\u001b[0;34m\u001b[0m\n\u001b[1;32m      2\u001b[0m     \u001b[0;34m.\u001b[0m\u001b[0mmapValues\u001b[0m\u001b[0;34m(\u001b[0m\u001b[0;32mlambda\u001b[0m \u001b[0mrec\u001b[0m\u001b[0;34m:\u001b[0m \u001b[0mrec\u001b[0m\u001b[0;34m[\u001b[0m\u001b[0;34m'release_date'\u001b[0m\u001b[0;34m]\u001b[0m\u001b[0;34m[\u001b[0m\u001b[0;34m:\u001b[0m\u001b[0;36m4\u001b[0m\u001b[0;34m]\u001b[0m\u001b[0;34m)\u001b[0m\u001b[0;31m\\\u001b[0m\u001b[0;34m\u001b[0m\u001b[0m\n\u001b[1;32m      3\u001b[0m     \u001b[0;34m.\u001b[0m\u001b[0mjoin\u001b[0m\u001b[0;34m(\u001b[0m\u001b[0mgenres_tmdb\u001b[0m\u001b[0;34m)\u001b[0m\u001b[0;34m\u001b[0m\u001b[0m\n\u001b[0;32m----> 4\u001b[0;31m \u001b[0myears\u001b[0m\u001b[0;34m.\u001b[0m\u001b[0mtake\u001b[0m\u001b[0;34m(\u001b[0m\u001b[0;36m5\u001b[0m\u001b[0;34m)\u001b[0m\u001b[0;34m\u001b[0m\u001b[0m\n\u001b[0m",
      "\u001b[0;32m/usr/lib/spark/python/pyspark/rdd.py\u001b[0m in \u001b[0;36mtake\u001b[0;34m(self, num)\u001b[0m\n\u001b[1;32m   1295\u001b[0m \u001b[0;34m\u001b[0m\u001b[0m\n\u001b[1;32m   1296\u001b[0m             \u001b[0mp\u001b[0m \u001b[0;34m=\u001b[0m \u001b[0mrange\u001b[0m\u001b[0;34m(\u001b[0m\u001b[0mpartsScanned\u001b[0m\u001b[0;34m,\u001b[0m \u001b[0mmin\u001b[0m\u001b[0;34m(\u001b[0m\u001b[0mpartsScanned\u001b[0m \u001b[0;34m+\u001b[0m \u001b[0mnumPartsToTry\u001b[0m\u001b[0;34m,\u001b[0m \u001b[0mtotalParts\u001b[0m\u001b[0;34m)\u001b[0m\u001b[0;34m)\u001b[0m\u001b[0;34m\u001b[0m\u001b[0m\n\u001b[0;32m-> 1297\u001b[0;31m             \u001b[0mres\u001b[0m \u001b[0;34m=\u001b[0m \u001b[0mself\u001b[0m\u001b[0;34m.\u001b[0m\u001b[0mcontext\u001b[0m\u001b[0;34m.\u001b[0m\u001b[0mrunJob\u001b[0m\u001b[0;34m(\u001b[0m\u001b[0mself\u001b[0m\u001b[0;34m,\u001b[0m \u001b[0mtakeUpToNumLeft\u001b[0m\u001b[0;34m,\u001b[0m \u001b[0mp\u001b[0m\u001b[0;34m)\u001b[0m\u001b[0;34m\u001b[0m\u001b[0m\n\u001b[0m\u001b[1;32m   1298\u001b[0m \u001b[0;34m\u001b[0m\u001b[0m\n\u001b[1;32m   1299\u001b[0m             \u001b[0mitems\u001b[0m \u001b[0;34m+=\u001b[0m \u001b[0mres\u001b[0m\u001b[0;34m\u001b[0m\u001b[0m\n",
      "\u001b[0;32m/usr/lib/spark/python/pyspark/context.py\u001b[0m in \u001b[0;36mrunJob\u001b[0;34m(self, rdd, partitionFunc, partitions, allowLocal)\u001b[0m\n\u001b[1;32m    937\u001b[0m         \u001b[0;31m# SparkContext#runJob.\u001b[0m\u001b[0;34m\u001b[0m\u001b[0;34m\u001b[0m\u001b[0m\n\u001b[1;32m    938\u001b[0m         \u001b[0mmappedRDD\u001b[0m \u001b[0;34m=\u001b[0m \u001b[0mrdd\u001b[0m\u001b[0;34m.\u001b[0m\u001b[0mmapPartitions\u001b[0m\u001b[0;34m(\u001b[0m\u001b[0mpartitionFunc\u001b[0m\u001b[0;34m)\u001b[0m\u001b[0;34m\u001b[0m\u001b[0m\n\u001b[0;32m--> 939\u001b[0;31m         \u001b[0mport\u001b[0m \u001b[0;34m=\u001b[0m \u001b[0mself\u001b[0m\u001b[0;34m.\u001b[0m\u001b[0m_jvm\u001b[0m\u001b[0;34m.\u001b[0m\u001b[0mPythonRDD\u001b[0m\u001b[0;34m.\u001b[0m\u001b[0mrunJob\u001b[0m\u001b[0;34m(\u001b[0m\u001b[0mself\u001b[0m\u001b[0;34m.\u001b[0m\u001b[0m_jsc\u001b[0m\u001b[0;34m.\u001b[0m\u001b[0msc\u001b[0m\u001b[0;34m(\u001b[0m\u001b[0;34m)\u001b[0m\u001b[0;34m,\u001b[0m \u001b[0mmappedRDD\u001b[0m\u001b[0;34m.\u001b[0m\u001b[0m_jrdd\u001b[0m\u001b[0;34m,\u001b[0m \u001b[0mpartitions\u001b[0m\u001b[0;34m)\u001b[0m\u001b[0;34m\u001b[0m\u001b[0m\n\u001b[0m\u001b[1;32m    940\u001b[0m         \u001b[0;32mreturn\u001b[0m \u001b[0mlist\u001b[0m\u001b[0;34m(\u001b[0m\u001b[0m_load_from_socket\u001b[0m\u001b[0;34m(\u001b[0m\u001b[0mport\u001b[0m\u001b[0;34m,\u001b[0m \u001b[0mmappedRDD\u001b[0m\u001b[0;34m.\u001b[0m\u001b[0m_jrdd_deserializer\u001b[0m\u001b[0;34m)\u001b[0m\u001b[0;34m)\u001b[0m\u001b[0;34m\u001b[0m\u001b[0m\n\u001b[1;32m    941\u001b[0m \u001b[0;34m\u001b[0m\u001b[0m\n",
      "\u001b[0;32m/usr/lib/spark/python/lib/py4j-0.9-src.zip/py4j/java_gateway.py\u001b[0m in \u001b[0;36m__call__\u001b[0;34m(self, *args)\u001b[0m\n\u001b[1;32m    809\u001b[0m             \u001b[0mproto\u001b[0m\u001b[0;34m.\u001b[0m\u001b[0mEND_COMMAND_PART\u001b[0m\u001b[0;34m\u001b[0m\u001b[0m\n\u001b[1;32m    810\u001b[0m \u001b[0;34m\u001b[0m\u001b[0m\n\u001b[0;32m--> 811\u001b[0;31m         \u001b[0manswer\u001b[0m \u001b[0;34m=\u001b[0m \u001b[0mself\u001b[0m\u001b[0;34m.\u001b[0m\u001b[0mgateway_client\u001b[0m\u001b[0;34m.\u001b[0m\u001b[0msend_command\u001b[0m\u001b[0;34m(\u001b[0m\u001b[0mcommand\u001b[0m\u001b[0;34m)\u001b[0m\u001b[0;34m\u001b[0m\u001b[0m\n\u001b[0m\u001b[1;32m    812\u001b[0m         return_value = get_return_value(\n\u001b[1;32m    813\u001b[0m             answer, self.gateway_client, self.target_id, self.name)\n",
      "\u001b[0;32m/usr/lib/spark/python/lib/py4j-0.9-src.zip/py4j/java_gateway.py\u001b[0m in \u001b[0;36msend_command\u001b[0;34m(self, command, retry)\u001b[0m\n\u001b[1;32m    624\u001b[0m         \u001b[0mconnection\u001b[0m \u001b[0;34m=\u001b[0m \u001b[0mself\u001b[0m\u001b[0;34m.\u001b[0m\u001b[0m_get_connection\u001b[0m\u001b[0;34m(\u001b[0m\u001b[0;34m)\u001b[0m\u001b[0;34m\u001b[0m\u001b[0m\n\u001b[1;32m    625\u001b[0m         \u001b[0;32mtry\u001b[0m\u001b[0;34m:\u001b[0m\u001b[0;34m\u001b[0m\u001b[0m\n\u001b[0;32m--> 626\u001b[0;31m             \u001b[0mresponse\u001b[0m \u001b[0;34m=\u001b[0m \u001b[0mconnection\u001b[0m\u001b[0;34m.\u001b[0m\u001b[0msend_command\u001b[0m\u001b[0;34m(\u001b[0m\u001b[0mcommand\u001b[0m\u001b[0;34m)\u001b[0m\u001b[0;34m\u001b[0m\u001b[0m\n\u001b[0m\u001b[1;32m    627\u001b[0m             \u001b[0mself\u001b[0m\u001b[0;34m.\u001b[0m\u001b[0m_give_back_connection\u001b[0m\u001b[0;34m(\u001b[0m\u001b[0mconnection\u001b[0m\u001b[0;34m)\u001b[0m\u001b[0;34m\u001b[0m\u001b[0m\n\u001b[1;32m    628\u001b[0m         \u001b[0;32mexcept\u001b[0m \u001b[0mPy4JNetworkError\u001b[0m\u001b[0;34m:\u001b[0m\u001b[0;34m\u001b[0m\u001b[0m\n",
      "\u001b[0;32m/usr/lib/spark/python/lib/py4j-0.9-src.zip/py4j/java_gateway.py\u001b[0m in \u001b[0;36msend_command\u001b[0;34m(self, command)\u001b[0m\n\u001b[1;32m    738\u001b[0m         \u001b[0;32mtry\u001b[0m\u001b[0;34m:\u001b[0m\u001b[0;34m\u001b[0m\u001b[0m\n\u001b[1;32m    739\u001b[0m             \u001b[0mself\u001b[0m\u001b[0;34m.\u001b[0m\u001b[0msocket\u001b[0m\u001b[0;34m.\u001b[0m\u001b[0msendall\u001b[0m\u001b[0;34m(\u001b[0m\u001b[0mcommand\u001b[0m\u001b[0;34m.\u001b[0m\u001b[0mencode\u001b[0m\u001b[0;34m(\u001b[0m\u001b[0;34m\"utf-8\"\u001b[0m\u001b[0;34m)\u001b[0m\u001b[0;34m)\u001b[0m\u001b[0;34m\u001b[0m\u001b[0m\n\u001b[0;32m--> 740\u001b[0;31m             \u001b[0manswer\u001b[0m \u001b[0;34m=\u001b[0m \u001b[0msmart_decode\u001b[0m\u001b[0;34m(\u001b[0m\u001b[0mself\u001b[0m\u001b[0;34m.\u001b[0m\u001b[0mstream\u001b[0m\u001b[0;34m.\u001b[0m\u001b[0mreadline\u001b[0m\u001b[0;34m(\u001b[0m\u001b[0;34m)\u001b[0m\u001b[0;34m[\u001b[0m\u001b[0;34m:\u001b[0m\u001b[0;34m-\u001b[0m\u001b[0;36m1\u001b[0m\u001b[0;34m]\u001b[0m\u001b[0;34m)\u001b[0m\u001b[0;34m\u001b[0m\u001b[0m\n\u001b[0m\u001b[1;32m    741\u001b[0m             \u001b[0mlogger\u001b[0m\u001b[0;34m.\u001b[0m\u001b[0mdebug\u001b[0m\u001b[0;34m(\u001b[0m\u001b[0;34m\"Answer received: {0}\"\u001b[0m\u001b[0;34m.\u001b[0m\u001b[0mformat\u001b[0m\u001b[0;34m(\u001b[0m\u001b[0manswer\u001b[0m\u001b[0;34m)\u001b[0m\u001b[0;34m)\u001b[0m\u001b[0;34m\u001b[0m\u001b[0m\n\u001b[1;32m    742\u001b[0m             \u001b[0;31m# Happens when a the other end is dead. There might be an empty\u001b[0m\u001b[0;34m\u001b[0m\u001b[0;34m\u001b[0m\u001b[0m\n",
      "\u001b[0;32m/usr/lib64/python3.5/socket.py\u001b[0m in \u001b[0;36mreadinto\u001b[0;34m(self, b)\u001b[0m\n\u001b[1;32m    574\u001b[0m         \u001b[0;32mwhile\u001b[0m \u001b[0;32mTrue\u001b[0m\u001b[0;34m:\u001b[0m\u001b[0;34m\u001b[0m\u001b[0m\n\u001b[1;32m    575\u001b[0m             \u001b[0;32mtry\u001b[0m\u001b[0;34m:\u001b[0m\u001b[0;34m\u001b[0m\u001b[0m\n\u001b[0;32m--> 576\u001b[0;31m                 \u001b[0;32mreturn\u001b[0m \u001b[0mself\u001b[0m\u001b[0;34m.\u001b[0m\u001b[0m_sock\u001b[0m\u001b[0;34m.\u001b[0m\u001b[0mrecv_into\u001b[0m\u001b[0;34m(\u001b[0m\u001b[0mb\u001b[0m\u001b[0;34m)\u001b[0m\u001b[0;34m\u001b[0m\u001b[0m\n\u001b[0m\u001b[1;32m    577\u001b[0m             \u001b[0;32mexcept\u001b[0m \u001b[0mtimeout\u001b[0m\u001b[0;34m:\u001b[0m\u001b[0;34m\u001b[0m\u001b[0m\n\u001b[1;32m    578\u001b[0m                 \u001b[0mself\u001b[0m\u001b[0;34m.\u001b[0m\u001b[0m_timeout_occurred\u001b[0m \u001b[0;34m=\u001b[0m \u001b[0;32mTrue\u001b[0m\u001b[0;34m\u001b[0m\u001b[0m\n",
      "\u001b[0;31mKeyboardInterrupt\u001b[0m: "
     ]
    }
   ],
   "source": [
    "years = tmdb\\\n",
    "    .mapValues(lambda rec: rec['release_date'][:4])\\\n",
    "    .join(genres_tmdb)\n",
    "years.take(5)"
   ]
  },
  {
   "cell_type": "code",
   "execution_count": null,
   "metadata": {},
   "outputs": [],
   "source": [
    "year_genre_mat = years\\\n",
    "    .map(lambda arr: (arr[1][0], arr[1][1]))\\\n",
    "    .keyBy(lambda arr: (arr[0], arr[1]))\\\n",
    "    .mapValues(lambda arr: 1)\\\n",
    "    .reduceByKey(lambda a, b: a + b)\n",
    "year_genre_mat.take(5)"
   ]
  },
  {
   "cell_type": "code",
   "execution_count": null,
   "metadata": {},
   "outputs": [],
   "source": [
    "years_sum = year_genre_mat\\\n",
    "    .map(lambda key_value: (key_value[0][0], key_value[1]))\\\n",
    "    .keyBy(lambda arr: arr[0])\\\n",
    "    .mapValues(lambda arr: arr[1])\\\n",
    "    .reduceByKey(lambda a, b: a + b)\\\n",
    "    .collect()\n",
    "years_sum[:5]\n",
    "years_sum = {arr[0]:arr[1] for arr in years_sum}\n",
    "years_ids = {i:arr[0] for i, arr in enumerate(years_sum.keys())}\n",
    "year_genre_mat = year_genre_mat.collect()\n",
    "year_genre_mat[:5]"
   ]
  },
  {
   "cell_type": "code",
   "execution_count": null,
   "metadata": {},
   "outputs": [],
   "source": [
    "ratios = [[0.] * len(genres_names) for _ in years_sum]\n",
    "for arr in year_genre_mat:\n",
    "    year, genre, s = arr[0][0], arr[0][1], arr[1]\n",
    "    ratios[genres_ids[genre]][years_ids[year]] = s / years_sum[year]"
   ]
  },
  {
   "cell_type": "code",
   "execution_count": null,
   "metadata": {},
   "outputs": [],
   "source": [
    "f, ax = plt.subplots(figsize=(10, 6))\n",
    "ax.stackplot(years_sum.keys(), ratios, labels = genres_names)\n",
    "plt.xticks(sorted(years_sum.keys())[::5], rotation=0, fontsize=15)\n",
    "plt.show()"
   ]
  },
  {
   "cell_type": "markdown",
   "metadata": {},
   "source": [
    "### Окупаемость фильмов\n",
    "\n",
    "Для каждого жанра посчитать `ROI = mean(revenue) / mean(budget)` и построить `barplot`, где по оси x будет название жанра, а по оси y - `ROI`\n",
    "\n",
    "Данные о `revenue` и `budget` можно найти в файле `tmdb.json`."
   ]
  },
  {
   "cell_type": "code",
   "execution_count": null,
   "metadata": {},
   "outputs": [],
   "source": [
    "######################################\n",
    "######### YOUR CODE HERE #############\n",
    "######################################"
   ]
  }
 ],
 "metadata": {
  "kernelspec": {
   "display_name": "Python 3",
   "language": "python",
   "name": "python3"
  },
  "language_info": {
   "codemirror_mode": {
    "name": "ipython",
    "version": 3
   },
   "file_extension": ".py",
   "mimetype": "text/x-python",
   "name": "python",
   "nbconvert_exporter": "python",
   "pygments_lexer": "ipython3",
   "version": "3.5.6"
  }
 },
 "nbformat": 4,
 "nbformat_minor": 2
}
