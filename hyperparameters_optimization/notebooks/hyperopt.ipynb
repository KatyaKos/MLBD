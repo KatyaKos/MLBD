{
 "cells": [
  {
   "cell_type": "markdown",
   "metadata": {
    "toc": true
   },
   "source": [
    "<h1>Table of Contents<span class=\"tocSkip\"></span></h1>\n",
    "<div class=\"toc\"><ul class=\"toc-item\"><li><span><a href=\"#Spark-MLlib-Tuning\" data-toc-modified-id=\"Spark-MLlib-Tuning-1\"><span class=\"toc-item-num\">1&nbsp;&nbsp;</span><a href=\"https://spark.apache.org/docs/latest/ml-tuning.html\" target=\"_blank\">Spark MLlib Tuning</a></a></span></li><li><span><a href=\"#Hyperopt\" data-toc-modified-id=\"Hyperopt-2\"><span class=\"toc-item-num\">2&nbsp;&nbsp;</span><a href=\"https://github.com/hyperopt/hyperopt\" target=\"_blank\">Hyperopt</a></a></span><ul class=\"toc-item\"><li><span><a href=\"#XGBoost-Tuning\" data-toc-modified-id=\"XGBoost-Tuning-2.1\"><span class=\"toc-item-num\">2.1&nbsp;&nbsp;</span><a href=\"https://www.analyticsvidhya.com/blog/2016/03/complete-guide-parameter-tuning-xgboost-with-codes-python/\" target=\"_blank\">XGBoost Tuning</a></a></span><ul class=\"toc-item\"><li><span><a href=\"#Objective-function\" data-toc-modified-id=\"Objective-function-2.1.1\"><span class=\"toc-item-num\">2.1.1&nbsp;&nbsp;</span>Objective function</a></span></li><li><span><a href=\"#Tune-number-of-trees\" data-toc-modified-id=\"Tune-number-of-trees-2.1.2\"><span class=\"toc-item-num\">2.1.2&nbsp;&nbsp;</span>Tune number of trees</a></span></li><li><span><a href=\"#Tune-tree-specific-parameters\" data-toc-modified-id=\"Tune-tree-specific-parameters-2.1.3\"><span class=\"toc-item-num\">2.1.3&nbsp;&nbsp;</span>Tune tree-specific parameters</a></span><ul class=\"toc-item\"><li><span><a href=\"#Tune-max_depth,-min_child_weight\" data-toc-modified-id=\"Tune-max_depth,-min_child_weight-2.1.3.1\"><span class=\"toc-item-num\">2.1.3.1&nbsp;&nbsp;</span>Tune max_depth, min_child_weight</a></span></li><li><span><a href=\"#Tune-gamma\" data-toc-modified-id=\"Tune-gamma-2.1.3.2\"><span class=\"toc-item-num\">2.1.3.2&nbsp;&nbsp;</span>Tune gamma</a></span></li><li><span><a href=\"#Tune-subsample,-colsample_bytree\" data-toc-modified-id=\"Tune-subsample,-colsample_bytree-2.1.3.3\"><span class=\"toc-item-num\">2.1.3.3&nbsp;&nbsp;</span>Tune subsample, colsample_bytree</a></span></li></ul></li><li><span><a href=\"#Tune-regularization-parameters\" data-toc-modified-id=\"Tune-regularization-parameters-2.1.4\"><span class=\"toc-item-num\">2.1.4&nbsp;&nbsp;</span>Tune regularization parameters</a></span></li><li><span><a href=\"#Lower-the-learning-rate-and-decide-the-optimal-parameters\" data-toc-modified-id=\"Lower-the-learning-rate-and-decide-the-optimal-parameters-2.1.5\"><span class=\"toc-item-num\">2.1.5&nbsp;&nbsp;</span>Lower the learning rate and decide the optimal parameters</a></span></li></ul></li><li><span><a href=\"#LogisticRegression-Tuning\" data-toc-modified-id=\"LogisticRegression-Tuning-2.2\"><span class=\"toc-item-num\">2.2&nbsp;&nbsp;</span>LogisticRegression Tuning</a></span></li><li><span><a href=\"#Optional-MongoTrials\" data-toc-modified-id=\"Optional-MongoTrials-2.3\"><span class=\"toc-item-num\">2.3&nbsp;&nbsp;</span>Optional <a href=\"https://hyperopt.github.io/hyperopt/scaleout/mongodb/\" target=\"_blank\">MongoTrials</a></a></span><ul class=\"toc-item\"><li><span><a href=\"#XGBoost-Tuning\" data-toc-modified-id=\"XGBoost-Tuning-2.3.1\"><span class=\"toc-item-num\">2.3.1&nbsp;&nbsp;</span>XGBoost Tuning</a></span></li></ul></li></ul></li><li><span><a href=\"#Results\" data-toc-modified-id=\"Results-3\"><span class=\"toc-item-num\">3&nbsp;&nbsp;</span>Results</a></span></li></ul></div>"
   ]
  },
  {
   "cell_type": "markdown",
   "metadata": {},
   "source": [
    "Продолжаем работать над задачей CTR-prediction с использованием датасета от Criteo.\n",
    "\n",
    "Описание задачи и данных можно посмотреть в notebook'e предыдущей практики (`sgd_logreg_nn/notebooks/ctr_prediction_mllib.ipynb`)."
   ]
  },
  {
   "cell_type": "code",
   "execution_count": 8,
   "metadata": {},
   "outputs": [
    {
     "name": "stdout",
     "output_type": "stream",
     "text": [
      "criteo_pipeline\t\t    results\t    xgblr_pipeline\r\n",
      "criteo_pipeline_full\t    test.csv\t    xgblr_xgb.model\r\n",
      "criteo_pipeline_meantarget  train.csv\t    xgb_meantarget.model\r\n",
      "logreg_best.model\t    xgblr_lr.model  xgb.model\r\n"
     ]
    }
   ],
   "source": [
    "!ls /workspace/data/criteo"
   ]
  },
  {
   "cell_type": "code",
   "execution_count": 1,
   "metadata": {},
   "outputs": [],
   "source": [
    "%matplotlib inline\n",
    "%config InlineBackend.figure_format ='retina'\n",
    "\n",
    "import os\n",
    "import sys\n",
    "import glob\n",
    "import pickle\n",
    "import seaborn as sns\n",
    "import matplotlib.pyplot as plt\n",
    "import numpy as np\n",
    "\n",
    "import pyspark\n",
    "import pyspark.sql.functions as F\n",
    "from pyspark.conf import SparkConf\n",
    "from pyspark.sql import SQLContext\n",
    "from pyspark.sql import SparkSession\n",
    "from pyspark.sql import Row\n",
    "\n",
    "COMMON_PATH = '/workspace/MLBD/common'\n",
    "\n",
    "sys.path.append(os.path.join(COMMON_PATH, 'utils'))\n",
    "\n",
    "os.environ['PYSPARK_SUBMIT_ARGS'] = \"\"\"\n",
    "--jars {common}/xgboost4j-spark-0.72.jar,{common}/xgboost4j-0.72.jar\n",
    "--py-files {common}/sparkxgb.zip pyspark-shell\n",
    "\"\"\".format(common=COMMON_PATH).replace('\\n', ' ')\n",
    "\n",
    "spark = SparkSession \\\n",
    "    .builder \\\n",
    "    .master('local[*]') \\\n",
    "    .appName(\"spark_sql_examples\") \\\n",
    "    .config(\"spark.executor.memory\", \"15g\") \\\n",
    "    .config(\"spark.driver.memory\", \"15g\") \\\n",
    "    .getOrCreate()\n",
    "\n",
    "sc = spark.sparkContext\n",
    "sqlContext = SQLContext(sc)\n",
    "\n",
    "from metrics import rocauc, logloss, ne, get_ate\n",
    "from processing import split_by_col\n",
    "\n",
    "from sparkxgb.xgboost import *"
   ]
  },
  {
   "cell_type": "code",
   "execution_count": 2,
   "metadata": {},
   "outputs": [],
   "source": [
    "DATA_PATH = '/workspace/data/criteo'\n",
    "\n",
    "TRAIN_PATH = os.path.join(DATA_PATH, 'train.csv')"
   ]
  },
  {
   "cell_type": "code",
   "execution_count": 3,
   "metadata": {},
   "outputs": [],
   "source": [
    "df = sqlContext.read.format(\"com.databricks.spark.csv\") \\\n",
    "    .option(\"delimiter\", \",\") \\\n",
    "    .option(\"header\", \"true\") \\\n",
    "    .option(\"inferSchema\", \"true\") \\\n",
    "    .load('file:///' + TRAIN_PATH)"
   ]
  },
  {
   "cell_type": "markdown",
   "metadata": {},
   "source": [
    "**Remark** Необязательно использовать половину датасета и всего две категориальные переменные. Можно использовать больше данных, если вам позволяет ваша конфигурация"
   ]
  },
  {
   "cell_type": "code",
   "execution_count": 4,
   "metadata": {},
   "outputs": [],
   "source": [
    "df = df.sample(False, 0.5)"
   ]
  },
  {
   "cell_type": "code",
   "execution_count": 5,
   "metadata": {},
   "outputs": [],
   "source": [
    "num_columns = ['_c{}'.format(i) for i in range(1, 14)]"
   ]
  },
  {
   "cell_type": "code",
   "execution_count": 6,
   "metadata": {},
   "outputs": [],
   "source": [
    "df = df.fillna(0, subset=num_columns)"
   ]
  },
  {
   "cell_type": "code",
   "execution_count": 7,
   "metadata": {},
   "outputs": [
    {
     "data": {
      "text/plain": [
       "[StringIndexer_770fc081fe99,\n",
       " StringIndexer_084702c33ebd,\n",
       " OneHotEncoderEstimator_0b8158f2a84a,\n",
       " VectorAssembler_34b2aef55ff0]"
      ]
     },
     "execution_count": 7,
     "metadata": {},
     "output_type": "execute_result"
    }
   ],
   "source": [
    "from pyspark.ml import PipelineModel\n",
    "\n",
    "pipeline_model = PipelineModel.load(os.path.join(DATA_PATH, 'criteo_pipeline'))\n",
    "pipeline_model.stages"
   ]
  },
  {
   "cell_type": "code",
   "execution_count": 8,
   "metadata": {},
   "outputs": [
    {
     "data": {
      "text/plain": [
       "1099432"
      ]
     },
     "execution_count": 8,
     "metadata": {},
     "output_type": "execute_result"
    }
   ],
   "source": [
    "df = pipeline_model \\\n",
    "    .transform(df) \\\n",
    "    .select(F.col('_c0').alias('label'), 'features', 'id') \\\n",
    "    .cache()\n",
    "\n",
    "df.count()"
   ]
  },
  {
   "cell_type": "code",
   "execution_count": 9,
   "metadata": {},
   "outputs": [],
   "source": [
    "train_df, val_df, test_df = split_by_col(df, 'id', [0.8, 0.1, 0.1])"
   ]
  },
  {
   "cell_type": "markdown",
   "metadata": {},
   "source": [
    "# [Spark MLlib Tuning](https://spark.apache.org/docs/latest/ml-tuning.html)\n",
    "\n",
    "У имеющегося в Spark'e метода HPO есть два существенных недостатка, которые делают его мало пригодным в контексте нашей задачи:\n",
    "\n",
    "1. `ParamGridBuilder` - поиск по сетке\n",
    "2. `TrainValidationSplit` - делит данные случайнм образом"
   ]
  },
  {
   "cell_type": "code",
   "execution_count": null,
   "metadata": {},
   "outputs": [],
   "source": []
  },
  {
   "cell_type": "markdown",
   "metadata": {},
   "source": [
    "# [Hyperopt](https://github.com/hyperopt/hyperopt)\n",
    "\n",
    "Установим `hyperopt`"
   ]
  },
  {
   "cell_type": "code",
   "execution_count": 13,
   "metadata": {},
   "outputs": [
    {
     "name": "stdout",
     "output_type": "stream",
     "text": [
      "Requirement already satisfied: hyperopt in /usr/lib/python3.5/site-packages (0.2.3)\n",
      "Requirement already satisfied: tqdm in /usr/lib/python3.5/site-packages (from hyperopt) (4.43.0)\n",
      "Requirement already satisfied: networkx==2.2 in /usr/lib/python3.5/site-packages (from hyperopt) (2.2)\n",
      "Requirement already satisfied: six in /usr/lib/python3.5/site-packages (from hyperopt) (1.14.0)\n",
      "Requirement already satisfied: future in /usr/lib/python3.5/site-packages (from hyperopt) (0.18.2)\n",
      "Requirement already satisfied: cloudpickle in /usr/lib/python3.5/site-packages (from hyperopt) (1.3.0)\n",
      "Requirement already satisfied: numpy in /usr/lib64/python3.5/site-packages (from hyperopt) (1.17.2)\n",
      "Requirement already satisfied: scipy in /usr/lib64/python3.5/site-packages (from hyperopt) (1.3.3)\n",
      "Requirement already satisfied: decorator>=4.3.0 in /usr/lib/python3.5/site-packages (from networkx==2.2->hyperopt) (4.4.1)\n"
     ]
    }
   ],
   "source": [
    "!pip3.5 install hyperopt"
   ]
  },
  {
   "cell_type": "markdown",
   "metadata": {},
   "source": [
    "## [XGBoost Tuning](https://www.analyticsvidhya.com/blog/2016/03/complete-guide-parameter-tuning-xgboost-with-codes-python/)\n",
    "\n",
    "> [Notes on Parameter Tuning](https://xgboost.readthedocs.io/en/latest/tutorials/param_tuning.html)\n",
    "\n",
    "### Objective function"
   ]
  },
  {
   "cell_type": "code",
   "execution_count": 10,
   "metadata": {},
   "outputs": [],
   "source": [
    "from hyperopt import fmin, tpe, hp, Trials, STATUS_OK\n",
    "import scipy.stats as st\n",
    "\n",
    "\n",
    "def objective(space):\n",
    "    estimator = XGBoostEstimator(**space)\n",
    "    print('SPACE:', estimator._input_kwargs_processed())\n",
    "    success = False\n",
    "    attempts = 0\n",
    "    model = None\n",
    "    while not success and attempts < 2:\n",
    "        try:\n",
    "            model = estimator.fit(train_df)\n",
    "            success = True\n",
    "        except Exception as e:\n",
    "            attempts += 1\n",
    "            print(e)\n",
    "            print('Try again')\n",
    "        \n",
    "    log_loss = logloss(model, val_df, probabilities_col='probabilities')\n",
    "    roc_auc = rocauc(model, val_df, probabilities_col='probabilities')\n",
    "    \n",
    "    print('LOG-LOSS: {}, ROC-AUC: {}'.format(log_loss, roc_auc))\n",
    "\n",
    "    return {'loss': log_loss, 'rocauc': roc_auc, 'status': STATUS_OK }"
   ]
  },
  {
   "cell_type": "code",
   "execution_count": 11,
   "metadata": {},
   "outputs": [],
   "source": [
    "static_params = {\n",
    "    'featuresCol': \"features\", \n",
    "    'labelCol': \"label\", \n",
    "    'predictionCol': \"prediction\",\n",
    "    'eval_metric': 'logloss',\n",
    "    'objective': 'binary:logistic',\n",
    "    'nthread': 1,\n",
    "    'silent': 0,\n",
    "    'nworkers': 1\n",
    "}"
   ]
  },
  {
   "cell_type": "markdown",
   "metadata": {},
   "source": [
    "Fix baseline parameters and train baseline model"
   ]
  },
  {
   "cell_type": "code",
   "execution_count": 12,
   "metadata": {},
   "outputs": [],
   "source": [
    "CONTROL_NAME = 'xgb baseline'\n",
    "\n",
    "baseline_params = {\n",
    "    'colsample_bytree': 0.9,\n",
    "    'eta': 0.15,\n",
    "    'gamma': 0.9,\n",
    "    'max_depth': 6,\n",
    "    'min_child_weight': 50.0,\n",
    "    'subsample': 0.9,\n",
    "    'num_round': 20\n",
    "}\n",
    "\n",
    "baseline_model = XGBoostEstimator(**{**static_params, **baseline_params}).fit(train_df)"
   ]
  },
  {
   "cell_type": "code",
   "execution_count": 13,
   "metadata": {},
   "outputs": [
    {
     "data": {
      "text/plain": [
       "0.7254314484043973"
      ]
     },
     "execution_count": 13,
     "metadata": {},
     "output_type": "execute_result"
    }
   ],
   "source": [
    "baseline_rocauc = rocauc(baseline_model, val_df, probabilities_col='probabilities')\n",
    "baseline_rocauc"
   ]
  },
  {
   "cell_type": "code",
   "execution_count": 14,
   "metadata": {},
   "outputs": [],
   "source": [
    "all_metrics = {}"
   ]
  },
  {
   "cell_type": "code",
   "execution_count": 15,
   "metadata": {},
   "outputs": [],
   "source": [
    "baseline_test_metrics = {\n",
    "    'logloss': logloss(baseline_model, test_df, probabilities_col='probabilities'),\n",
    "    'rocauc': rocauc(baseline_model, test_df, probabilities_col='probabilities')\n",
    "}\n",
    "\n",
    "all_metrics[CONTROL_NAME] = baseline_test_metrics"
   ]
  },
  {
   "cell_type": "code",
   "execution_count": 16,
   "metadata": {},
   "outputs": [
    {
     "data": {
      "text/plain": [
       "{'xgb baseline': {'logloss': 0.5136055353642643, 'rocauc': 0.7256245795728983}}"
      ]
     },
     "execution_count": 16,
     "metadata": {},
     "output_type": "execute_result"
    }
   ],
   "source": [
    "all_metrics"
   ]
  },
  {
   "cell_type": "markdown",
   "metadata": {},
   "source": [
    "### Tune number of trees\n",
    "\n",
    "> Choose a relatively high learning rate. Generally a learning rate of 0.1 works but somewhere between 0.05 to 0.3 should work for different problems. Determine the optimum number of trees for this learning rate."
   ]
  },
  {
   "cell_type": "code",
   "execution_count": 17,
   "metadata": {
    "scrolled": true
   },
   "outputs": [
    {
     "name": "stdout",
     "output_type": "stream",
     "text": [
      "SPACE:                                                \n",
      "{'objective': 'binary:logistic', 'gamma': 0.9, 'predictionCol': 'prediction', 'subsample': 0.9, 'featuresCol': 'features', 'max_depth': 6, 'eta': 0.1, 'min_child_weight': 50.0, 'labelCol': 'label', 'colsample_bytree': 0.9, 'nthread': 1, 'eval_metric': 'logloss', 'nworkers': 1, 'silent': 0, 'num_round': 100}\n",
      "LOG-LOSS: 0.5039575938791325, ROC-AUC: 0.7335010950207554\n",
      "SPACE:                                                                           \n",
      "{'objective': 'binary:logistic', 'gamma': 0.9, 'predictionCol': 'prediction', 'subsample': 0.9, 'featuresCol': 'features', 'max_depth': 6, 'eta': 0.3, 'min_child_weight': 50.0, 'labelCol': 'label', 'colsample_bytree': 0.9, 'nthread': 1, 'eval_metric': 'logloss', 'nworkers': 1, 'silent': 0, 'num_round': 20}\n",
      "LOG-LOSS: 0.5064149195992691, ROC-AUC: 0.7295467783451892                        \n",
      "SPACE:                                                                           \n",
      "{'objective': 'binary:logistic', 'gamma': 0.9, 'predictionCol': 'prediction', 'subsample': 0.9, 'featuresCol': 'features', 'max_depth': 6, 'eta': 0.3, 'min_child_weight': 50.0, 'labelCol': 'label', 'colsample_bytree': 0.9, 'nthread': 1, 'eval_metric': 'logloss', 'nworkers': 1, 'silent': 0, 'num_round': 10}\n",
      "LOG-LOSS: 0.5100753139049946, ROC-AUC: 0.7246937156897697                        \n",
      "SPACE:                                                                           \n",
      "{'objective': 'binary:logistic', 'gamma': 0.9, 'predictionCol': 'prediction', 'subsample': 0.9, 'featuresCol': 'features', 'max_depth': 6, 'eta': 0.2, 'min_child_weight': 50.0, 'labelCol': 'label', 'colsample_bytree': 0.9, 'nthread': 1, 'eval_metric': 'logloss', 'nworkers': 1, 'silent': 0, 'num_round': 40}\n",
      "LOG-LOSS: 0.5048342250110641, ROC-AUC: 0.7321807351655819                       \n",
      "SPACE:                                                                          \n",
      "{'objective': 'binary:logistic', 'gamma': 0.9, 'predictionCol': 'prediction', 'subsample': 0.9, 'featuresCol': 'features', 'max_depth': 6, 'eta': 0.5, 'min_child_weight': 50.0, 'labelCol': 'label', 'colsample_bytree': 0.9, 'nthread': 1, 'eval_metric': 'logloss', 'nworkers': 1, 'silent': 0, 'num_round': 10}\n",
      "LOG-LOSS: 0.5081996451387485, ROC-AUC: 0.726657649968989                        \n",
      "SPACE:                                                                          \n",
      "{'objective': 'binary:logistic', 'gamma': 0.9, 'predictionCol': 'prediction', 'subsample': 0.9, 'featuresCol': 'features', 'max_depth': 6, 'eta': 0.2, 'min_child_weight': 50.0, 'labelCol': 'label', 'colsample_bytree': 0.9, 'nthread': 1, 'eval_metric': 'logloss', 'nworkers': 1, 'silent': 0, 'num_round': 20}\n",
      "LOG-LOSS: 0.5079689911989362, ROC-AUC: 0.7275838609548335                       \n",
      "SPACE:                                                                          \n",
      "{'objective': 'binary:logistic', 'gamma': 0.9, 'predictionCol': 'prediction', 'subsample': 0.9, 'featuresCol': 'features', 'max_depth': 6, 'eta': 0.1, 'min_child_weight': 50.0, 'labelCol': 'label', 'colsample_bytree': 0.9, 'nthread': 1, 'eval_metric': 'logloss', 'nworkers': 1, 'silent': 0, 'num_round': 10}\n",
      "LOG-LOSS: 0.5434066962129587, ROC-AUC: 0.7195815215734775                       \n",
      "SPACE:                                                                          \n",
      "{'objective': 'binary:logistic', 'gamma': 0.9, 'predictionCol': 'prediction', 'subsample': 0.9, 'featuresCol': 'features', 'max_depth': 6, 'eta': 0.1, 'min_child_weight': 50.0, 'labelCol': 'label', 'colsample_bytree': 0.9, 'nthread': 1, 'eval_metric': 'logloss', 'nworkers': 1, 'silent': 0, 'num_round': 100}\n",
      "LOG-LOSS: 0.5039575938791325, ROC-AUC: 0.7335010950207542                       \n",
      "SPACE:                                                                          \n",
      "{'objective': 'binary:logistic', 'gamma': 0.9, 'predictionCol': 'prediction', 'subsample': 0.9, 'featuresCol': 'features', 'max_depth': 6, 'eta': 0.5, 'min_child_weight': 50.0, 'labelCol': 'label', 'colsample_bytree': 0.9, 'nthread': 1, 'eval_metric': 'logloss', 'nworkers': 1, 'silent': 0, 'num_round': 10}\n",
      "LOG-LOSS: 0.5081996451387485, ROC-AUC: 0.726657649968989                        \n",
      "SPACE:                                                                          \n",
      "{'objective': 'binary:logistic', 'gamma': 0.9, 'predictionCol': 'prediction', 'subsample': 0.9, 'featuresCol': 'features', 'max_depth': 6, 'eta': 0.3, 'min_child_weight': 50.0, 'labelCol': 'label', 'colsample_bytree': 0.9, 'nthread': 1, 'eval_metric': 'logloss', 'nworkers': 1, 'silent': 0, 'num_round': 10}\n",
      "LOG-LOSS: 0.5100753139049946, ROC-AUC: 0.7246937156897684                       \n",
      "SPACE:                                                                           \n",
      "{'objective': 'binary:logistic', 'gamma': 0.9, 'predictionCol': 'prediction', 'subsample': 0.9, 'featuresCol': 'features', 'max_depth': 6, 'eta': 0.3, 'min_child_weight': 50.0, 'labelCol': 'label', 'colsample_bytree': 0.9, 'nthread': 1, 'eval_metric': 'logloss', 'nworkers': 1, 'silent': 0, 'num_round': 100}\n",
      "LOG-LOSS: 0.5011672284879687, ROC-AUC: 0.7368496304980974                        \n",
      "SPACE:                                                                           \n",
      "{'objective': 'binary:logistic', 'gamma': 0.9, 'predictionCol': 'prediction', 'subsample': 0.9, 'featuresCol': 'features', 'max_depth': 6, 'eta': 0.5, 'min_child_weight': 50.0, 'labelCol': 'label', 'colsample_bytree': 0.9, 'nthread': 1, 'eval_metric': 'logloss', 'nworkers': 1, 'silent': 0, 'num_round': 20}\n",
      "LOG-LOSS: 0.5055390936230847, ROC-AUC: 0.7308513500464455                        \n",
      "SPACE:                                                                           \n",
      "{'objective': 'binary:logistic', 'gamma': 0.9, 'predictionCol': 'prediction', 'subsample': 0.9, 'featuresCol': 'features', 'max_depth': 6, 'eta': 0.1, 'min_child_weight': 50.0, 'labelCol': 'label', 'colsample_bytree': 0.9, 'nthread': 1, 'eval_metric': 'logloss', 'nworkers': 1, 'silent': 0, 'num_round': 40}\n",
      "LOG-LOSS: 0.5079144605821295, ROC-AUC: 0.7280013154930688                        \n",
      "SPACE:                                                                           \n",
      "{'objective': 'binary:logistic', 'gamma': 0.9, 'predictionCol': 'prediction', 'subsample': 0.9, 'featuresCol': 'features', 'max_depth': 6, 'eta': 0.5, 'min_child_weight': 50.0, 'labelCol': 'label', 'colsample_bytree': 0.9, 'nthread': 1, 'eval_metric': 'logloss', 'nworkers': 1, 'silent': 0, 'num_round': 100}\n",
      "LOG-LOSS: 0.5011739982919264, ROC-AUC: 0.7370982864167667                        \n",
      "SPACE:                                                                           \n",
      "{'objective': 'binary:logistic', 'gamma': 0.9, 'predictionCol': 'prediction', 'subsample': 0.9, 'featuresCol': 'features', 'max_depth': 6, 'eta': 0.2, 'min_child_weight': 50.0, 'labelCol': 'label', 'colsample_bytree': 0.9, 'nthread': 1, 'eval_metric': 'logloss', 'nworkers': 1, 'silent': 0, 'num_round': 100}\n",
      "LOG-LOSS: 0.501503698496183, ROC-AUC: 0.736596742760596                          \n",
      "SPACE:                                                                            \n",
      "{'objective': 'binary:logistic', 'gamma': 0.9, 'predictionCol': 'prediction', 'subsample': 0.9, 'featuresCol': 'features', 'max_depth': 6, 'eta': 0.5, 'min_child_weight': 50.0, 'labelCol': 'label', 'colsample_bytree': 0.9, 'nthread': 1, 'eval_metric': 'logloss', 'nworkers': 1, 'silent': 0, 'num_round': 10}\n",
      "LOG-LOSS: 0.5081996451387485, ROC-AUC: 0.7266576499689903                         \n",
      "SPACE:                                                                            \n",
      "{'objective': 'binary:logistic', 'gamma': 0.9, 'predictionCol': 'prediction', 'subsample': 0.9, 'featuresCol': 'features', 'max_depth': 6, 'eta': 0.2, 'min_child_weight': 50.0, 'labelCol': 'label', 'colsample_bytree': 0.9, 'nthread': 1, 'eval_metric': 'logloss', 'nworkers': 1, 'silent': 0, 'num_round': 20}\n",
      "LOG-LOSS: 0.5079689911989362, ROC-AUC: 0.7275838609548329                        \n",
      "SPACE:                                                                           \n",
      "{'objective': 'binary:logistic', 'gamma': 0.9, 'predictionCol': 'prediction', 'subsample': 0.9, 'featuresCol': 'features', 'max_depth': 6, 'eta': 0.3, 'min_child_weight': 50.0, 'labelCol': 'label', 'colsample_bytree': 0.9, 'nthread': 1, 'eval_metric': 'logloss', 'nworkers': 1, 'silent': 0, 'num_round': 10}\n"
     ]
    },
    {
     "name": "stdout",
     "output_type": "stream",
     "text": [
      "LOG-LOSS: 0.5100753139049946, ROC-AUC: 0.724693715689768                         \n",
      "SPACE:                                                                           \n",
      "{'objective': 'binary:logistic', 'gamma': 0.9, 'predictionCol': 'prediction', 'subsample': 0.9, 'featuresCol': 'features', 'max_depth': 6, 'eta': 0.3, 'min_child_weight': 50.0, 'labelCol': 'label', 'colsample_bytree': 0.9, 'nthread': 1, 'eval_metric': 'logloss', 'nworkers': 1, 'silent': 0, 'num_round': 100}\n",
      "LOG-LOSS: 0.5011672284879687, ROC-AUC: 0.7368496304980969                        \n",
      "SPACE:                                                                           \n",
      "{'objective': 'binary:logistic', 'gamma': 0.9, 'predictionCol': 'prediction', 'subsample': 0.9, 'featuresCol': 'features', 'max_depth': 6, 'eta': 0.5, 'min_child_weight': 50.0, 'labelCol': 'label', 'colsample_bytree': 0.9, 'nthread': 1, 'eval_metric': 'logloss', 'nworkers': 1, 'silent': 0, 'num_round': 10}\n",
      "LOG-LOSS: 0.5081996451387485, ROC-AUC: 0.7266576499689904                        \n",
      "100%|██████████| 20/20 [23:18<00:00, 69.93s/trial, best loss: 0.5011672284879687]\n",
      "CPU times: user 4.24 s, sys: 1.03 s, total: 5.27 s\n",
      "Wall time: 23min 18s\n"
     ]
    }
   ],
   "source": [
    "%%time\n",
    "\n",
    "num_round_choice = [10, 20, 40, 100]\n",
    "eta_choice = [0.10, 0.20, 0.30, 0.50]\n",
    "\n",
    "space_1 = {\n",
    "    # Optimize\n",
    "    'num_round': hp.choice('num_round', num_round_choice),\n",
    "    'eta': hp.choice('eta', eta_choice),\n",
    "    \n",
    "    # Fixed    \n",
    "    'max_depth': baseline_params['max_depth'],\n",
    "    'min_child_weight': baseline_params['min_child_weight'],\n",
    "    'subsample': baseline_params['subsample'],\n",
    "    'gamma': baseline_params['gamma'],\n",
    "    'colsample_bytree': baseline_params['colsample_bytree'],\n",
    "    \n",
    "    **static_params\n",
    "}\n",
    "\n",
    "\n",
    "trials_1 = Trials()\n",
    "best_1 = fmin(fn=objective,\n",
    "            space=space_1,\n",
    "            algo=tpe.suggest,\n",
    "            max_evals=20,\n",
    "            trials=trials_1)"
   ]
  },
  {
   "cell_type": "code",
   "execution_count": 18,
   "metadata": {},
   "outputs": [
    {
     "data": {
      "text/plain": [
       "{'eta': 2, 'num_round': 3}"
      ]
     },
     "execution_count": 18,
     "metadata": {},
     "output_type": "execute_result"
    }
   ],
   "source": [
    "best_1"
   ]
  },
  {
   "cell_type": "markdown",
   "metadata": {},
   "source": [
    "Обратите внимание на то, что в случае с `hp.choice` в переменной `best` хранится не конкретное значение гиперпараметра, а его индекс из списка, например, `num_round_choice`"
   ]
  },
  {
   "cell_type": "code",
   "execution_count": 19,
   "metadata": {},
   "outputs": [
    {
     "data": {
      "text/plain": [
       "(0.3, 100)"
      ]
     },
     "execution_count": 19,
     "metadata": {},
     "output_type": "execute_result"
    }
   ],
   "source": [
    "best_eta = eta_choice[best_1['eta']]  # change me!\n",
    "best_num_round = num_round_choice[best_1['num_round']]  # change me!\n",
    "best_eta, best_num_round"
   ]
  },
  {
   "cell_type": "code",
   "execution_count": 20,
   "metadata": {},
   "outputs": [],
   "source": [
    "params_1 = baseline_params\n",
    "params_1['eta'] = best_eta\n",
    "params_1['num_round'] = best_num_round\n",
    "model_1 = XGBoostEstimator(**{**static_params, **params_1}).fit(train_df)"
   ]
  },
  {
   "cell_type": "code",
   "execution_count": 21,
   "metadata": {},
   "outputs": [],
   "source": [
    "test_metrics_1 = {\n",
    "    'logloss': logloss(model_1, test_df, probabilities_col='probabilities'),\n",
    "    'rocauc': rocauc(model_1, test_df, probabilities_col='probabilities')\n",
    "}\n",
    "\n",
    "all_metrics['tuning_1'] = test_metrics_1"
   ]
  },
  {
   "cell_type": "code",
   "execution_count": 22,
   "metadata": {},
   "outputs": [
    {
     "data": {
      "text/plain": [
       "{'tuning_1': {'logloss': 0.5044681152479438, 'rocauc': 0.7372459385355252},\n",
       " 'xgb baseline': {'logloss': 0.5136055353642643, 'rocauc': 0.7256245795728983}}"
      ]
     },
     "execution_count": 22,
     "metadata": {},
     "output_type": "execute_result"
    }
   ],
   "source": [
    "all_metrics"
   ]
  },
  {
   "cell_type": "markdown",
   "metadata": {},
   "source": [
    "### Tune tree-specific parameters\n",
    "\n",
    "> Tune tree-specific parameters ( max_depth, min_child_weight, gamma, subsample, colsample_bytree) for decided learning rate and number of trees. Note that we can choose different parameters to define a tree and I’ll take up an example here."
   ]
  },
  {
   "cell_type": "markdown",
   "metadata": {},
   "source": [
    "#### Tune max_depth, min_child_weight"
   ]
  },
  {
   "cell_type": "code",
   "execution_count": 25,
   "metadata": {},
   "outputs": [
    {
     "name": "stdout",
     "output_type": "stream",
     "text": [
      "SPACE:                                                \n",
      "{'objective': 'binary:logistic', 'gamma': 0.9, 'predictionCol': 'prediction', 'subsample': 0.9, 'featuresCol': 'features', 'max_depth': 10, 'eta': 0.3, 'min_child_weight': 25.0, 'labelCol': 'label', 'colsample_bytree': 0.9, 'nthread': 1, 'eval_metric': 'logloss', 'nworkers': 1, 'silent': 0, 'num_round': 100}\n",
      "LOG-LOSS: 0.5007839045727842, ROC-AUC: 0.7373997761667604\n",
      "SPACE:                                                                             \n",
      "{'objective': 'binary:logistic', 'gamma': 0.9, 'predictionCol': 'prediction', 'subsample': 0.9, 'featuresCol': 'features', 'max_depth': 15, 'eta': 0.3, 'min_child_weight': 100.0, 'labelCol': 'label', 'colsample_bytree': 0.9, 'nthread': 1, 'eval_metric': 'logloss', 'nworkers': 1, 'silent': 0, 'num_round': 100}\n",
      "LOG-LOSS: 0.5021647109305086, ROC-AUC: 0.7355436306062344                          \n",
      "SPACE:                                                                             \n",
      "{'objective': 'binary:logistic', 'gamma': 0.9, 'predictionCol': 'prediction', 'subsample': 0.9, 'featuresCol': 'features', 'max_depth': 3, 'eta': 0.3, 'min_child_weight': 25.0, 'labelCol': 'label', 'colsample_bytree': 0.9, 'nthread': 1, 'eval_metric': 'logloss', 'nworkers': 1, 'silent': 0, 'num_round': 100}\n",
      "LOG-LOSS: 0.5051576733487573, ROC-AUC: 0.7316086633400443                          \n",
      "SPACE:                                                                             \n",
      "{'objective': 'binary:logistic', 'gamma': 0.9, 'predictionCol': 'prediction', 'subsample': 0.9, 'featuresCol': 'features', 'max_depth': 15, 'eta': 0.3, 'min_child_weight': 0.0, 'labelCol': 'label', 'colsample_bytree': 0.9, 'nthread': 1, 'eval_metric': 'logloss', 'nworkers': 1, 'silent': 0, 'num_round': 100}\n",
      "LOG-LOSS: 0.5137560143936684, ROC-AUC: 0.7231436045704462                        \n",
      "SPACE:                                                                             \n",
      "{'objective': 'binary:logistic', 'gamma': 0.9, 'predictionCol': 'prediction', 'subsample': 0.9, 'featuresCol': 'features', 'max_depth': 6, 'eta': 0.3, 'min_child_weight': 0.0, 'labelCol': 'label', 'colsample_bytree': 0.9, 'nthread': 1, 'eval_metric': 'logloss', 'nworkers': 1, 'silent': 0, 'num_round': 100}\n",
      "LOG-LOSS: 0.5014767668833914, ROC-AUC: 0.7364040013618718                          \n",
      "SPACE:                                                                             \n",
      "{'objective': 'binary:logistic', 'gamma': 0.9, 'predictionCol': 'prediction', 'subsample': 0.9, 'featuresCol': 'features', 'max_depth': 3, 'eta': 0.3, 'min_child_weight': 100.0, 'labelCol': 'label', 'colsample_bytree': 0.9, 'nthread': 1, 'eval_metric': 'logloss', 'nworkers': 1, 'silent': 0, 'num_round': 100}\n",
      "LOG-LOSS: 0.5052164818208283, ROC-AUC: 0.7313319709247004                        \n",
      "SPACE:                                                                           \n",
      "{'objective': 'binary:logistic', 'gamma': 0.9, 'predictionCol': 'prediction', 'subsample': 0.9, 'featuresCol': 'features', 'max_depth': 10, 'eta': 0.3, 'min_child_weight': 25.0, 'labelCol': 'label', 'colsample_bytree': 0.9, 'nthread': 1, 'eval_metric': 'logloss', 'nworkers': 1, 'silent': 0, 'num_round': 100}\n",
      "LOG-LOSS: 0.5007839045727842, ROC-AUC: 0.7373997761667606                        \n",
      "SPACE:                                                                           \n",
      "{'objective': 'binary:logistic', 'gamma': 0.9, 'predictionCol': 'prediction', 'subsample': 0.9, 'featuresCol': 'features', 'max_depth': 15, 'eta': 0.3, 'min_child_weight': 100.0, 'labelCol': 'label', 'colsample_bytree': 0.9, 'nthread': 1, 'eval_metric': 'logloss', 'nworkers': 1, 'silent': 0, 'num_round': 100}\n",
      "LOG-LOSS: 0.5021647109305086, ROC-AUC: 0.7355436306062322                        \n",
      "SPACE:                                                                           \n",
      "{'objective': 'binary:logistic', 'gamma': 0.9, 'predictionCol': 'prediction', 'subsample': 0.9, 'featuresCol': 'features', 'max_depth': 6, 'eta': 0.3, 'min_child_weight': 0.0, 'labelCol': 'label', 'colsample_bytree': 0.9, 'nthread': 1, 'eval_metric': 'logloss', 'nworkers': 1, 'silent': 0, 'num_round': 100}\n",
      "LOG-LOSS: 0.5014767668833914, ROC-AUC: 0.7364040013618715                        \n",
      "SPACE:                                                                           \n",
      "{'objective': 'binary:logistic', 'gamma': 0.9, 'predictionCol': 'prediction', 'subsample': 0.9, 'featuresCol': 'features', 'max_depth': 6, 'eta': 0.3, 'min_child_weight': 10.0, 'labelCol': 'label', 'colsample_bytree': 0.9, 'nthread': 1, 'eval_metric': 'logloss', 'nworkers': 1, 'silent': 0, 'num_round': 100}\n",
      "LOG-LOSS: 0.5013273037973872, ROC-AUC: 0.7368454934630886                        \n",
      "SPACE:                                                                            \n",
      "{'objective': 'binary:logistic', 'gamma': 0.9, 'predictionCol': 'prediction', 'subsample': 0.9, 'featuresCol': 'features', 'max_depth': 6, 'eta': 0.3, 'min_child_weight': 10.0, 'labelCol': 'label', 'colsample_bytree': 0.9, 'nthread': 1, 'eval_metric': 'logloss', 'nworkers': 1, 'silent': 0, 'num_round': 100}\n",
      "LOG-LOSS: 0.5013273037973872, ROC-AUC: 0.7368454934630885                         \n",
      "SPACE:                                                                            \n",
      "{'objective': 'binary:logistic', 'gamma': 0.9, 'predictionCol': 'prediction', 'subsample': 0.9, 'featuresCol': 'features', 'max_depth': 10, 'eta': 0.3, 'min_child_weight': 25.0, 'labelCol': 'label', 'colsample_bytree': 0.9, 'nthread': 1, 'eval_metric': 'logloss', 'nworkers': 1, 'silent': 0, 'num_round': 100}\n",
      "LOG-LOSS: 0.5007839045727842, ROC-AUC: 0.7373997761667589                         \n",
      "SPACE:                                                                            \n",
      "{'objective': 'binary:logistic', 'gamma': 0.9, 'predictionCol': 'prediction', 'subsample': 0.9, 'featuresCol': 'features', 'max_depth': 6, 'eta': 0.3, 'min_child_weight': 0.0, 'labelCol': 'label', 'colsample_bytree': 0.9, 'nthread': 1, 'eval_metric': 'logloss', 'nworkers': 1, 'silent': 0, 'num_round': 100}\n",
      "LOG-LOSS: 0.5014767668833914, ROC-AUC: 0.7364040013618729                         \n",
      "SPACE:                                                                            \n",
      "{'objective': 'binary:logistic', 'gamma': 0.9, 'predictionCol': 'prediction', 'subsample': 0.9, 'featuresCol': 'features', 'max_depth': 10, 'eta': 0.3, 'min_child_weight': 0.0, 'labelCol': 'label', 'colsample_bytree': 0.9, 'nthread': 1, 'eval_metric': 'logloss', 'nworkers': 1, 'silent': 0, 'num_round': 100}\n",
      "LOG-LOSS: 0.5034553033083448, ROC-AUC: 0.7341318285959412                         \n",
      "SPACE:                                                                            \n",
      "{'objective': 'binary:logistic', 'gamma': 0.9, 'predictionCol': 'prediction', 'subsample': 0.9, 'featuresCol': 'features', 'max_depth': 15, 'eta': 0.3, 'min_child_weight': 100.0, 'labelCol': 'label', 'colsample_bytree': 0.9, 'nthread': 1, 'eval_metric': 'logloss', 'nworkers': 1, 'silent': 0, 'num_round': 100}\n",
      "LOG-LOSS: 0.5021647109305086, ROC-AUC: 0.7355436306062344                         \n",
      "SPACE:                                                                            \n",
      "{'objective': 'binary:logistic', 'gamma': 0.9, 'predictionCol': 'prediction', 'subsample': 0.9, 'featuresCol': 'features', 'max_depth': 15, 'eta': 0.3, 'min_child_weight': 25.0, 'labelCol': 'label', 'colsample_bytree': 0.9, 'nthread': 1, 'eval_metric': 'logloss', 'nworkers': 1, 'silent': 0, 'num_round': 100}\n",
      "LOG-LOSS: 0.5039786480112022, ROC-AUC: 0.7329273488240101                         \n",
      "SPACE:                                                                            \n",
      "{'objective': 'binary:logistic', 'gamma': 0.9, 'predictionCol': 'prediction', 'subsample': 0.9, 'featuresCol': 'features', 'max_depth': 6, 'eta': 0.3, 'min_child_weight': 100.0, 'labelCol': 'label', 'colsample_bytree': 0.9, 'nthread': 1, 'eval_metric': 'logloss', 'nworkers': 1, 'silent': 0, 'num_round': 100}\n",
      "LOG-LOSS: 0.5008450794160052, ROC-AUC: 0.7375133902304644                         \n",
      "SPACE:                                                                              \n"
     ]
    },
    {
     "name": "stdout",
     "output_type": "stream",
     "text": [
      "{'objective': 'binary:logistic', 'gamma': 0.9, 'predictionCol': 'prediction', 'subsample': 0.9, 'featuresCol': 'features', 'max_depth': 3, 'eta': 0.3, 'min_child_weight': 10.0, 'labelCol': 'label', 'colsample_bytree': 0.9, 'nthread': 1, 'eval_metric': 'logloss', 'nworkers': 1, 'silent': 0, 'num_round': 100}\n",
      "LOG-LOSS: 0.5052819780829687, ROC-AUC: 0.731377078159076                            \n",
      "SPACE:                                                                              \n",
      "{'objective': 'binary:logistic', 'gamma': 0.9, 'predictionCol': 'prediction', 'subsample': 0.9, 'featuresCol': 'features', 'max_depth': 6, 'eta': 0.3, 'min_child_weight': 10.0, 'labelCol': 'label', 'colsample_bytree': 0.9, 'nthread': 1, 'eval_metric': 'logloss', 'nworkers': 1, 'silent': 0, 'num_round': 100}\n",
      "LOG-LOSS: 0.5013273037973872, ROC-AUC: 0.7368454934630884                           \n",
      "SPACE:                                                                              \n",
      "{'objective': 'binary:logistic', 'gamma': 0.9, 'predictionCol': 'prediction', 'subsample': 0.9, 'featuresCol': 'features', 'max_depth': 15, 'eta': 0.3, 'min_child_weight': 50.0, 'labelCol': 'label', 'colsample_bytree': 0.9, 'nthread': 1, 'eval_metric': 'logloss', 'nworkers': 1, 'silent': 0, 'num_round': 100}\n",
      "LOG-LOSS: 0.5024159959704054, ROC-AUC: 0.7351103619664752                           \n",
      "100%|██████████| 20/20 [1:11:09<00:00, 213.48s/trial, best loss: 0.5007839045727842]\n",
      "CPU times: user 4.59 s, sys: 1.13 s, total: 5.72 s\n",
      "Wall time: 1h 11min 9s\n"
     ]
    },
    {
     "data": {
      "text/plain": [
       "{'max_depth': 2, 'min_child_weight': 2}"
      ]
     },
     "execution_count": 25,
     "metadata": {},
     "output_type": "execute_result"
    }
   ],
   "source": [
    "%%time\n",
    "\n",
    "depth_choice = [3, 6, 10, 15]\n",
    "weight_choice = [0., 10., 25., 50., 100.]\n",
    "\n",
    "space_2 = {\n",
    "    # Optimize\n",
    "    'max_depth': hp.choice('max_depth', depth_choice),\n",
    "    'min_child_weight': hp.choice('min_child_weight', weight_choice),\n",
    "    \n",
    "    # Fixed    \n",
    "    'num_round': best_num_round,\n",
    "    'eta': best_eta,\n",
    "    'subsample': baseline_params['subsample'],\n",
    "    'gamma': baseline_params['gamma'],\n",
    "    'colsample_bytree': baseline_params['colsample_bytree'],\n",
    "    \n",
    "    **static_params\n",
    "}\n",
    "\n",
    "\n",
    "trials_2 = Trials()\n",
    "best_2 = fmin(fn=objective,\n",
    "            space=space_2,\n",
    "            algo=tpe.suggest,\n",
    "            max_evals=20,\n",
    "            trials=trials_2)\n",
    "best_2"
   ]
  },
  {
   "cell_type": "code",
   "execution_count": 26,
   "metadata": {},
   "outputs": [
    {
     "data": {
      "text/plain": [
       "(10, 25.0)"
      ]
     },
     "execution_count": 26,
     "metadata": {},
     "output_type": "execute_result"
    }
   ],
   "source": [
    "best_max_depth = depth_choice[best_2['max_depth']]\n",
    "best_min_child_weight = weight_choice[best_2['min_child_weight']]\n",
    "best_max_depth, best_min_child_weight"
   ]
  },
  {
   "cell_type": "code",
   "execution_count": 27,
   "metadata": {},
   "outputs": [],
   "source": [
    "params_2 = params_1\n",
    "params_2['max_depth'] = best_max_depth\n",
    "params_2['min_child_weight'] = best_min_child_weight\n",
    "model_2 = XGBoostEstimator(**{**static_params, **params_2}).fit(train_df)"
   ]
  },
  {
   "cell_type": "code",
   "execution_count": 28,
   "metadata": {},
   "outputs": [],
   "source": [
    "test_metrics_2 = {\n",
    "    'logloss': logloss(model_2, test_df, probabilities_col='probabilities'),\n",
    "    'rocauc': rocauc(model_2, test_df, probabilities_col='probabilities')\n",
    "}\n",
    "\n",
    "all_metrics['tuning_2'] = test_metrics_2"
   ]
  },
  {
   "cell_type": "code",
   "execution_count": 29,
   "metadata": {},
   "outputs": [
    {
     "data": {
      "text/plain": [
       "{'tuning_1': {'logloss': 0.5044681152479438, 'rocauc': 0.7372459385355252},\n",
       " 'tuning_2': {'logloss': 0.5039979025307851, 'rocauc': 0.7375641863487687},\n",
       " 'xgb baseline': {'logloss': 0.5136055353642643, 'rocauc': 0.7256245795728983}}"
      ]
     },
     "execution_count": 29,
     "metadata": {},
     "output_type": "execute_result"
    }
   ],
   "source": [
    "all_metrics"
   ]
  },
  {
   "cell_type": "markdown",
   "metadata": {},
   "source": [
    "#### Tune gamma"
   ]
  },
  {
   "cell_type": "code",
   "execution_count": 30,
   "metadata": {},
   "outputs": [
    {
     "name": "stdout",
     "output_type": "stream",
     "text": [
      "SPACE:                                                \n",
      "{'objective': 'binary:logistic', 'gamma': 0.1, 'predictionCol': 'prediction', 'subsample': 0.9, 'featuresCol': 'features', 'max_depth': 10, 'eta': 0.3, 'min_child_weight': 25.0, 'labelCol': 'label', 'colsample_bytree': 0.9, 'nthread': 1, 'eval_metric': 'logloss', 'nworkers': 1, 'silent': 0, 'num_round': 100}\n",
      "LOG-LOSS: 0.5004413346099772, ROC-AUC: 0.7378953490855421\n",
      "SPACE:                                                                             \n",
      "{'objective': 'binary:logistic', 'gamma': 0.9, 'predictionCol': 'prediction', 'subsample': 0.9, 'featuresCol': 'features', 'max_depth': 10, 'eta': 0.3, 'min_child_weight': 25.0, 'labelCol': 'label', 'colsample_bytree': 0.9, 'nthread': 1, 'eval_metric': 'logloss', 'nworkers': 1, 'silent': 0, 'num_round': 100}\n",
      "LOG-LOSS: 0.5007839045727842, ROC-AUC: 0.7373997761667603                          \n",
      "SPACE:                                                                             \n",
      "{'objective': 'binary:logistic', 'gamma': 0.9, 'predictionCol': 'prediction', 'subsample': 0.9, 'featuresCol': 'features', 'max_depth': 10, 'eta': 0.3, 'min_child_weight': 25.0, 'labelCol': 'label', 'colsample_bytree': 0.9, 'nthread': 1, 'eval_metric': 'logloss', 'nworkers': 1, 'silent': 0, 'num_round': 100}\n",
      "LOG-LOSS: 0.5007839045727842, ROC-AUC: 0.7373997761667611                          \n",
      "SPACE:                                                                             \n",
      "{'objective': 'binary:logistic', 'gamma': 0.5, 'predictionCol': 'prediction', 'subsample': 0.9, 'featuresCol': 'features', 'max_depth': 10, 'eta': 0.3, 'min_child_weight': 25.0, 'labelCol': 'label', 'colsample_bytree': 0.9, 'nthread': 1, 'eval_metric': 'logloss', 'nworkers': 1, 'silent': 0, 'num_round': 100}\n",
      "LOG-LOSS: 0.5004498897817132, ROC-AUC: 0.7376558728298164                          \n",
      "SPACE:                                                                             \n",
      "{'objective': 'binary:logistic', 'gamma': 3.0, 'predictionCol': 'prediction', 'subsample': 0.9, 'featuresCol': 'features', 'max_depth': 10, 'eta': 0.3, 'min_child_weight': 25.0, 'labelCol': 'label', 'colsample_bytree': 0.9, 'nthread': 1, 'eval_metric': 'logloss', 'nworkers': 1, 'silent': 0, 'num_round': 100}\n",
      "LOG-LOSS: 0.5003067012036071, ROC-AUC: 0.7381433515962883                        \n",
      "SPACE:                                                                           \n",
      "{'objective': 'binary:logistic', 'gamma': 0.1, 'predictionCol': 'prediction', 'subsample': 0.9, 'featuresCol': 'features', 'max_depth': 10, 'eta': 0.3, 'min_child_weight': 25.0, 'labelCol': 'label', 'colsample_bytree': 0.9, 'nthread': 1, 'eval_metric': 'logloss', 'nworkers': 1, 'silent': 0, 'num_round': 100}\n",
      "LOG-LOSS: 0.5004413346099772, ROC-AUC: 0.7378953490855421                        \n",
      "SPACE:                                                                           \n",
      "{'objective': 'binary:logistic', 'gamma': 0.5, 'predictionCol': 'prediction', 'subsample': 0.9, 'featuresCol': 'features', 'max_depth': 10, 'eta': 0.3, 'min_child_weight': 25.0, 'labelCol': 'label', 'colsample_bytree': 0.9, 'nthread': 1, 'eval_metric': 'logloss', 'nworkers': 1, 'silent': 0, 'num_round': 100}\n",
      "LOG-LOSS: 0.5004498897817132, ROC-AUC: 0.7376558728298186                        \n",
      "SPACE:                                                                           \n",
      "{'objective': 'binary:logistic', 'gamma': 0.5, 'predictionCol': 'prediction', 'subsample': 0.9, 'featuresCol': 'features', 'max_depth': 10, 'eta': 0.3, 'min_child_weight': 25.0, 'labelCol': 'label', 'colsample_bytree': 0.9, 'nthread': 1, 'eval_metric': 'logloss', 'nworkers': 1, 'silent': 0, 'num_round': 100}\n",
      "LOG-LOSS: 0.5004498897817132, ROC-AUC: 0.737655872829816                         \n",
      "SPACE:                                                                           \n",
      "{'objective': 'binary:logistic', 'gamma': 3.0, 'predictionCol': 'prediction', 'subsample': 0.9, 'featuresCol': 'features', 'max_depth': 10, 'eta': 0.3, 'min_child_weight': 25.0, 'labelCol': 'label', 'colsample_bytree': 0.9, 'nthread': 1, 'eval_metric': 'logloss', 'nworkers': 1, 'silent': 0, 'num_round': 100}\n",
      "LOG-LOSS: 0.5003067012036071, ROC-AUC: 0.738143351596292                         \n",
      "SPACE:                                                                           \n",
      "{'objective': 'binary:logistic', 'gamma': 0.1, 'predictionCol': 'prediction', 'subsample': 0.9, 'featuresCol': 'features', 'max_depth': 10, 'eta': 0.3, 'min_child_weight': 25.0, 'labelCol': 'label', 'colsample_bytree': 0.9, 'nthread': 1, 'eval_metric': 'logloss', 'nworkers': 1, 'silent': 0, 'num_round': 100}\n",
      "LOG-LOSS: 0.5004413346099772, ROC-AUC: 0.7378953490855409                        \n",
      "SPACE:                                                                            \n",
      "{'objective': 'binary:logistic', 'gamma': 3.0, 'predictionCol': 'prediction', 'subsample': 0.9, 'featuresCol': 'features', 'max_depth': 10, 'eta': 0.3, 'min_child_weight': 25.0, 'labelCol': 'label', 'colsample_bytree': 0.9, 'nthread': 1, 'eval_metric': 'logloss', 'nworkers': 1, 'silent': 0, 'num_round': 100}\n",
      "LOG-LOSS: 0.5003067012036071, ROC-AUC: 0.7381433515962909                         \n",
      "SPACE:                                                                            \n",
      "{'objective': 'binary:logistic', 'gamma': 0.5, 'predictionCol': 'prediction', 'subsample': 0.9, 'featuresCol': 'features', 'max_depth': 10, 'eta': 0.3, 'min_child_weight': 25.0, 'labelCol': 'label', 'colsample_bytree': 0.9, 'nthread': 1, 'eval_metric': 'logloss', 'nworkers': 1, 'silent': 0, 'num_round': 100}\n",
      "LOG-LOSS: 0.5004498897817132, ROC-AUC: 0.7376558728298183                         \n",
      "SPACE:                                                                            \n",
      "{'objective': 'binary:logistic', 'gamma': 1.5, 'predictionCol': 'prediction', 'subsample': 0.9, 'featuresCol': 'features', 'max_depth': 10, 'eta': 0.3, 'min_child_weight': 25.0, 'labelCol': 'label', 'colsample_bytree': 0.9, 'nthread': 1, 'eval_metric': 'logloss', 'nworkers': 1, 'silent': 0, 'num_round': 100}\n",
      "LOG-LOSS: 0.5003646308649412, ROC-AUC: 0.7381636020952942                         \n",
      "SPACE:                                                                            \n",
      "{'objective': 'binary:logistic', 'gamma': 1.5, 'predictionCol': 'prediction', 'subsample': 0.9, 'featuresCol': 'features', 'max_depth': 10, 'eta': 0.3, 'min_child_weight': 25.0, 'labelCol': 'label', 'colsample_bytree': 0.9, 'nthread': 1, 'eval_metric': 'logloss', 'nworkers': 1, 'silent': 0, 'num_round': 100}\n",
      "LOG-LOSS: 0.5003646308649412, ROC-AUC: 0.7381636020952949                         \n",
      "SPACE:                                                                            \n",
      "{'objective': 'binary:logistic', 'gamma': 0.9, 'predictionCol': 'prediction', 'subsample': 0.9, 'featuresCol': 'features', 'max_depth': 10, 'eta': 0.3, 'min_child_weight': 25.0, 'labelCol': 'label', 'colsample_bytree': 0.9, 'nthread': 1, 'eval_metric': 'logloss', 'nworkers': 1, 'silent': 0, 'num_round': 100}\n",
      "LOG-LOSS: 0.5007839045727842, ROC-AUC: 0.7373997761667608                         \n",
      "SPACE:                                                                            \n",
      "{'objective': 'binary:logistic', 'gamma': 3.0, 'predictionCol': 'prediction', 'subsample': 0.9, 'featuresCol': 'features', 'max_depth': 10, 'eta': 0.3, 'min_child_weight': 25.0, 'labelCol': 'label', 'colsample_bytree': 0.9, 'nthread': 1, 'eval_metric': 'logloss', 'nworkers': 1, 'silent': 0, 'num_round': 100}\n",
      "LOG-LOSS: 0.5003067012036071, ROC-AUC: 0.738143351596291                          \n",
      "SPACE:                                                                            \n",
      "{'objective': 'binary:logistic', 'gamma': 3.0, 'predictionCol': 'prediction', 'subsample': 0.9, 'featuresCol': 'features', 'max_depth': 10, 'eta': 0.3, 'min_child_weight': 25.0, 'labelCol': 'label', 'colsample_bytree': 0.9, 'nthread': 1, 'eval_metric': 'logloss', 'nworkers': 1, 'silent': 0, 'num_round': 100}\n",
      "LOG-LOSS: 0.5003067012036071, ROC-AUC: 0.73814335159629                           \n",
      "SPACE:                                                                              \n"
     ]
    },
    {
     "name": "stdout",
     "output_type": "stream",
     "text": [
      "{'objective': 'binary:logistic', 'gamma': 1.5, 'predictionCol': 'prediction', 'subsample': 0.9, 'featuresCol': 'features', 'max_depth': 10, 'eta': 0.3, 'min_child_weight': 25.0, 'labelCol': 'label', 'colsample_bytree': 0.9, 'nthread': 1, 'eval_metric': 'logloss', 'nworkers': 1, 'silent': 0, 'num_round': 100}\n",
      "LOG-LOSS: 0.5003646308649412, ROC-AUC: 0.7381636020952937                           \n",
      "SPACE:                                                                              \n",
      "{'objective': 'binary:logistic', 'gamma': 0.1, 'predictionCol': 'prediction', 'subsample': 0.9, 'featuresCol': 'features', 'max_depth': 10, 'eta': 0.3, 'min_child_weight': 25.0, 'labelCol': 'label', 'colsample_bytree': 0.9, 'nthread': 1, 'eval_metric': 'logloss', 'nworkers': 1, 'silent': 0, 'num_round': 100}\n",
      "LOG-LOSS: 0.5004413346099772, ROC-AUC: 0.7378953490855427                           \n",
      "SPACE:                                                                              \n",
      "{'objective': 'binary:logistic', 'gamma': 0.9, 'predictionCol': 'prediction', 'subsample': 0.9, 'featuresCol': 'features', 'max_depth': 10, 'eta': 0.3, 'min_child_weight': 25.0, 'labelCol': 'label', 'colsample_bytree': 0.9, 'nthread': 1, 'eval_metric': 'logloss', 'nworkers': 1, 'silent': 0, 'num_round': 100}\n",
      "LOG-LOSS: 0.5007839045727842, ROC-AUC: 0.7373997761667599                           \n",
      "100%|██████████| 20/20 [1:13:01<00:00, 219.08s/trial, best loss: 0.5003067012036071]\n",
      "CPU times: user 4.47 s, sys: 1.22 s, total: 5.69 s\n",
      "Wall time: 1h 13min 1s\n"
     ]
    },
    {
     "data": {
      "text/plain": [
       "{'gamma': 4}"
      ]
     },
     "execution_count": 30,
     "metadata": {},
     "output_type": "execute_result"
    }
   ],
   "source": [
    "%%time\n",
    "\n",
    "gamma_choice = [0.1, 0.5, 0.9, 1.5, 3.]\n",
    "\n",
    "space_3 = {\n",
    "    # Optimize\n",
    "    'gamma': hp.choice('gamma', gamma_choice),\n",
    "    \n",
    "    # Fixed    \n",
    "    'num_round': best_num_round,\n",
    "    'eta': best_eta,\n",
    "    'max_depth': best_max_depth,\n",
    "    'min_child_weight': best_min_child_weight,\n",
    "    'subsample': baseline_params['subsample'],\n",
    "    'colsample_bytree': baseline_params['colsample_bytree'],\n",
    "    \n",
    "    **static_params\n",
    "}\n",
    "\n",
    "\n",
    "trials_3 = Trials()\n",
    "best_3 = fmin(fn=objective,\n",
    "            space=space_3,\n",
    "            algo=tpe.suggest,\n",
    "            max_evals=20,\n",
    "            trials=trials_3)\n",
    "best_3"
   ]
  },
  {
   "cell_type": "code",
   "execution_count": 31,
   "metadata": {},
   "outputs": [
    {
     "data": {
      "text/plain": [
       "3.0"
      ]
     },
     "execution_count": 31,
     "metadata": {},
     "output_type": "execute_result"
    }
   ],
   "source": [
    "best_gamma = gamma_choice[best_3['gamma']]\n",
    "best_gamma"
   ]
  },
  {
   "cell_type": "code",
   "execution_count": 32,
   "metadata": {},
   "outputs": [],
   "source": [
    "params_3 = params_2\n",
    "params_3['gamma'] = best_gamma\n",
    "model_3 = XGBoostEstimator(**{**static_params, **params_3}).fit(train_df)"
   ]
  },
  {
   "cell_type": "code",
   "execution_count": 33,
   "metadata": {},
   "outputs": [
    {
     "data": {
      "text/plain": [
       "{'tuning_1': {'logloss': 0.5044681152479438, 'rocauc': 0.7372459385355252},\n",
       " 'tuning_2': {'logloss': 0.5039979025307851, 'rocauc': 0.7375641863487687},\n",
       " 'tuning_3': {'logloss': 0.5037899951124003, 'rocauc': 0.7377762262886989},\n",
       " 'xgb baseline': {'logloss': 0.5136055353642643, 'rocauc': 0.7256245795728983}}"
      ]
     },
     "execution_count": 33,
     "metadata": {},
     "output_type": "execute_result"
    }
   ],
   "source": [
    "test_metrics_3 = {\n",
    "    'logloss': logloss(model_3, test_df, probabilities_col='probabilities'),\n",
    "    'rocauc': rocauc(model_3, test_df, probabilities_col='probabilities')\n",
    "}\n",
    "\n",
    "all_metrics['tuning_3'] = test_metrics_3\n",
    "all_metrics"
   ]
  },
  {
   "cell_type": "markdown",
   "metadata": {},
   "source": [
    "#### Tune subsample, colsample_bytree"
   ]
  },
  {
   "cell_type": "code",
   "execution_count": 34,
   "metadata": {},
   "outputs": [
    {
     "name": "stdout",
     "output_type": "stream",
     "text": [
      "SPACE:                                                \n",
      "{'objective': 'binary:logistic', 'gamma': 3.0, 'predictionCol': 'prediction', 'subsample': 0.9, 'featuresCol': 'features', 'max_depth': 10, 'eta': 0.3, 'min_child_weight': 25.0, 'labelCol': 'label', 'colsample_bytree': 0.05, 'nthread': 1, 'eval_metric': 'logloss', 'nworkers': 1, 'silent': 0, 'num_round': 100}\n",
      "LOG-LOSS: 0.507657021520509, ROC-AUC: 0.7287942119625852\n",
      "SPACE:                                                                         \n",
      "{'objective': 'binary:logistic', 'gamma': 3.0, 'predictionCol': 'prediction', 'subsample': 0.05, 'featuresCol': 'features', 'max_depth': 10, 'eta': 0.3, 'min_child_weight': 25.0, 'labelCol': 'label', 'colsample_bytree': 0.2, 'nthread': 1, 'eval_metric': 'logloss', 'nworkers': 1, 'silent': 0, 'num_round': 100}\n",
      "LOG-LOSS: 0.5144846272537228, ROC-AUC: 0.7184469731759479                      \n",
      "SPACE:                                                                         \n",
      "{'objective': 'binary:logistic', 'gamma': 3.0, 'predictionCol': 'prediction', 'subsample': 0.5, 'featuresCol': 'features', 'max_depth': 10, 'eta': 0.3, 'min_child_weight': 25.0, 'labelCol': 'label', 'colsample_bytree': 0.9, 'nthread': 1, 'eval_metric': 'logloss', 'nworkers': 1, 'silent': 0, 'num_round': 100}\n",
      "LOG-LOSS: 0.5019753805850027, ROC-AUC: 0.736017072146162                       \n",
      "SPACE:                                                                           \n",
      "{'objective': 'binary:logistic', 'gamma': 3.0, 'predictionCol': 'prediction', 'subsample': 0.5, 'featuresCol': 'features', 'max_depth': 10, 'eta': 0.3, 'min_child_weight': 25.0, 'labelCol': 'label', 'colsample_bytree': 0.2, 'nthread': 1, 'eval_metric': 'logloss', 'nworkers': 1, 'silent': 0, 'num_round': 100}\n",
      "LOG-LOSS: 0.5019277204589966, ROC-AUC: 0.7354751265646615                        \n",
      "SPACE:                                                                           \n",
      "{'objective': 'binary:logistic', 'gamma': 3.0, 'predictionCol': 'prediction', 'subsample': 0.05, 'featuresCol': 'features', 'max_depth': 10, 'eta': 0.3, 'min_child_weight': 25.0, 'labelCol': 'label', 'colsample_bytree': 0.9, 'nthread': 1, 'eval_metric': 'logloss', 'nworkers': 1, 'silent': 0, 'num_round': 100}\n",
      "LOG-LOSS: 0.5302113197693147, ROC-AUC: 0.7031907387718439                        \n",
      "SPACE:                                                                           \n",
      "{'objective': 'binary:logistic', 'gamma': 3.0, 'predictionCol': 'prediction', 'subsample': 0.05, 'featuresCol': 'features', 'max_depth': 10, 'eta': 0.3, 'min_child_weight': 25.0, 'labelCol': 'label', 'colsample_bytree': 0.9, 'nthread': 1, 'eval_metric': 'logloss', 'nworkers': 1, 'silent': 0, 'num_round': 100}\n",
      "LOG-LOSS: 0.5302113197693147, ROC-AUC: 0.7031907387718439                        \n",
      "SPACE:                                                                           \n",
      "{'objective': 'binary:logistic', 'gamma': 3.0, 'predictionCol': 'prediction', 'subsample': 0.9, 'featuresCol': 'features', 'max_depth': 10, 'eta': 0.3, 'min_child_weight': 25.0, 'labelCol': 'label', 'colsample_bytree': 0.9, 'nthread': 1, 'eval_metric': 'logloss', 'nworkers': 1, 'silent': 0, 'num_round': 100}\n",
      "LOG-LOSS: 0.5003067012036071, ROC-AUC: 0.738143351596292                         \n",
      "SPACE:                                                                           \n",
      "{'objective': 'binary:logistic', 'gamma': 3.0, 'predictionCol': 'prediction', 'subsample': 0.9, 'featuresCol': 'features', 'max_depth': 10, 'eta': 0.3, 'min_child_weight': 25.0, 'labelCol': 'label', 'colsample_bytree': 0.9, 'nthread': 1, 'eval_metric': 'logloss', 'nworkers': 1, 'silent': 0, 'num_round': 100}\n",
      "LOG-LOSS: 0.5003067012036071, ROC-AUC: 0.73814335159629                          \n",
      "SPACE:                                                                           \n",
      "{'objective': 'binary:logistic', 'gamma': 3.0, 'predictionCol': 'prediction', 'subsample': 0.9, 'featuresCol': 'features', 'max_depth': 10, 'eta': 0.3, 'min_child_weight': 25.0, 'labelCol': 'label', 'colsample_bytree': 0.2, 'nthread': 1, 'eval_metric': 'logloss', 'nworkers': 1, 'silent': 0, 'num_round': 100}\n",
      "LOG-LOSS: 0.5008715062313351, ROC-AUC: 0.7371294838037581                        \n",
      "SPACE:                                                                           \n",
      "{'objective': 'binary:logistic', 'gamma': 3.0, 'predictionCol': 'prediction', 'subsample': 0.9, 'featuresCol': 'features', 'max_depth': 10, 'eta': 0.3, 'min_child_weight': 25.0, 'labelCol': 'label', 'colsample_bytree': 0.9, 'nthread': 1, 'eval_metric': 'logloss', 'nworkers': 1, 'silent': 0, 'num_round': 100}\n",
      "LOG-LOSS: 0.5003067012036071, ROC-AUC: 0.738143351596292                         \n",
      "SPACE:                                                                            \n",
      "{'objective': 'binary:logistic', 'gamma': 3.0, 'predictionCol': 'prediction', 'subsample': 0.2, 'featuresCol': 'features', 'max_depth': 10, 'eta': 0.3, 'min_child_weight': 25.0, 'labelCol': 'label', 'colsample_bytree': 0.2, 'nthread': 1, 'eval_metric': 'logloss', 'nworkers': 1, 'silent': 0, 'num_round': 100}\n",
      "LOG-LOSS: 0.5041368920282794, ROC-AUC: 0.7328886952527348                         \n",
      "SPACE:                                                                            \n",
      "{'objective': 'binary:logistic', 'gamma': 3.0, 'predictionCol': 'prediction', 'subsample': 0.05, 'featuresCol': 'features', 'max_depth': 10, 'eta': 0.3, 'min_child_weight': 25.0, 'labelCol': 'label', 'colsample_bytree': 0.05, 'nthread': 1, 'eval_metric': 'logloss', 'nworkers': 1, 'silent': 0, 'num_round': 100}\n",
      "LOG-LOSS: 0.5145913308379387, ROC-AUC: 0.7178825863454139                         \n",
      "SPACE:                                                                            \n",
      "{'objective': 'binary:logistic', 'gamma': 3.0, 'predictionCol': 'prediction', 'subsample': 0.2, 'featuresCol': 'features', 'max_depth': 10, 'eta': 0.3, 'min_child_weight': 25.0, 'labelCol': 'label', 'colsample_bytree': 0.9, 'nthread': 1, 'eval_metric': 'logloss', 'nworkers': 1, 'silent': 0, 'num_round': 100}\n",
      "LOG-LOSS: 0.5083744347261354, ROC-AUC: 0.727665534371992                          \n",
      "SPACE:                                                                            \n",
      "{'objective': 'binary:logistic', 'gamma': 3.0, 'predictionCol': 'prediction', 'subsample': 0.5, 'featuresCol': 'features', 'max_depth': 10, 'eta': 0.3, 'min_child_weight': 25.0, 'labelCol': 'label', 'colsample_bytree': 0.2, 'nthread': 1, 'eval_metric': 'logloss', 'nworkers': 1, 'silent': 0, 'num_round': 100}\n",
      "LOG-LOSS: 0.5019277204589966, ROC-AUC: 0.735475126564663                          \n",
      "SPACE:                                                                            \n",
      "{'objective': 'binary:logistic', 'gamma': 3.0, 'predictionCol': 'prediction', 'subsample': 0.2, 'featuresCol': 'features', 'max_depth': 10, 'eta': 0.3, 'min_child_weight': 25.0, 'labelCol': 'label', 'colsample_bytree': 0.2, 'nthread': 1, 'eval_metric': 'logloss', 'nworkers': 1, 'silent': 0, 'num_round': 100}\n",
      "LOG-LOSS: 0.5041368920282794, ROC-AUC: 0.732888695252735                          \n",
      "SPACE:                                                                            \n",
      "{'objective': 'binary:logistic', 'gamma': 3.0, 'predictionCol': 'prediction', 'subsample': 0.9, 'featuresCol': 'features', 'max_depth': 10, 'eta': 0.3, 'min_child_weight': 25.0, 'labelCol': 'label', 'colsample_bytree': 0.9, 'nthread': 1, 'eval_metric': 'logloss', 'nworkers': 1, 'silent': 0, 'num_round': 100}\n",
      "LOG-LOSS: 0.5003067012036071, ROC-AUC: 0.73814335159629                           \n",
      "SPACE:                                                                            \n",
      "{'objective': 'binary:logistic', 'gamma': 3.0, 'predictionCol': 'prediction', 'subsample': 0.5, 'featuresCol': 'features', 'max_depth': 10, 'eta': 0.3, 'min_child_weight': 25.0, 'labelCol': 'label', 'colsample_bytree': 0.05, 'nthread': 1, 'eval_metric': 'logloss', 'nworkers': 1, 'silent': 0, 'num_round': 100}\n",
      "LOG-LOSS: 0.508184430521978, ROC-AUC: 0.7279345162736187                          \n",
      "SPACE:                                                                            \n",
      "{'objective': 'binary:logistic', 'gamma': 3.0, 'predictionCol': 'prediction', 'subsample': 0.2, 'featuresCol': 'features', 'max_depth': 10, 'eta': 0.3, 'min_child_weight': 25.0, 'labelCol': 'label', 'colsample_bytree': 0.05, 'nthread': 1, 'eval_metric': 'logloss', 'nworkers': 1, 'silent': 0, 'num_round': 100}\n"
     ]
    },
    {
     "name": "stdout",
     "output_type": "stream",
     "text": [
      "LOG-LOSS: 0.5099170922686153, ROC-AUC: 0.7251827170017763                         \n",
      "SPACE:                                                                            \n",
      "{'objective': 'binary:logistic', 'gamma': 3.0, 'predictionCol': 'prediction', 'subsample': 0.2, 'featuresCol': 'features', 'max_depth': 10, 'eta': 0.3, 'min_child_weight': 25.0, 'labelCol': 'label', 'colsample_bytree': 0.2, 'nthread': 1, 'eval_metric': 'logloss', 'nworkers': 1, 'silent': 0, 'num_round': 100}\n",
      "LOG-LOSS: 0.5041368920282794, ROC-AUC: 0.7328886952527355                         \n",
      "SPACE:                                                                            \n",
      "{'objective': 'binary:logistic', 'gamma': 3.0, 'predictionCol': 'prediction', 'subsample': 0.2, 'featuresCol': 'features', 'max_depth': 10, 'eta': 0.3, 'min_child_weight': 25.0, 'labelCol': 'label', 'colsample_bytree': 0.9, 'nthread': 1, 'eval_metric': 'logloss', 'nworkers': 1, 'silent': 0, 'num_round': 100}\n",
      "LOG-LOSS: 0.5083744347261354, ROC-AUC: 0.7276655343719924                        \n",
      "100%|██████████| 20/20 [43:21<00:00, 130.06s/trial, best loss: 0.5003067012036071]\n",
      "CPU times: user 4.36 s, sys: 988 ms, total: 5.35 s\n",
      "Wall time: 43min 21s\n"
     ]
    },
    {
     "data": {
      "text/plain": [
       "{'colsample_bytree': 3, 'subsample': 3}"
      ]
     },
     "execution_count": 34,
     "metadata": {},
     "output_type": "execute_result"
    }
   ],
   "source": [
    "%%time\n",
    "\n",
    "subsample_choice = [0.05, 0.2, 0.5, 0.9]\n",
    "colsample_bytree_choice = [0.05, 0.2, 0.5, 0.9]\n",
    "\n",
    "space_4 = {\n",
    "    # Optimize\n",
    "    'subsample': hp.choice('subsample', subsample_choice),\n",
    "    'colsample_bytree': hp.choice('colsample_bytree', colsample_bytree_choice),\n",
    "    \n",
    "    # Fixed    \n",
    "    'num_round': best_num_round,\n",
    "    'eta': best_eta,\n",
    "    'max_depth': best_max_depth,\n",
    "    'min_child_weight': best_min_child_weight,\n",
    "    'gamma': best_gamma,\n",
    "    \n",
    "    **static_params\n",
    "}\n",
    "\n",
    "\n",
    "trials_4 = Trials()\n",
    "best_4 = fmin(fn=objective,\n",
    "            space=space_4,\n",
    "            algo=tpe.suggest,\n",
    "            max_evals=20,\n",
    "            trials=trials_4)\n",
    "best_4"
   ]
  },
  {
   "cell_type": "code",
   "execution_count": 35,
   "metadata": {},
   "outputs": [
    {
     "data": {
      "text/plain": [
       "(0.9, 0.9)"
      ]
     },
     "execution_count": 35,
     "metadata": {},
     "output_type": "execute_result"
    }
   ],
   "source": [
    "best_subsample = subsample_choice[best_4['subsample']]\n",
    "best_colsample_bytree = colsample_bytree_choice[best_4['colsample_bytree']]\n",
    "best_subsample, best_colsample_bytree"
   ]
  },
  {
   "cell_type": "code",
   "execution_count": 36,
   "metadata": {},
   "outputs": [],
   "source": [
    "params_4 = params_3\n",
    "params_4['subsample'] = best_subsample\n",
    "params_4['colsample_bytree'] = best_colsample_bytree\n",
    "model_4 = XGBoostEstimator(**{**static_params, **params_4}).fit(train_df)"
   ]
  },
  {
   "cell_type": "code",
   "execution_count": 37,
   "metadata": {},
   "outputs": [
    {
     "data": {
      "text/plain": [
       "{'tuning_1': {'logloss': 0.5044681152479438, 'rocauc': 0.7372459385355252},\n",
       " 'tuning_2': {'logloss': 0.5039979025307851, 'rocauc': 0.7375641863487687},\n",
       " 'tuning_3': {'logloss': 0.5037899951124003, 'rocauc': 0.7377762262886989},\n",
       " 'tuning_4': {'logloss': 0.5037899951124003, 'rocauc': 0.7377762262886988},\n",
       " 'xgb baseline': {'logloss': 0.5136055353642643, 'rocauc': 0.7256245795728983}}"
      ]
     },
     "execution_count": 37,
     "metadata": {},
     "output_type": "execute_result"
    }
   ],
   "source": [
    "test_metrics_4 = {\n",
    "    'logloss': logloss(model_4, test_df, probabilities_col='probabilities'),\n",
    "    'rocauc': rocauc(model_4, test_df, probabilities_col='probabilities')\n",
    "}\n",
    "\n",
    "all_metrics['tuning_4'] = test_metrics_4\n",
    "all_metrics"
   ]
  },
  {
   "cell_type": "markdown",
   "metadata": {},
   "source": [
    "### Tune regularization parameters\n",
    "\n",
    "> Tune regularization parameters (lambda, alpha) for xgboost which can help reduce model complexity and enhance performance."
   ]
  },
  {
   "cell_type": "code",
   "execution_count": 43,
   "metadata": {},
   "outputs": [
    {
     "name": "stdout",
     "output_type": "stream",
     "text": [
      "SPACE:                                                \n",
      "{'objective': 'binary:logistic', 'colsample_bytree': 0.9, 'alpha': 0.0, 'predictionCol': 'prediction', 'subsample': 0.9, 'labelCol': 'label', 'max_depth': 10, 'eta': 0.3, 'min_child_weight': 25.0, 'featuresCol': 'features', 'gamma': 3.0, 'nthread': 1, 'eval_metric': 'logloss', 'lambda': 1.0, 'nworkers': 1, 'silent': 0, 'num_round': 100}\n",
      "LOG-LOSS: 0.5003067012036071, ROC-AUC: 0.7381433515962914\n",
      "SPACE:                                                                             \n",
      "{'objective': 'binary:logistic', 'colsample_bytree': 0.9, 'alpha': 0.7, 'predictionCol': 'prediction', 'subsample': 0.9, 'labelCol': 'label', 'max_depth': 10, 'eta': 0.3, 'min_child_weight': 25.0, 'featuresCol': 'features', 'gamma': 3.0, 'nthread': 1, 'eval_metric': 'logloss', 'lambda': 0.5, 'nworkers': 1, 'silent': 0, 'num_round': 100}\n",
      "LOG-LOSS: 0.5003262929228383, ROC-AUC: 0.7379924883487377                          \n",
      "SPACE:                                                                             \n",
      "{'objective': 'binary:logistic', 'colsample_bytree': 0.9, 'alpha': 1.0, 'predictionCol': 'prediction', 'subsample': 0.9, 'labelCol': 'label', 'max_depth': 10, 'eta': 0.3, 'min_child_weight': 25.0, 'featuresCol': 'features', 'gamma': 3.0, 'nthread': 1, 'eval_metric': 'logloss', 'lambda': 2.0, 'nworkers': 1, 'silent': 0, 'num_round': 100}\n",
      "LOG-LOSS: 0.500552471072924, ROC-AUC: 0.7377250223449182                           \n",
      "SPACE:                                                                             \n",
      "{'objective': 'binary:logistic', 'colsample_bytree': 0.9, 'alpha': 0.0, 'predictionCol': 'prediction', 'subsample': 0.9, 'labelCol': 'label', 'max_depth': 10, 'eta': 0.3, 'min_child_weight': 25.0, 'featuresCol': 'features', 'gamma': 3.0, 'nthread': 1, 'eval_metric': 'logloss', 'lambda': 1.5, 'nworkers': 1, 'silent': 0, 'num_round': 100}\n",
      "LOG-LOSS: 0.5004136510165058, ROC-AUC: 0.7377636006466877                          \n",
      "SPACE:                                                                             \n",
      "{'objective': 'binary:logistic', 'colsample_bytree': 0.9, 'alpha': 0.7, 'predictionCol': 'prediction', 'subsample': 0.9, 'labelCol': 'label', 'max_depth': 10, 'eta': 0.3, 'min_child_weight': 25.0, 'featuresCol': 'features', 'gamma': 3.0, 'nthread': 1, 'eval_metric': 'logloss', 'lambda': 1.0, 'nworkers': 1, 'silent': 0, 'num_round': 100}\n",
      "LOG-LOSS: 0.5002589434308863, ROC-AUC: 0.7379915958368322                        \n",
      "SPACE:                                                                           \n",
      "{'objective': 'binary:logistic', 'colsample_bytree': 0.9, 'alpha': 0.3, 'predictionCol': 'prediction', 'subsample': 0.9, 'labelCol': 'label', 'max_depth': 10, 'eta': 0.3, 'min_child_weight': 25.0, 'featuresCol': 'features', 'gamma': 3.0, 'nthread': 1, 'eval_metric': 'logloss', 'lambda': 2.0, 'nworkers': 1, 'silent': 0, 'num_round': 100}\n",
      "LOG-LOSS: 0.5000670001334999, ROC-AUC: 0.7382517227422619                        \n",
      "SPACE:                                                                           \n",
      "{'objective': 'binary:logistic', 'colsample_bytree': 0.9, 'alpha': 0.3, 'predictionCol': 'prediction', 'subsample': 0.9, 'labelCol': 'label', 'max_depth': 10, 'eta': 0.3, 'min_child_weight': 25.0, 'featuresCol': 'features', 'gamma': 3.0, 'nthread': 1, 'eval_metric': 'logloss', 'lambda': 2.0, 'nworkers': 1, 'silent': 0, 'num_round': 100}\n",
      "LOG-LOSS: 0.5000670001334999, ROC-AUC: 0.7382517227422627                        \n",
      "SPACE:                                                                           \n",
      "{'objective': 'binary:logistic', 'colsample_bytree': 0.9, 'alpha': 1.0, 'predictionCol': 'prediction', 'subsample': 0.9, 'labelCol': 'label', 'max_depth': 10, 'eta': 0.3, 'min_child_weight': 25.0, 'featuresCol': 'features', 'gamma': 3.0, 'nthread': 1, 'eval_metric': 'logloss', 'lambda': 1.5, 'nworkers': 1, 'silent': 0, 'num_round': 100}\n",
      "LOG-LOSS: 0.5002227177393379, ROC-AUC: 0.7382642243422416                        \n",
      "SPACE:                                                                           \n",
      "{'objective': 'binary:logistic', 'colsample_bytree': 0.9, 'alpha': 0.7, 'predictionCol': 'prediction', 'subsample': 0.9, 'labelCol': 'label', 'max_depth': 10, 'eta': 0.3, 'min_child_weight': 25.0, 'featuresCol': 'features', 'gamma': 3.0, 'nthread': 1, 'eval_metric': 'logloss', 'lambda': 1.5, 'nworkers': 1, 'silent': 0, 'num_round': 100}\n",
      "LOG-LOSS: 0.5002763742065226, ROC-AUC: 0.7378954961934652                        \n",
      "SPACE:                                                                           \n",
      "{'objective': 'binary:logistic', 'colsample_bytree': 0.9, 'alpha': 0.7, 'predictionCol': 'prediction', 'subsample': 0.9, 'labelCol': 'label', 'max_depth': 10, 'eta': 0.3, 'min_child_weight': 25.0, 'featuresCol': 'features', 'gamma': 3.0, 'nthread': 1, 'eval_metric': 'logloss', 'lambda': 2.0, 'nworkers': 1, 'silent': 0, 'num_round': 100}\n",
      "LOG-LOSS: 0.5000982366018055, ROC-AUC: 0.7383112579183917                        \n",
      "SPACE:                                                                            \n",
      "{'objective': 'binary:logistic', 'colsample_bytree': 0.9, 'alpha': 0.7, 'predictionCol': 'prediction', 'subsample': 0.9, 'labelCol': 'label', 'max_depth': 10, 'eta': 0.3, 'min_child_weight': 25.0, 'featuresCol': 'features', 'gamma': 3.0, 'nthread': 1, 'eval_metric': 'logloss', 'lambda': 0.5, 'nworkers': 1, 'silent': 0, 'num_round': 100}\n",
      "LOG-LOSS: 0.5003262929228383, ROC-AUC: 0.737992488348737                          \n",
      "SPACE:                                                                            \n",
      "{'objective': 'binary:logistic', 'colsample_bytree': 0.9, 'alpha': 0.3, 'predictionCol': 'prediction', 'subsample': 0.9, 'labelCol': 'label', 'max_depth': 10, 'eta': 0.3, 'min_child_weight': 25.0, 'featuresCol': 'features', 'gamma': 3.0, 'nthread': 1, 'eval_metric': 'logloss', 'lambda': 0.5, 'nworkers': 1, 'silent': 0, 'num_round': 100}\n",
      "LOG-LOSS: 0.5001662256980582, ROC-AUC: 0.7385910089347241                         \n",
      "SPACE:                                                                            \n",
      "{'objective': 'binary:logistic', 'colsample_bytree': 0.9, 'alpha': 1.0, 'predictionCol': 'prediction', 'subsample': 0.9, 'labelCol': 'label', 'max_depth': 10, 'eta': 0.3, 'min_child_weight': 25.0, 'featuresCol': 'features', 'gamma': 3.0, 'nthread': 1, 'eval_metric': 'logloss', 'lambda': 2.0, 'nworkers': 1, 'silent': 0, 'num_round': 100}\n",
      "LOG-LOSS: 0.500552471072924, ROC-AUC: 0.7377250223449193                          \n",
      "SPACE:                                                                            \n",
      "{'objective': 'binary:logistic', 'colsample_bytree': 0.9, 'alpha': 0.0, 'predictionCol': 'prediction', 'subsample': 0.9, 'labelCol': 'label', 'max_depth': 10, 'eta': 0.3, 'min_child_weight': 25.0, 'featuresCol': 'features', 'gamma': 3.0, 'nthread': 1, 'eval_metric': 'logloss', 'lambda': 0.5, 'nworkers': 1, 'silent': 0, 'num_round': 100}\n",
      "LOG-LOSS: 0.5005588763470457, ROC-AUC: 0.7376137214782174                         \n",
      "SPACE:                                                                            \n",
      "{'objective': 'binary:logistic', 'colsample_bytree': 0.9, 'alpha': 0.7, 'predictionCol': 'prediction', 'subsample': 0.9, 'labelCol': 'label', 'max_depth': 10, 'eta': 0.3, 'min_child_weight': 25.0, 'featuresCol': 'features', 'gamma': 3.0, 'nthread': 1, 'eval_metric': 'logloss', 'lambda': 0.5, 'nworkers': 1, 'silent': 0, 'num_round': 100}\n",
      "LOG-LOSS: 0.5003262929228383, ROC-AUC: 0.7379924883487371                         \n",
      "SPACE:                                                                            \n",
      "{'objective': 'binary:logistic', 'colsample_bytree': 0.9, 'alpha': 0.7, 'predictionCol': 'prediction', 'subsample': 0.9, 'labelCol': 'label', 'max_depth': 10, 'eta': 0.3, 'min_child_weight': 25.0, 'featuresCol': 'features', 'gamma': 3.0, 'nthread': 1, 'eval_metric': 'logloss', 'lambda': 1.5, 'nworkers': 1, 'silent': 0, 'num_round': 100}\n",
      "LOG-LOSS: 0.5002763742065226, ROC-AUC: 0.7378954961934636                         \n",
      "SPACE:                                                                            \n",
      "{'objective': 'binary:logistic', 'colsample_bytree': 0.9, 'alpha': 0.0, 'predictionCol': 'prediction', 'subsample': 0.9, 'labelCol': 'label', 'max_depth': 10, 'eta': 0.3, 'min_child_weight': 25.0, 'featuresCol': 'features', 'gamma': 3.0, 'nthread': 1, 'eval_metric': 'logloss', 'lambda': 1.5, 'nworkers': 1, 'silent': 0, 'num_round': 100}\n"
     ]
    },
    {
     "name": "stdout",
     "output_type": "stream",
     "text": [
      "LOG-LOSS: 0.5004136510165058, ROC-AUC: 0.7377636006466887                         \n",
      "SPACE:                                                                              \n",
      "{'objective': 'binary:logistic', 'colsample_bytree': 0.9, 'alpha': 1.0, 'predictionCol': 'prediction', 'subsample': 0.9, 'labelCol': 'label', 'max_depth': 10, 'eta': 0.3, 'min_child_weight': 25.0, 'featuresCol': 'features', 'gamma': 3.0, 'nthread': 1, 'eval_metric': 'logloss', 'lambda': 0.5, 'nworkers': 1, 'silent': 0, 'num_round': 100}\n",
      "LOG-LOSS: 0.5001113606720224, ROC-AUC: 0.7383767947117016                           \n",
      "SPACE:                                                                              \n",
      "{'objective': 'binary:logistic', 'colsample_bytree': 0.9, 'alpha': 0.0, 'predictionCol': 'prediction', 'subsample': 0.9, 'labelCol': 'label', 'max_depth': 10, 'eta': 0.3, 'min_child_weight': 25.0, 'featuresCol': 'features', 'gamma': 3.0, 'nthread': 1, 'eval_metric': 'logloss', 'lambda': 1.5, 'nworkers': 1, 'silent': 0, 'num_round': 100}\n",
      "LOG-LOSS: 0.5004136510165058, ROC-AUC: 0.7377636006466871                           \n",
      "SPACE:                                                                              \n",
      "{'objective': 'binary:logistic', 'colsample_bytree': 0.9, 'alpha': 0.7, 'predictionCol': 'prediction', 'subsample': 0.9, 'labelCol': 'label', 'max_depth': 10, 'eta': 0.3, 'min_child_weight': 25.0, 'featuresCol': 'features', 'gamma': 3.0, 'nthread': 1, 'eval_metric': 'logloss', 'lambda': 1.0, 'nworkers': 1, 'silent': 0, 'num_round': 100}\n",
      "LOG-LOSS: 0.5002589434308863, ROC-AUC: 0.7379915958368316                           \n",
      "100%|██████████| 20/20 [1:12:45<00:00, 218.30s/trial, best loss: 0.5000670001334999]\n",
      "CPU times: user 4.65 s, sys: 1.2 s, total: 5.85 s\n",
      "Wall time: 1h 12min 45s\n"
     ]
    },
    {
     "data": {
      "text/plain": [
       "{'alpha': 1, 'reg_lambda': 3}"
      ]
     },
     "execution_count": 43,
     "metadata": {},
     "output_type": "execute_result"
    }
   ],
   "source": [
    "%%time\n",
    "\n",
    "reg_alpha_choice = [0., 0.3, 0.7, 1.]\n",
    "reg_lambda_choice = [0.5, 1., 1.5, 2.]\n",
    "\n",
    "space_5 = {\n",
    "    # Optimize\n",
    "    'alpha': hp.choice('alpha', reg_alpha_choice),\n",
    "    'reg_lambda': hp.choice('reg_lambda', reg_lambda_choice),\n",
    "    \n",
    "    # Fixed    \n",
    "    'num_round': best_num_round,\n",
    "    'eta': best_eta,\n",
    "    'max_depth': best_max_depth,\n",
    "    'min_child_weight': best_min_child_weight,\n",
    "    'gamma': best_gamma,\n",
    "    'subsample': best_subsample,\n",
    "    'colsample_bytree': best_colsample_bytree,\n",
    "    \n",
    "    **static_params\n",
    "}\n",
    "\n",
    "\n",
    "trials_5 = Trials()\n",
    "best_5 = fmin(fn=objective,\n",
    "            space=space_5,\n",
    "            algo=tpe.suggest,\n",
    "            max_evals=20,\n",
    "            trials=trials_5)\n",
    "best_5"
   ]
  },
  {
   "cell_type": "code",
   "execution_count": 44,
   "metadata": {},
   "outputs": [
    {
     "data": {
      "text/plain": [
       "(0.3, 2.0)"
      ]
     },
     "execution_count": 44,
     "metadata": {},
     "output_type": "execute_result"
    }
   ],
   "source": [
    "best_alpha = reg_alpha_choice[best_5['alpha']]\n",
    "best_lambda = reg_lambda_choice[best_5['reg_lambda']]\n",
    "best_alpha, best_lambda"
   ]
  },
  {
   "cell_type": "code",
   "execution_count": 45,
   "metadata": {},
   "outputs": [],
   "source": [
    "params_5 = params_4\n",
    "params_5['alpha'] = best_alpha\n",
    "params_5['reg_lambda'] = best_lambda\n",
    "model_5 = XGBoostEstimator(**{**static_params, **params_5}).fit(train_df)"
   ]
  },
  {
   "cell_type": "code",
   "execution_count": 46,
   "metadata": {},
   "outputs": [
    {
     "data": {
      "text/plain": [
       "{'tuning_1': {'logloss': 0.5044681152479438, 'rocauc': 0.7372459385355252},\n",
       " 'tuning_2': {'logloss': 0.5039979025307851, 'rocauc': 0.7375641863487687},\n",
       " 'tuning_3': {'logloss': 0.5037899951124003, 'rocauc': 0.7377762262886989},\n",
       " 'tuning_4': {'logloss': 0.5037899951124003, 'rocauc': 0.7377762262886988},\n",
       " 'tuning_5': {'logloss': 0.5036142698997369, 'rocauc': 0.7380073382594455},\n",
       " 'xgb baseline': {'logloss': 0.5136055353642643, 'rocauc': 0.7256245795728983}}"
      ]
     },
     "execution_count": 46,
     "metadata": {},
     "output_type": "execute_result"
    }
   ],
   "source": [
    "test_metrics_5 = {\n",
    "    'logloss': logloss(model_5, test_df, probabilities_col='probabilities'),\n",
    "    'rocauc': rocauc(model_5, test_df, probabilities_col='probabilities')\n",
    "}\n",
    "\n",
    "all_metrics['tuning_5'] = test_metrics_5\n",
    "all_metrics"
   ]
  },
  {
   "cell_type": "markdown",
   "metadata": {},
   "source": [
    "### Lower the learning rate and decide the optimal parameters"
   ]
  },
  {
   "cell_type": "code",
   "execution_count": null,
   "metadata": {},
   "outputs": [],
   "source": [
    "%%time\n",
    "\n",
    "reg_alpha_choice_1 = [0., 0.3, 0.7, 1.]\n",
    "reg_lambda_choice_1 = [0.5, 1., 1.5, 2.]\n",
    "subsample_choice_1 = [0.2, 0.5, 0.9]\n",
    "colsample_bytree_choice_1 = [0.2, 0.5, 0.9]\n",
    "num_round_choice_1 = [100, 200]\n",
    "depth_choice_1 = [6, 10]\n",
    "weight_choice_1 = [25., 100.]\n",
    "gamma_choice_1 = [1.5, 3.]\n",
    "\n",
    "space_all = {\n",
    "    # Optimize\n",
    "    'alpha': hp.choice('alpha', reg_alpha_choice_1),\n",
    "    'reg_lambda': hp.choice('reg_lambda', reg_lambda_choice_1),\n",
    "    'num_round': hp.choice('num_round', num_round_choice_1),\n",
    "    'max_depth': hp.choice('max_depth', depth_choice),\n",
    "    'min_child_weight': hp.choice('min_child_weight', weight_choice_1),\n",
    "    'gamma': hp.choice('gamma', gamma_choice_1),\n",
    "    'subsample': hp.choice('subsample', subsample_choice_1),\n",
    "    'colsample_bytree': hp.choice('colsample_bytree', colsample_bytree_choice_1),\n",
    "    \n",
    "    # Fixed\n",
    "    'eta': 0.1,\n",
    "    \n",
    "    **static_params\n",
    "}\n",
    "\n",
    "\n",
    "trials_all = Trials()\n",
    "best_all = fmin(fn=objective,\n",
    "            space=space_all,\n",
    "            algo=tpe.suggest,\n",
    "            max_evals=30,\n",
    "            trials=trials_all)\n",
    "best_all"
   ]
  },
  {
   "cell_type": "markdown",
   "metadata": {},
   "source": [
    "---\n",
    "## LogisticRegression Tuning\n",
    "\n",
    "Подберем гиперпараметры для логрега из предыдущих практик"
   ]
  },
  {
   "cell_type": "code",
   "execution_count": 62,
   "metadata": {},
   "outputs": [],
   "source": [
    "from hyperopt import fmin, tpe, hp, Trials, STATUS_OK\n",
    "import scipy.stats as st\n",
    "from pyspark.ml.classification import LogisticRegression\n",
    "\n",
    "\n",
    "def objective_logreg(space):\n",
    "    estimator = LogisticRegression(**space)\n",
    "    print('SPACE:', estimator._input_kwargs)\n",
    "    success = False\n",
    "    attempts = 0\n",
    "    model = None\n",
    "    while not success and attempts < 2:\n",
    "        try:\n",
    "            model = estimator.fit(train_df)\n",
    "            success = True\n",
    "        except Exception as e:\n",
    "            attempts += 1\n",
    "            print(e)\n",
    "            print('Try again')\n",
    "        \n",
    "    log_loss = logloss(model, val_df, probabilities_col='probability')\n",
    "    roc_auc = rocauc(model, val_df, probabilities_col='probability')\n",
    "    \n",
    "    print('LOG-LOSS: {}, ROC-AUC: {}'.format(log_loss, roc_auc))\n",
    "\n",
    "    return {'loss': log_loss, 'rocauc': roc_auc, 'status': STATUS_OK }"
   ]
  },
  {
   "cell_type": "code",
   "execution_count": 50,
   "metadata": {},
   "outputs": [],
   "source": [
    "CONTROL_NAME_LR = 'lr baseline'\n",
    "\n",
    "static_params_lr = {\n",
    "    'featuresCol': \"features\", \n",
    "    'labelCol': \"label\", \n",
    "    'maxIter': 20,\n",
    "}\n",
    "baseline_params_lr = {\n",
    "    'regParam': 0.,\n",
    "    'elasticNetParam': 0.\n",
    "}\n",
    "\n",
    "baseline_model_lr = LogisticRegression(**{**static_params_lr, **baseline_params_lr}).fit(train_df)"
   ]
  },
  {
   "cell_type": "code",
   "execution_count": 51,
   "metadata": {},
   "outputs": [
    {
     "data": {
      "text/plain": [
       "{'lr baseline': {'logloss': 0.5311425009219906, 'rocauc': 0.701220311243331},\n",
       " 'tuning_1': {'logloss': 0.5044681152479438, 'rocauc': 0.7372459385355252},\n",
       " 'tuning_2': {'logloss': 0.5039979025307851, 'rocauc': 0.7375641863487687},\n",
       " 'tuning_3': {'logloss': 0.5037899951124003, 'rocauc': 0.7377762262886989},\n",
       " 'tuning_4': {'logloss': 0.5037899951124003, 'rocauc': 0.7377762262886988},\n",
       " 'tuning_5': {'logloss': 0.5036142698997369, 'rocauc': 0.7380073382594455},\n",
       " 'xgb baseline': {'logloss': 0.5136055353642643, 'rocauc': 0.7256245795728983}}"
      ]
     },
     "execution_count": 51,
     "metadata": {},
     "output_type": "execute_result"
    }
   ],
   "source": [
    "baseline_test_metrics_lr = {\n",
    "    'logloss': logloss(baseline_model_lr, test_df, probabilities_col='probability'),\n",
    "    'rocauc': rocauc(baseline_model_lr, test_df, probabilities_col='probability')\n",
    "}\n",
    "\n",
    "all_metrics[CONTROL_NAME_LR] = baseline_test_metrics_lr\n",
    "all_metrics"
   ]
  },
  {
   "cell_type": "code",
   "execution_count": 65,
   "metadata": {},
   "outputs": [
    {
     "name": "stdout",
     "output_type": "stream",
     "text": [
      "SPACE:                                                \n",
      "{'labelCol': 'label', 'maxIter': 20, 'featuresCol': 'features', 'regParam': 0.2, 'elasticNetParam': 0.05}\n",
      "LOG-LOSS: 0.5505850480946579, ROC-AUC: 0.6895118862076596\n",
      "SPACE:                                                                          \n",
      "{'labelCol': 'label', 'maxIter': 20, 'featuresCol': 'features', 'regParam': 0.0, 'elasticNetParam': 0.0}\n",
      "LOG-LOSS: 0.5282379136687766, ROC-AUC: 0.7026184672998435                       \n",
      "SPACE:                                                                          \n",
      "{'labelCol': 'label', 'maxIter': 20, 'featuresCol': 'features', 'regParam': 0.1, 'elasticNetParam': 0.2}\n",
      "LOG-LOSS: 0.5530053395355741, ROC-AUC: 0.6818025752975112                       \n",
      "SPACE:                                                                          \n",
      "{'labelCol': 'label', 'maxIter': 20, 'featuresCol': 'features', 'regParam': 0.1, 'elasticNetParam': 0.05}\n",
      "LOG-LOSS: 0.5411187606053796, ROC-AUC: 0.6955832666439783                       \n",
      "SPACE:                                                                          \n",
      "{'labelCol': 'label', 'maxIter': 20, 'featuresCol': 'features', 'regParam': 0.0, 'elasticNetParam': 0.2}\n",
      "LOG-LOSS: 0.5282379136687766, ROC-AUC: 0.7026184672998429                       \n",
      "SPACE:                                                                          \n",
      "{'labelCol': 'label', 'maxIter': 20, 'featuresCol': 'features', 'regParam': 0.1, 'elasticNetParam': 0.2}\n",
      "LOG-LOSS: 0.5530053395355741, ROC-AUC: 0.6818025752975129                       \n",
      "SPACE:                                                                          \n",
      "{'labelCol': 'label', 'maxIter': 20, 'featuresCol': 'features', 'regParam': 0.0, 'elasticNetParam': 0.0}\n",
      "LOG-LOSS: 0.5282379136687766, ROC-AUC: 0.702618467299843                        \n",
      "SPACE:                                                                          \n",
      "{'labelCol': 'label', 'maxIter': 20, 'featuresCol': 'features', 'regParam': 0.0, 'elasticNetParam': 0.2}\n",
      "LOG-LOSS: 0.5282379136687766, ROC-AUC: 0.702618467299843                        \n",
      "SPACE:                                                                          \n",
      "{'labelCol': 'label', 'maxIter': 20, 'featuresCol': 'features', 'regParam': 0.05, 'elasticNetParam': 0.1}\n",
      "LOG-LOSS: 0.5380969275076872, ROC-AUC: 0.6955655986824284                       \n",
      "SPACE:                                                                          \n",
      "{'labelCol': 'label', 'maxIter': 20, 'featuresCol': 'features', 'regParam': 0.2, 'elasticNetParam': 0.1}\n",
      "LOG-LOSS: 0.5564385705766435, ROC-AUC: 0.6823900162552791                       \n",
      "SPACE:                                                                           \n",
      "{'labelCol': 'label', 'maxIter': 20, 'featuresCol': 'features', 'regParam': 0.2, 'elasticNetParam': 0.05}\n",
      "LOG-LOSS: 0.5505850480946579, ROC-AUC: 0.6895118862076579                        \n",
      "SPACE:                                                                           \n",
      "{'labelCol': 'label', 'maxIter': 20, 'featuresCol': 'features', 'regParam': 0.1, 'elasticNetParam': 0.05}\n",
      "LOG-LOSS: 0.5411187606053796, ROC-AUC: 0.6955832666439804                        \n",
      "SPACE:                                                                           \n",
      "{'labelCol': 'label', 'maxIter': 20, 'featuresCol': 'features', 'regParam': 0.1, 'elasticNetParam': 0.0}\n",
      "LOG-LOSS: 0.5328834442038891, ROC-AUC: 0.6999021193214567                        \n",
      "SPACE:                                                                           \n",
      "{'labelCol': 'label', 'maxIter': 20, 'featuresCol': 'features', 'regParam': 0.0, 'elasticNetParam': 0.05}\n",
      "LOG-LOSS: 0.5282379136687766, ROC-AUC: 0.7026184672998419                        \n",
      "SPACE:                                                                           \n",
      "{'labelCol': 'label', 'maxIter': 20, 'featuresCol': 'features', 'regParam': 0.2, 'elasticNetParam': 0.0}\n",
      "LOG-LOSS: 0.5382906270467248, ROC-AUC: 0.6999655646518647                        \n",
      "SPACE:                                                                           \n",
      "{'labelCol': 'label', 'maxIter': 20, 'featuresCol': 'features', 'regParam': 0.05, 'elasticNetParam': 0.1}\n",
      "LOG-LOSS: 0.5380969275076872, ROC-AUC: 0.6955655986824293                        \n",
      "SPACE:                                                                           \n",
      "{'labelCol': 'label', 'maxIter': 20, 'featuresCol': 'features', 'regParam': 0.2, 'elasticNetParam': 0.2}\n",
      "LOG-LOSS: 0.5624890102626887, ROC-AUC: 0.6641530959495041                        \n",
      "SPACE:                                                                           \n",
      "{'labelCol': 'label', 'maxIter': 20, 'featuresCol': 'features', 'regParam': 0.0, 'elasticNetParam': 0.2}\n",
      "LOG-LOSS: 0.5282379136687766, ROC-AUC: 0.7026184672998441                        \n",
      "SPACE:                                                                           \n",
      "{'labelCol': 'label', 'maxIter': 20, 'featuresCol': 'features', 'regParam': 0.05, 'elasticNetParam': 0.1}\n",
      "LOG-LOSS: 0.5380969275076872, ROC-AUC: 0.695565598682429                         \n",
      "SPACE:                                                                           \n",
      "{'labelCol': 'label', 'maxIter': 20, 'featuresCol': 'features', 'regParam': 0.05, 'elasticNetParam': 0.0}\n",
      "LOG-LOSS: 0.5297008712986241, ROC-AUC: 0.7002083853611409                        \n",
      "100%|██████████| 20/20 [03:43<00:00, 11.19s/trial, best loss: 0.5282379136687766]\n",
      "CPU times: user 2.68 s, sys: 531 ms, total: 3.21 s\n",
      "Wall time: 3min 43s\n"
     ]
    }
   ],
   "source": [
    "%%time\n",
    "\n",
    "regParam_choice = [0., 0.05, 0.1, 0.2]\n",
    "elasticNetParam_choice = [0., 0.05, 0.1, 0.2]\n",
    "\n",
    "space_lr = {\n",
    "    'regParam': hp.choice('regParam', regParam_choice),\n",
    "    'elasticNetParam': hp.choice('elasticNetParam', elasticNetParam_choice),\n",
    "    \n",
    "    **static_params_lr\n",
    "}\n",
    "\n",
    "\n",
    "trials_lr = Trials()\n",
    "best_lr = fmin(fn=objective_logreg,\n",
    "            space=space_lr,\n",
    "            algo=tpe.suggest,\n",
    "            max_evals=20,\n",
    "            trials=trials_lr)"
   ]
  },
  {
   "cell_type": "code",
   "execution_count": 66,
   "metadata": {},
   "outputs": [
    {
     "data": {
      "text/plain": [
       "(0.0, 0.0)"
      ]
     },
     "execution_count": 66,
     "metadata": {},
     "output_type": "execute_result"
    }
   ],
   "source": [
    "best_regParam = regParam_choice[best_lr['regParam']]\n",
    "best_elasticNetParam = elasticNetParam_choice[best_lr['elasticNetParam']]\n",
    "best_regParam, best_elasticNetParam"
   ]
  },
  {
   "cell_type": "code",
   "execution_count": 67,
   "metadata": {},
   "outputs": [],
   "source": [
    "params_lr = baseline_params_lr\n",
    "params_lr['regParam'] = best_regParam\n",
    "params_lr['elasticNetParam'] = best_elasticNetParam\n",
    "model_lr = LogisticRegression(**{**static_params_lr, **params_lr}).fit(train_df)"
   ]
  },
  {
   "cell_type": "code",
   "execution_count": 68,
   "metadata": {},
   "outputs": [
    {
     "data": {
      "text/plain": [
       "{'lr baseline': {'logloss': 0.5311425009219906, 'rocauc': 0.701220311243331},\n",
       " 'lr tuning': {'logloss': 0.5311425009219906, 'rocauc': 0.7012203112433288},\n",
       " 'tuning_1': {'logloss': 0.5044681152479438, 'rocauc': 0.7372459385355252},\n",
       " 'tuning_2': {'logloss': 0.5039979025307851, 'rocauc': 0.7375641863487687},\n",
       " 'tuning_3': {'logloss': 0.5037899951124003, 'rocauc': 0.7377762262886989},\n",
       " 'tuning_4': {'logloss': 0.5037899951124003, 'rocauc': 0.7377762262886988},\n",
       " 'tuning_5': {'logloss': 0.5036142698997369, 'rocauc': 0.7380073382594455},\n",
       " 'xgb baseline': {'logloss': 0.5136055353642643, 'rocauc': 0.7256245795728983}}"
      ]
     },
     "execution_count": 68,
     "metadata": {},
     "output_type": "execute_result"
    }
   ],
   "source": [
    "test_metrics_lr_1 = {\n",
    "    'logloss': logloss(model_lr, test_df, probabilities_col='probability'),\n",
    "    'rocauc': rocauc(model_lr, test_df, probabilities_col='probability')\n",
    "}\n",
    "\n",
    "all_metrics['lr tuning'] = test_metrics_lr_1\n",
    "all_metrics"
   ]
  },
  {
   "cell_type": "markdown",
   "metadata": {},
   "source": [
    "---\n",
    "## Optional [MongoTrials](https://hyperopt.github.io/hyperopt/scaleout/mongodb/)\n",
    "\n",
    "> For parallel search, hyperopt includes a MongoTrials implementation that supports asynchronous updates.\n",
    "\n",
    "**TLDR** Преимущества использования `MongoTrials`:\n",
    "* `MongoTrials` позволяет параллельно запускать несколько вычислений целевой функции\n",
    "* Динамический уровень параллелизма - можно добавлять/удалять воркеров, которые вычисляют целевую функцию\n",
    "* Все результаты сохраняются в БД - история запусков никуда не потеряется\n",
    "\n",
    "*За выполнение данного задания можно получить дополнительно +0.4 к итоговому баллу*"
   ]
  },
  {
   "cell_type": "markdown",
   "metadata": {},
   "source": [
    "### XGBoost Tuning"
   ]
  },
  {
   "cell_type": "code",
   "execution_count": null,
   "metadata": {},
   "outputs": [],
   "source": [
    "######################################\n",
    "######### YOUR CODE HERE #############\n",
    "######################################"
   ]
  },
  {
   "cell_type": "markdown",
   "metadata": {},
   "source": [
    "# Results\n",
    "\n",
    "Подведем итоги.\n",
    "\n",
    "Обучите модели с найденными (оптимальными) гиперпараметрами и сделайте справнение на отложенной выборке"
   ]
  },
  {
   "cell_type": "code",
   "execution_count": null,
   "metadata": {},
   "outputs": [],
   "source": []
  },
  {
   "cell_type": "markdown",
   "metadata": {},
   "source": [
    "Итоговая таблица"
   ]
  },
  {
   "cell_type": "code",
   "execution_count": 23,
   "metadata": {},
   "outputs": [
    {
     "data": {
      "text/html": [
       "<div>\n",
       "<style scoped>\n",
       "    .dataframe tbody tr th:only-of-type {\n",
       "        vertical-align: middle;\n",
       "    }\n",
       "\n",
       "    .dataframe tbody tr th {\n",
       "        vertical-align: top;\n",
       "    }\n",
       "\n",
       "    .dataframe thead th {\n",
       "        text-align: right;\n",
       "    }\n",
       "</style>\n",
       "<table border=\"1\" class=\"dataframe\">\n",
       "  <thead>\n",
       "    <tr style=\"text-align: right;\">\n",
       "      <th></th>\n",
       "      <th>metric</th>\n",
       "      <th>xgb opt ate %</th>\n",
       "    </tr>\n",
       "  </thead>\n",
       "  <tbody>\n",
       "    <tr>\n",
       "      <th>0</th>\n",
       "      <td>logloss</td>\n",
       "      <td>0.000000e+00</td>\n",
       "    </tr>\n",
       "    <tr>\n",
       "      <th>1</th>\n",
       "      <td>rocauc</td>\n",
       "      <td>-1.554312e-13</td>\n",
       "    </tr>\n",
       "  </tbody>\n",
       "</table>\n",
       "</div>"
      ],
      "text/plain": [
       "    metric  xgb opt ate %\n",
       "0  logloss   0.000000e+00\n",
       "1   rocauc  -1.554312e-13"
      ]
     },
     "execution_count": 23,
     "metadata": {},
     "output_type": "execute_result"
    }
   ],
   "source": [
    "get_ate(all_metrics, CONTROL_NAME)"
   ]
  }
 ],
 "metadata": {
  "kernelspec": {
   "display_name": "Python 3",
   "language": "python",
   "name": "python3"
  },
  "language_info": {
   "codemirror_mode": {
    "name": "ipython",
    "version": 3
   },
   "file_extension": ".py",
   "mimetype": "text/x-python",
   "name": "python",
   "nbconvert_exporter": "python",
   "pygments_lexer": "ipython3",
   "version": "3.5.6"
  },
  "toc": {
   "base_numbering": 1,
   "nav_menu": {},
   "number_sections": true,
   "sideBar": true,
   "skip_h1_title": false,
   "title_cell": "Table of Contents",
   "title_sidebar": "Contents",
   "toc_cell": true,
   "toc_position": {},
   "toc_section_display": true,
   "toc_window_display": true
  }
 },
 "nbformat": 4,
 "nbformat_minor": 2
}
